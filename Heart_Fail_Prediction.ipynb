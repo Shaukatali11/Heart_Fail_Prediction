{
 "cells": [
  {
   "cell_type": "markdown",
   "id": "d64ca48c",
   "metadata": {},
   "source": [
    "# Early Heart Failure Risk Prediction"
   ]
  },
  {
   "cell_type": "markdown",
   "id": "061ad5fb",
   "metadata": {},
   "source": [
    "# Problem Statement:\n",
    "Heart failure is a significant health concern worldwide, with high morbidity and mortality rates. Early detection and prediction of heart failure can lead to better patient outcomes by enabling timely interventions and treatments. In this project, we aim to develop a predictive model that can accurately identify individuals at risk of heart failure based on their medical history and physiological measurements"
   ]
  },
  {
   "cell_type": "markdown",
   "id": "c28cc09f",
   "metadata": {},
   "source": [
    "# Project Objective:\n",
    "The objective of this project is to build a machine learning model capable of predicting the likelihood of heart failure in patients using relevant medical features. By analyzing data such as red blood cell count, enzyme levels, comorbidities like diabetes and hypertension, and other physiological indicators, the model will provide healthcare professionals with a tool to assess the risk of heart failure in their patients. Ultimately, the goal is to improve patient care and outcomes by enabling early detection and intervention in individuals at risk of heart failure."
   ]
  },
  {
   "cell_type": "markdown",
   "id": "462a8b3a",
   "metadata": {},
   "source": [
    "# Columns description\n",
    "1. anaemia:Decrease of red blood cells or hemoglobin (boolean)\n",
    "2. creatinine_phosphokinase:Level of the CPK enzyme in the blood (mcg/L)\n",
    "3. diabetes:If the patient has diabetes (boolean)\n",
    "4. ejection_fraction:Ejection fraction (EF) is a measurement, expressed as a percentage, of how much blood the left ventricle pumps out with each contraction\n",
    "5. high_blood_pressure:blood hypertension\n",
    "6. serum_creatinine:Serum creatinine is widely interpreted as a measure only of renal function\n",
    "7. serum_sodium: to see how much sodium is in your blood it is particularly important for nerve and muscle function.\n",
    "8. platelets:are a component of blood whose function (along with the coagulation factors)\n"
   ]
  },
  {
   "cell_type": "code",
   "execution_count": 2,
   "id": "fa6b6083",
   "metadata": {},
   "outputs": [],
   "source": [
    "# manipulation data\n",
    "import pandas as pd\n",
    "import numpy as np\n",
    "\n",
    "#visualiation data\n",
    "import matplotlib.pyplot as plt\n",
    "import seaborn as sns \n",
    "import matplotlib\n",
    "import plotly.graph_objects as go\n",
    "import plotly.express as px"
   ]
  },
  {
   "cell_type": "code",
   "execution_count": 3,
   "id": "38719c79",
   "metadata": {},
   "outputs": [],
   "source": [
    "#default theme\n",
    "sns.set(context='notebook', style='darkgrid', palette='colorblind', font='sans-serif', font_scale=1, rc=None)\n",
    "matplotlib.rcParams['figure.figsize'] =[8,8]\n",
    "matplotlib.rcParams.update({'font.size': 15})\n",
    "matplotlib.rcParams['font.family'] = 'sans-serif'"
   ]
  },
  {
   "cell_type": "markdown",
   "id": "5142c5e4",
   "metadata": {},
   "source": [
    "# Load the Dataset"
   ]
  },
  {
   "cell_type": "code",
   "execution_count": 6,
   "id": "0cb85fb2",
   "metadata": {},
   "outputs": [
    {
     "data": {
      "text/html": [
       "<div>\n",
       "<style scoped>\n",
       "    .dataframe tbody tr th:only-of-type {\n",
       "        vertical-align: middle;\n",
       "    }\n",
       "\n",
       "    .dataframe tbody tr th {\n",
       "        vertical-align: top;\n",
       "    }\n",
       "\n",
       "    .dataframe thead th {\n",
       "        text-align: right;\n",
       "    }\n",
       "</style>\n",
       "<table border=\"1\" class=\"dataframe\">\n",
       "  <thead>\n",
       "    <tr style=\"text-align: right;\">\n",
       "      <th></th>\n",
       "      <th>age</th>\n",
       "      <th>anaemia</th>\n",
       "      <th>creatinine_phosphokinase</th>\n",
       "      <th>diabetes</th>\n",
       "      <th>ejection_fraction</th>\n",
       "      <th>high_blood_pressure</th>\n",
       "      <th>platelets</th>\n",
       "      <th>serum_creatinine</th>\n",
       "      <th>serum_sodium</th>\n",
       "      <th>sex</th>\n",
       "      <th>smoking</th>\n",
       "      <th>time</th>\n",
       "      <th>DEATH_EVENT</th>\n",
       "    </tr>\n",
       "  </thead>\n",
       "  <tbody>\n",
       "    <tr>\n",
       "      <th>0</th>\n",
       "      <td>75.0</td>\n",
       "      <td>0</td>\n",
       "      <td>582</td>\n",
       "      <td>0</td>\n",
       "      <td>20</td>\n",
       "      <td>1</td>\n",
       "      <td>265000.00</td>\n",
       "      <td>1.9</td>\n",
       "      <td>130</td>\n",
       "      <td>1</td>\n",
       "      <td>0</td>\n",
       "      <td>4</td>\n",
       "      <td>1</td>\n",
       "    </tr>\n",
       "    <tr>\n",
       "      <th>1</th>\n",
       "      <td>55.0</td>\n",
       "      <td>0</td>\n",
       "      <td>7861</td>\n",
       "      <td>0</td>\n",
       "      <td>38</td>\n",
       "      <td>0</td>\n",
       "      <td>263358.03</td>\n",
       "      <td>1.1</td>\n",
       "      <td>136</td>\n",
       "      <td>1</td>\n",
       "      <td>0</td>\n",
       "      <td>6</td>\n",
       "      <td>1</td>\n",
       "    </tr>\n",
       "    <tr>\n",
       "      <th>2</th>\n",
       "      <td>65.0</td>\n",
       "      <td>0</td>\n",
       "      <td>146</td>\n",
       "      <td>0</td>\n",
       "      <td>20</td>\n",
       "      <td>0</td>\n",
       "      <td>162000.00</td>\n",
       "      <td>1.3</td>\n",
       "      <td>129</td>\n",
       "      <td>1</td>\n",
       "      <td>1</td>\n",
       "      <td>7</td>\n",
       "      <td>1</td>\n",
       "    </tr>\n",
       "    <tr>\n",
       "      <th>3</th>\n",
       "      <td>50.0</td>\n",
       "      <td>1</td>\n",
       "      <td>111</td>\n",
       "      <td>0</td>\n",
       "      <td>20</td>\n",
       "      <td>0</td>\n",
       "      <td>210000.00</td>\n",
       "      <td>1.9</td>\n",
       "      <td>137</td>\n",
       "      <td>1</td>\n",
       "      <td>0</td>\n",
       "      <td>7</td>\n",
       "      <td>1</td>\n",
       "    </tr>\n",
       "    <tr>\n",
       "      <th>4</th>\n",
       "      <td>65.0</td>\n",
       "      <td>1</td>\n",
       "      <td>160</td>\n",
       "      <td>1</td>\n",
       "      <td>20</td>\n",
       "      <td>0</td>\n",
       "      <td>327000.00</td>\n",
       "      <td>2.7</td>\n",
       "      <td>116</td>\n",
       "      <td>0</td>\n",
       "      <td>0</td>\n",
       "      <td>8</td>\n",
       "      <td>1</td>\n",
       "    </tr>\n",
       "    <tr>\n",
       "      <th>5</th>\n",
       "      <td>90.0</td>\n",
       "      <td>1</td>\n",
       "      <td>47</td>\n",
       "      <td>0</td>\n",
       "      <td>40</td>\n",
       "      <td>1</td>\n",
       "      <td>204000.00</td>\n",
       "      <td>2.1</td>\n",
       "      <td>132</td>\n",
       "      <td>1</td>\n",
       "      <td>1</td>\n",
       "      <td>8</td>\n",
       "      <td>1</td>\n",
       "    </tr>\n",
       "  </tbody>\n",
       "</table>\n",
       "</div>"
      ],
      "text/plain": [
       "    age  anaemia  creatinine_phosphokinase  diabetes  ejection_fraction  \\\n",
       "0  75.0        0                       582         0                 20   \n",
       "1  55.0        0                      7861         0                 38   \n",
       "2  65.0        0                       146         0                 20   \n",
       "3  50.0        1                       111         0                 20   \n",
       "4  65.0        1                       160         1                 20   \n",
       "5  90.0        1                        47         0                 40   \n",
       "\n",
       "   high_blood_pressure  platelets  serum_creatinine  serum_sodium  sex  \\\n",
       "0                    1  265000.00               1.9           130    1   \n",
       "1                    0  263358.03               1.1           136    1   \n",
       "2                    0  162000.00               1.3           129    1   \n",
       "3                    0  210000.00               1.9           137    1   \n",
       "4                    0  327000.00               2.7           116    0   \n",
       "5                    1  204000.00               2.1           132    1   \n",
       "\n",
       "   smoking  time  DEATH_EVENT  \n",
       "0        0     4            1  \n",
       "1        0     6            1  \n",
       "2        1     7            1  \n",
       "3        0     7            1  \n",
       "4        0     8            1  \n",
       "5        1     8            1  "
      ]
     },
     "execution_count": 6,
     "metadata": {},
     "output_type": "execute_result"
    }
   ],
   "source": [
    "train = pd.read_csv('heart_failure_clinical_records_dataset.csv')\n",
    "train.head(6)"
   ]
  },
  {
   "cell_type": "code",
   "execution_count": 7,
   "id": "327b4d48",
   "metadata": {},
   "outputs": [
    {
     "name": "stdout",
     "output_type": "stream",
     "text": [
      "<class 'pandas.core.frame.DataFrame'>\n",
      "RangeIndex: 299 entries, 0 to 298\n",
      "Data columns (total 13 columns):\n",
      " #   Column                    Non-Null Count  Dtype  \n",
      "---  ------                    --------------  -----  \n",
      " 0   age                       299 non-null    float64\n",
      " 1   anaemia                   299 non-null    int64  \n",
      " 2   creatinine_phosphokinase  299 non-null    int64  \n",
      " 3   diabetes                  299 non-null    int64  \n",
      " 4   ejection_fraction         299 non-null    int64  \n",
      " 5   high_blood_pressure       299 non-null    int64  \n",
      " 6   platelets                 299 non-null    float64\n",
      " 7   serum_creatinine          299 non-null    float64\n",
      " 8   serum_sodium              299 non-null    int64  \n",
      " 9   sex                       299 non-null    int64  \n",
      " 10  smoking                   299 non-null    int64  \n",
      " 11  time                      299 non-null    int64  \n",
      " 12  DEATH_EVENT               299 non-null    int64  \n",
      "dtypes: float64(3), int64(10)\n",
      "memory usage: 30.5 KB\n"
     ]
    }
   ],
   "source": [
    "train.info()"
   ]
  },
  {
   "cell_type": "markdown",
   "id": "5005693a",
   "metadata": {},
   "source": [
    "The explode parameter is used to \"explode\" or separate out slices of the pie chart"
   ]
  },
  {
   "cell_type": "code",
   "execution_count": 16,
   "id": "5dbf0959",
   "metadata": {},
   "outputs": [
    {
     "data": {
      "image/png": "[encoded data removed]",
      "text/plain": [
       "<Figure size 576x576 with 1 Axes>"
      ]
     },
     "metadata": {},
     "output_type": "display_data"
    }
   ],
   "source": [
    "train.dtypes.value_counts().plot.pie(explode=[0.1,0.1],autopct='%1.1f%%',shadow=True)\n",
    "plt.title('type of our data');"
   ]
  },
  {
   "cell_type": "code",
   "execution_count": 17,
   "id": "4ec99cae",
   "metadata": {},
   "outputs": [
    {
     "data": {
      "text/plain": [
       "Index(['age', 'anaemia', 'creatinine_phosphokinase', 'diabetes',\n",
       "       'ejection_fraction', 'high_blood_pressure', 'platelets',\n",
       "       'serum_creatinine', 'serum_sodium', 'sex', 'smoking', 'time',\n",
       "       'DEATH_EVENT'],\n",
       "      dtype='object')"
      ]
     },
     "execution_count": 17,
     "metadata": {},
     "output_type": "execute_result"
    }
   ],
   "source": [
    "train.columns"
   ]
  },
  {
   "cell_type": "code",
   "execution_count": 18,
   "id": "83f92ba1",
   "metadata": {},
   "outputs": [
    {
     "data": {
      "text/html": [
       "<div>\n",
       "<style scoped>\n",
       "    .dataframe tbody tr th:only-of-type {\n",
       "        vertical-align: middle;\n",
       "    }\n",
       "\n",
       "    .dataframe tbody tr th {\n",
       "        vertical-align: top;\n",
       "    }\n",
       "\n",
       "    .dataframe thead th {\n",
       "        text-align: right;\n",
       "    }\n",
       "</style>\n",
       "<table border=\"1\" class=\"dataframe\">\n",
       "  <thead>\n",
       "    <tr style=\"text-align: right;\">\n",
       "      <th></th>\n",
       "      <th>age</th>\n",
       "      <th>anaemia</th>\n",
       "      <th>creatinine_phosphokinase</th>\n",
       "      <th>diabetes</th>\n",
       "      <th>ejection_fraction</th>\n",
       "      <th>high_blood_pressure</th>\n",
       "      <th>platelets</th>\n",
       "      <th>serum_creatinine</th>\n",
       "      <th>serum_sodium</th>\n",
       "      <th>sex</th>\n",
       "      <th>smoking</th>\n",
       "      <th>time</th>\n",
       "      <th>DEATH_EVENT</th>\n",
       "    </tr>\n",
       "  </thead>\n",
       "  <tbody>\n",
       "    <tr>\n",
       "      <th>count</th>\n",
       "      <td>299.000000</td>\n",
       "      <td>299.000000</td>\n",
       "      <td>299.000000</td>\n",
       "      <td>299.000000</td>\n",
       "      <td>299.000000</td>\n",
       "      <td>299.000000</td>\n",
       "      <td>299.000000</td>\n",
       "      <td>299.00000</td>\n",
       "      <td>299.000000</td>\n",
       "      <td>299.000000</td>\n",
       "      <td>299.00000</td>\n",
       "      <td>299.000000</td>\n",
       "      <td>299.00000</td>\n",
       "    </tr>\n",
       "    <tr>\n",
       "      <th>mean</th>\n",
       "      <td>60.833893</td>\n",
       "      <td>0.431438</td>\n",
       "      <td>581.839465</td>\n",
       "      <td>0.418060</td>\n",
       "      <td>38.083612</td>\n",
       "      <td>0.351171</td>\n",
       "      <td>263358.029264</td>\n",
       "      <td>1.39388</td>\n",
       "      <td>136.625418</td>\n",
       "      <td>0.648829</td>\n",
       "      <td>0.32107</td>\n",
       "      <td>130.260870</td>\n",
       "      <td>0.32107</td>\n",
       "    </tr>\n",
       "    <tr>\n",
       "      <th>std</th>\n",
       "      <td>11.894809</td>\n",
       "      <td>0.496107</td>\n",
       "      <td>970.287881</td>\n",
       "      <td>0.494067</td>\n",
       "      <td>11.834841</td>\n",
       "      <td>0.478136</td>\n",
       "      <td>97804.236869</td>\n",
       "      <td>1.03451</td>\n",
       "      <td>4.412477</td>\n",
       "      <td>0.478136</td>\n",
       "      <td>0.46767</td>\n",
       "      <td>77.614208</td>\n",
       "      <td>0.46767</td>\n",
       "    </tr>\n",
       "    <tr>\n",
       "      <th>min</th>\n",
       "      <td>40.000000</td>\n",
       "      <td>0.000000</td>\n",
       "      <td>23.000000</td>\n",
       "      <td>0.000000</td>\n",
       "      <td>14.000000</td>\n",
       "      <td>0.000000</td>\n",
       "      <td>25100.000000</td>\n",
       "      <td>0.50000</td>\n",
       "      <td>113.000000</td>\n",
       "      <td>0.000000</td>\n",
       "      <td>0.00000</td>\n",
       "      <td>4.000000</td>\n",
       "      <td>0.00000</td>\n",
       "    </tr>\n",
       "    <tr>\n",
       "      <th>25%</th>\n",
       "      <td>51.000000</td>\n",
       "      <td>0.000000</td>\n",
       "      <td>116.500000</td>\n",
       "      <td>0.000000</td>\n",
       "      <td>30.000000</td>\n",
       "      <td>0.000000</td>\n",
       "      <td>212500.000000</td>\n",
       "      <td>0.90000</td>\n",
       "      <td>134.000000</td>\n",
       "      <td>0.000000</td>\n",
       "      <td>0.00000</td>\n",
       "      <td>73.000000</td>\n",
       "      <td>0.00000</td>\n",
       "    </tr>\n",
       "    <tr>\n",
       "      <th>50%</th>\n",
       "      <td>60.000000</td>\n",
       "      <td>0.000000</td>\n",
       "      <td>250.000000</td>\n",
       "      <td>0.000000</td>\n",
       "      <td>38.000000</td>\n",
       "      <td>0.000000</td>\n",
       "      <td>262000.000000</td>\n",
       "      <td>1.10000</td>\n",
       "      <td>137.000000</td>\n",
       "      <td>1.000000</td>\n",
       "      <td>0.00000</td>\n",
       "      <td>115.000000</td>\n",
       "      <td>0.00000</td>\n",
       "    </tr>\n",
       "    <tr>\n",
       "      <th>75%</th>\n",
       "      <td>70.000000</td>\n",
       "      <td>1.000000</td>\n",
       "      <td>582.000000</td>\n",
       "      <td>1.000000</td>\n",
       "      <td>45.000000</td>\n",
       "      <td>1.000000</td>\n",
       "      <td>303500.000000</td>\n",
       "      <td>1.40000</td>\n",
       "      <td>140.000000</td>\n",
       "      <td>1.000000</td>\n",
       "      <td>1.00000</td>\n",
       "      <td>203.000000</td>\n",
       "      <td>1.00000</td>\n",
       "    </tr>\n",
       "    <tr>\n",
       "      <th>max</th>\n",
       "      <td>95.000000</td>\n",
       "      <td>1.000000</td>\n",
       "      <td>7861.000000</td>\n",
       "      <td>1.000000</td>\n",
       "      <td>80.000000</td>\n",
       "      <td>1.000000</td>\n",
       "      <td>850000.000000</td>\n",
       "      <td>9.40000</td>\n",
       "      <td>148.000000</td>\n",
       "      <td>1.000000</td>\n",
       "      <td>1.00000</td>\n",
       "      <td>285.000000</td>\n",
       "      <td>1.00000</td>\n",
       "    </tr>\n",
       "  </tbody>\n",
       "</table>\n",
       "</div>"
      ],
      "text/plain": [
       "              age     anaemia  creatinine_phosphokinase    diabetes  \\\n",
       "count  299.000000  299.000000                299.000000  299.000000   \n",
       "mean    60.833893    0.431438                581.839465    0.418060   \n",
       "std     11.894809    0.496107                970.287881    0.494067   \n",
       "min     40.000000    0.000000                 23.000000    0.000000   \n",
       "25%     51.000000    0.000000                116.500000    0.000000   \n",
       "50%     60.000000    0.000000                250.000000    0.000000   \n",
       "75%     70.000000    1.000000                582.000000    1.000000   \n",
       "max     95.000000    1.000000               7861.000000    1.000000   \n",
       "\n",
       "       ejection_fraction  high_blood_pressure      platelets  \\\n",
       "count         299.000000           299.000000     299.000000   \n",
       "mean           38.083612             0.351171  263358.029264   \n",
       "std            11.834841             0.478136   97804.236869   \n",
       "min            14.000000             0.000000   25100.000000   \n",
       "25%            30.000000             0.000000  212500.000000   \n",
       "50%            38.000000             0.000000  262000.000000   \n",
       "75%            45.000000             1.000000  303500.000000   \n",
       "max            80.000000             1.000000  850000.000000   \n",
       "\n",
       "       serum_creatinine  serum_sodium         sex    smoking        time  \\\n",
       "count         299.00000    299.000000  299.000000  299.00000  299.000000   \n",
       "mean            1.39388    136.625418    0.648829    0.32107  130.260870   \n",
       "std             1.03451      4.412477    0.478136    0.46767   77.614208   \n",
       "min             0.50000    113.000000    0.000000    0.00000    4.000000   \n",
       "25%             0.90000    134.000000    0.000000    0.00000   73.000000   \n",
       "50%             1.10000    137.000000    1.000000    0.00000  115.000000   \n",
       "75%             1.40000    140.000000    1.000000    1.00000  203.000000   \n",
       "max             9.40000    148.000000    1.000000    1.00000  285.000000   \n",
       "\n",
       "       DEATH_EVENT  \n",
       "count    299.00000  \n",
       "mean       0.32107  \n",
       "std        0.46767  \n",
       "min        0.00000  \n",
       "25%        0.00000  \n",
       "50%        0.00000  \n",
       "75%        1.00000  \n",
       "max        1.00000  "
      ]
     },
     "execution_count": 18,
     "metadata": {},
     "output_type": "execute_result"
    }
   ],
   "source": [
    "train.describe()"
   ]
  },
  {
   "cell_type": "code",
   "execution_count": 19,
   "id": "e23d5116",
   "metadata": {},
   "outputs": [
    {
     "data": {
      "text/plain": [
       "age                         0\n",
       "anaemia                     0\n",
       "creatinine_phosphokinase    0\n",
       "diabetes                    0\n",
       "ejection_fraction           0\n",
       "high_blood_pressure         0\n",
       "platelets                   0\n",
       "serum_creatinine            0\n",
       "serum_sodium                0\n",
       "sex                         0\n",
       "smoking                     0\n",
       "time                        0\n",
       "DEATH_EVENT                 0\n",
       "dtype: int64"
      ]
     },
     "execution_count": 19,
     "metadata": {},
     "output_type": "execute_result"
    }
   ],
   "source": [
    "train.isnull().sum()"
   ]
  },
  {
   "cell_type": "markdown",
   "id": "c688a6a1",
   "metadata": {},
   "source": [
    "# DATA VISUALIZATION"
   ]
  },
  {
   "cell_type": "code",
   "execution_count": 24,
   "id": "ac267e17",
   "metadata": {},
   "outputs": [
    {
     "data": {
      "image/png": "[encoded data removed]",
      "text/plain": [
       "<Figure size 1080x1080 with 16 Axes>"
      ]
     },
     "metadata": {},
     "output_type": "display_data"
    }
   ],
   "source": [
    "train.hist(figsize=(15,15),edgecolor='black')\n",
    "plt.show()"
   ]
  },
  {
   "cell_type": "code",
   "execution_count": null,
   "id": "106674d8",
   "metadata": {},
   "outputs": [],
   "source": []
  },
  {
   "cell_type": "code",
   "execution_count": 28,
   "id": "760262ea",
   "metadata": {},
   "outputs": [
    {
     "data": {
      "image/png": "[encoded data removed]",
      "text/plain": [
       "<Figure size 576x576 with 1 Axes>"
      ]
     },
     "metadata": {},
     "output_type": "display_data"
    }
   ],
   "source": [
    "train.DEATH_EVENT.value_counts().plot.pie(explode=[0.1,0.1],autopct='%1.1f%%',shadow=True)\n",
    "plt.title('The % of deaths')\n",
    "plt.show()"
   ]
  },
  {
   "cell_type": "code",
   "execution_count": 30,
   "id": "79cf7b85",
   "metadata": {},
   "outputs": [
    {
     "data": {
      "image/png": "[encoded data removed]",
      "text/plain": [
       "<Figure size 1440x432 with 1 Axes>"
      ]
     },
     "metadata": {},
     "output_type": "display_data"
    }
   ],
   "source": [
    "plt.figure(figsize=(20,6))\n",
    "sns.countplot(x='age',data=train)\n",
    "plt.xticks(rotation=90)\n",
    "plt.title('Number wrt Age')\n",
    "plt.show()"
   ]
  },
  {
   "cell_type": "code",
   "execution_count": 32,
   "id": "8a19ea1b",
   "metadata": {},
   "outputs": [
    {
     "data": {
      "application/vnd.plotly.v1+json": {
       "config": {
        "plotlyServerURL": "https://plot.ly"
       },
       "data": [
        {
         "marker": {
          "color": "#e8ab60"
         },
         "opacity": 1,
         "type": "histogram",
         "x": [
          75,
          55,
          65,
          50,
          65,
          90,
          75,
          60,
          65,
          80,
          75,
          62,
          45,
          50,
          49,
          82,
          87,
          45,
          70,
          48,
          65,
          65,
          68,
          53,
          75,
          80,
          95,
          70,
          58,
          82,
          94,
          85,
          50,
          50,
          65,
          69,
          90,
          82,
          60,
          60,
          70,
          50,
          70,
          72,
          60,
          50,
          51,
          60,
          80,
          57,
          68,
          53,
          60,
          70,
          60,
          95,
          70,
          60,
          49,
          72,
          45,
          50,
          55,
          45,
          45,
          60,
          42,
          72,
          70,
          65,
          41,
          58,
          85,
          65,
          69,
          60,
          70,
          42,
          75,
          55,
          70,
          67,
          60,
          79,
          59,
          51,
          55,
          65,
          44,
          57,
          70,
          60,
          42,
          60,
          58,
          58,
          63,
          70,
          60,
          63,
          65,
          75,
          80,
          42,
          60,
          72,
          55,
          45,
          63,
          45,
          85,
          55,
          50,
          70,
          60,
          58,
          60,
          85,
          65,
          86,
          60,
          66,
          60,
          60,
          60,
          43,
          46,
          58,
          61,
          53,
          53,
          60,
          46,
          63,
          81,
          75,
          65,
          68,
          62,
          50,
          80,
          46,
          50,
          61,
          72,
          50,
          52,
          64,
          75,
          60,
          72,
          62,
          50,
          50,
          65,
          60,
          52,
          50,
          85,
          59,
          66,
          45,
          63,
          50,
          45,
          80,
          53,
          59,
          65,
          70,
          51,
          52,
          70,
          50,
          65,
          60,
          69,
          49,
          63,
          55,
          40,
          59,
          65,
          75,
          58,
          60.667,
          50,
          60,
          60.667,
          40,
          80,
          64,
          50,
          73,
          45,
          77,
          45,
          65,
          50,
          60,
          63,
          45,
          70,
          60,
          78,
          50,
          40,
          85,
          60,
          49,
          70,
          50,
          78,
          48,
          65,
          73,
          70,
          54,
          68,
          55,
          73,
          65,
          42,
          47,
          58,
          75,
          58,
          55,
          65,
          72,
          60,
          70,
          40,
          53,
          53,
          77,
          75,
          70,
          65,
          55,
          70,
          65,
          40,
          73,
          54,
          61,
          55,
          64,
          40,
          53,
          50,
          55,
          50,
          70,
          53,
          52,
          65,
          58,
          45,
          53,
          55,
          62,
          65,
          68,
          61,
          50,
          55,
          56,
          45,
          40,
          44,
          51,
          67,
          42,
          60,
          45,
          70,
          70,
          50,
          55,
          70,
          70,
          42,
          65,
          50,
          55,
          60,
          45,
          65,
          90,
          45,
          60,
          52,
          63,
          62,
          55,
          45,
          45,
          50
         ],
         "xbins": {
          "end": 95,
          "size": 2,
          "start": 40
         }
        }
       ],
       "layout": {
        "bargap": 0.05,
        "template": {
         "data": {
          "pie": [
           {
            "automargin": true,
            "type": "pie"
           }
          ],
          "scatter": [
           {
            "line": {
             "width": 3
            },
            "marker": {
             "size": 9
            },
            "type": "scatter"
           }
          ],
          "scatter3d": [
           {
            "line": {
             "width": 3
            },
            "marker": {
             "size": 9
            },
            "type": "scatter3d"
           }
          ],
          "scattergeo": [
           {
            "line": {
             "width": 3
            },
            "marker": {
             "size": 9
            },
            "type": "scattergeo"
           }
          ],
          "scattergl": [
           {
            "line": {
             "width": 3
            },
            "marker": {
             "size": 9
            },
            "type": "scattergl"
           }
          ],
          "scatterpolar": [
           {
            "line": {
             "width": 3
            },
            "marker": {
             "size": 9
            },
            "type": "scatterpolar"
           }
          ],
          "scatterpolargl": [
           {
            "line": {
             "width": 3
            },
            "marker": {
             "size": 9
            },
            "type": "scatterpolargl"
           }
          ],
          "scatterternary": [
           {
            "line": {
             "width": 3
            },
            "marker": {
             "size": 9
            },
            "type": "scatterternary"
           }
          ],
          "table": [
           {
            "cells": {
             "height": 30
            },
            "header": {
             "height": 36
            },
            "type": "table"
           }
          ]
         },
         "layout": {
          "font": {
           "size": 18
          },
          "xaxis": {
           "title": {
            "standoff": 15
           }
          },
          "yaxis": {
           "title": {
            "standoff": 15
           }
          }
         }
        },
        "title": {
         "text": "Distribution of Age"
        },
        "xaxis": {
         "showgrid": false,
         "title": {
          "text": "AGE"
         }
        },
        "yaxis": {
         "showgrid": false,
         "title": {
          "text": "COUNT"
         }
        }
       }
      },
      "text/html": [
       "<div>                            <div id=\"21d7147a-5cea-46d0-9bd7-ad8fa28f6a60\" class=\"plotly-graph-div\" style=\"height:525px; width:100%;\"></div>            <script type=\"text/javascript\">                require([\"plotly\"], function(Plotly) {                    window.PLOTLYENV=window.PLOTLYENV || {};                                    if (document.getElementById(\"21d7147a-5cea-46d0-9bd7-ad8fa28f6a60\")) {                    Plotly.newPlot(                        \"21d7147a-5cea-46d0-9bd7-ad8fa28f6a60\",                        [{\"marker\":{\"color\":\"#e8ab60\"},\"opacity\":1,\"x\":[75.0,55.0,65.0,50.0,65.0,90.0,75.0,60.0,65.0,80.0,75.0,62.0,45.0,50.0,49.0,82.0,87.0,45.0,70.0,48.0,65.0,65.0,68.0,53.0,75.0,80.0,95.0,70.0,58.0,82.0,94.0,85.0,50.0,50.0,65.0,69.0,90.0,82.0,60.0,60.0,70.0,50.0,70.0,72.0,60.0,50.0,51.0,60.0,80.0,57.0,68.0,53.0,60.0,70.0,60.0,95.0,70.0,60.0,49.0,72.0,45.0,50.0,55.0,45.0,45.0,60.0,42.0,72.0,70.0,65.0,41.0,58.0,85.0,65.0,69.0,60.0,70.0,42.0,75.0,55.0,70.0,67.0,60.0,79.0,59.0,51.0,55.0,65.0,44.0,57.0,70.0,60.0,42.0,60.0,58.0,58.0,63.0,70.0,60.0,63.0,65.0,75.0,80.0,42.0,60.0,72.0,55.0,45.0,63.0,45.0,85.0,55.0,50.0,70.0,60.0,58.0,60.0,85.0,65.0,86.0,60.0,66.0,60.0,60.0,60.0,43.0,46.0,58.0,61.0,53.0,53.0,60.0,46.0,63.0,81.0,75.0,65.0,68.0,62.0,50.0,80.0,46.0,50.0,61.0,72.0,50.0,52.0,64.0,75.0,60.0,72.0,62.0,50.0,50.0,65.0,60.0,52.0,50.0,85.0,59.0,66.0,45.0,63.0,50.0,45.0,80.0,53.0,59.0,65.0,70.0,51.0,52.0,70.0,50.0,65.0,60.0,69.0,49.0,63.0,55.0,40.0,59.0,65.0,75.0,58.0,60.667,50.0,60.0,60.667,40.0,80.0,64.0,50.0,73.0,45.0,77.0,45.0,65.0,50.0,60.0,63.0,45.0,70.0,60.0,78.0,50.0,40.0,85.0,60.0,49.0,70.0,50.0,78.0,48.0,65.0,73.0,70.0,54.0,68.0,55.0,73.0,65.0,42.0,47.0,58.0,75.0,58.0,55.0,65.0,72.0,60.0,70.0,40.0,53.0,53.0,77.0,75.0,70.0,65.0,55.0,70.0,65.0,40.0,73.0,54.0,61.0,55.0,64.0,40.0,53.0,50.0,55.0,50.0,70.0,53.0,52.0,65.0,58.0,45.0,53.0,55.0,62.0,65.0,68.0,61.0,50.0,55.0,56.0,45.0,40.0,44.0,51.0,67.0,42.0,60.0,45.0,70.0,70.0,50.0,55.0,70.0,70.0,42.0,65.0,50.0,55.0,60.0,45.0,65.0,90.0,45.0,60.0,52.0,63.0,62.0,55.0,45.0,45.0,50.0],\"xbins\":{\"end\":95,\"size\":2,\"start\":40},\"type\":\"histogram\"}],                        {\"template\":{\"data\":{\"pie\":[{\"automargin\":true,\"type\":\"pie\"}],\"scatter3d\":[{\"line\":{\"width\":3},\"marker\":{\"size\":9},\"type\":\"scatter3d\"}],\"scattergeo\":[{\"line\":{\"width\":3},\"marker\":{\"size\":9},\"type\":\"scattergeo\"}],\"scattergl\":[{\"line\":{\"width\":3},\"marker\":{\"size\":9},\"type\":\"scattergl\"}],\"scatterpolargl\":[{\"line\":{\"width\":3},\"marker\":{\"size\":9},\"type\":\"scatterpolargl\"}],\"scatterpolar\":[{\"line\":{\"width\":3},\"marker\":{\"size\":9},\"type\":\"scatterpolar\"}],\"scatter\":[{\"line\":{\"width\":3},\"marker\":{\"size\":9},\"type\":\"scatter\"}],\"scatterternary\":[{\"line\":{\"width\":3},\"marker\":{\"size\":9},\"type\":\"scatterternary\"}],\"table\":[{\"cells\":{\"height\":30},\"header\":{\"height\":36},\"type\":\"table\"}]},\"layout\":{\"font\":{\"size\":18},\"xaxis\":{\"title\":{\"standoff\":15}},\"yaxis\":{\"title\":{\"standoff\":15}}}},\"title\":{\"text\":\"Distribution of Age\"},\"xaxis\":{\"title\":{\"text\":\"AGE\"},\"showgrid\":false},\"yaxis\":{\"title\":{\"text\":\"COUNT\"},\"showgrid\":false},\"bargap\":0.05},                        {\"responsive\": true}                    ).then(function(){\n",
       "                            \n",
       "var gd = document.getElementById('21d7147a-5cea-46d0-9bd7-ad8fa28f6a60');\n",
       "var x = new MutationObserver(function (mutations, observer) {{\n",
       "        var display = window.getComputedStyle(gd).display;\n",
       "        if (!display || display === 'none') {{\n",
       "            console.log([gd, 'removed!']);\n",
       "            Plotly.purge(gd);\n",
       "            observer.disconnect();\n",
       "        }}\n",
       "}});\n",
       "\n",
       "// Listen for the removal of the full notebook cells\n",
       "var notebookContainer = gd.closest('#notebook-container');\n",
       "if (notebookContainer) {{\n",
       "    x.observe(notebookContainer, {childList: true});\n",
       "}}\n",
       "\n",
       "// Listen for the clearing of the current output cell\n",
       "var outputEl = gd.closest('.output');\n",
       "if (outputEl) {{\n",
       "    x.observe(outputEl, {childList: true});\n",
       "}}\n",
       "\n",
       "                        })                };                });            </script>        </div>"
      ]
     },
     "metadata": {},
     "output_type": "display_data"
    }
   ],
   "source": [
    "# Distribution of Age\n",
    "\n",
    "\n",
    "fig = go.Figure()\n",
    "fig.add_trace(go.Histogram(\n",
    "    x = train['age'],\n",
    "    xbins=dict( # bins used for histogram\n",
    "        start=40,\n",
    "        end=95,\n",
    "        size=2\n",
    "    ),\n",
    "    marker_color='#e8ab60',\n",
    "    opacity=1\n",
    "))\n",
    "\n",
    "fig.update_layout(\n",
    "    title_text='Distribution of Age',\n",
    "    xaxis_title_text='AGE',\n",
    "    yaxis_title_text='COUNT', \n",
    "    bargap=0.05, # gap between bars of adjacent location coordinates\n",
    "    xaxis =  {'showgrid': False },\n",
    "    yaxis = {'showgrid': False },\n",
    "    template = 'presentation'\n",
    ")\n",
    "\n",
    "fig.show()"
   ]
  },
  {
   "cell_type": "code",
   "execution_count": 33,
   "id": "fe9ec1cc",
   "metadata": {},
   "outputs": [
    {
     "data": {
      "application/vnd.plotly.v1+json": {
       "config": {
        "plotlyServerURL": "https://plot.ly"
       },
       "data": [
        {
         "alignmentgroup": "True",
         "bingroup": "x",
         "hovertemplate": "DEATH_EVENT=1<br>AGE=%{x}<br>count=%{y}<extra></extra>",
         "legendgroup": "1",
         "marker": {
          "color": "#636efa",
          "pattern": {
           "shape": ""
          }
         },
         "name": "1",
         "offsetgroup": "1",
         "orientation": "v",
         "showlegend": true,
         "type": "histogram",
         "x": [
          75,
          55,
          65,
          50,
          65,
          90,
          75,
          60,
          65,
          80,
          75,
          62,
          45,
          50,
          82,
          87,
          45,
          70,
          48,
          65,
          68,
          75,
          80,
          95,
          70,
          58,
          82,
          94,
          85,
          50,
          65,
          69,
          90,
          82,
          60,
          70,
          50,
          70,
          60,
          50,
          51,
          60,
          80,
          57,
          68,
          53,
          60,
          70,
          60,
          95,
          49,
          72,
          45,
          50,
          45,
          60,
          42,
          72,
          70,
          65,
          85,
          69,
          60,
          60,
          59,
          60,
          72,
          85,
          70,
          86,
          60,
          46,
          80,
          72,
          75,
          72,
          50,
          45,
          80,
          59,
          59,
          65,
          75,
          58,
          60.667,
          50,
          60,
          45,
          77,
          48,
          54,
          73,
          60,
          55,
          65,
          55
         ],
         "xaxis": "x",
         "yaxis": "y"
        },
        {
         "alignmentgroup": "True",
         "customdata": [
          [
           0,
           582,
           0,
           20,
           1,
           265000,
           1.9,
           130,
           1,
           0,
           4,
           1
          ],
          [
           0,
           7861,
           0,
           38,
           0,
           263358.03,
           1.1,
           136,
           1,
           0,
           6,
           1
          ],
          [
           0,
           146,
           0,
           20,
           0,
           162000,
           1.3,
           129,
           1,
           1,
           7,
           1
          ],
          [
           1,
           111,
           0,
           20,
           0,
           210000,
           1.9,
           137,
           1,
           0,
           7,
           1
          ],
          [
           1,
           160,
           1,
           20,
           0,
           327000,
           2.7,
           116,
           0,
           0,
           8,
           1
          ],
          [
           1,
           47,
           0,
           40,
           1,
           204000,
           2.1,
           132,
           1,
           1,
           8,
           1
          ],
          [
           1,
           246,
           0,
           15,
           0,
           127000,
           1.2,
           137,
           1,
           0,
           10,
           1
          ],
          [
           1,
           315,
           1,
           60,
           0,
           454000,
           1.1,
           131,
           1,
           1,
           10,
           1
          ],
          [
           0,
           157,
           0,
           65,
           0,
           263358.03,
           1.5,
           138,
           0,
           0,
           10,
           1
          ],
          [
           1,
           123,
           0,
           35,
           1,
           388000,
           9.4,
           133,
           1,
           1,
           10,
           1
          ],
          [
           1,
           81,
           0,
           38,
           1,
           368000,
           4,
           131,
           1,
           1,
           10,
           1
          ],
          [
           0,
           231,
           0,
           25,
           1,
           253000,
           0.9,
           140,
           1,
           1,
           10,
           1
          ],
          [
           1,
           981,
           0,
           30,
           0,
           136000,
           1.1,
           137,
           1,
           0,
           11,
           1
          ],
          [
           1,
           168,
           0,
           38,
           1,
           276000,
           1.1,
           137,
           1,
           0,
           11,
           1
          ],
          [
           1,
           379,
           0,
           50,
           0,
           47000,
           1.3,
           136,
           1,
           0,
           13,
           1
          ],
          [
           1,
           149,
           0,
           38,
           0,
           262000,
           0.9,
           140,
           1,
           0,
           14,
           1
          ],
          [
           0,
           582,
           0,
           14,
           0,
           166000,
           0.8,
           127,
           1,
           0,
           14,
           1
          ],
          [
           1,
           125,
           0,
           25,
           1,
           237000,
           1,
           140,
           0,
           0,
           15,
           1
          ],
          [
           1,
           582,
           1,
           55,
           0,
           87000,
           1.9,
           121,
           0,
           0,
           15,
           1
          ],
          [
           1,
           128,
           1,
           30,
           1,
           297000,
           1.6,
           136,
           0,
           0,
           20,
           1
          ],
          [
           1,
           220,
           0,
           35,
           1,
           289000,
           0.9,
           140,
           1,
           1,
           20,
           1
          ],
          [
           0,
           582,
           1,
           30,
           1,
           263358.03,
           1.83,
           134,
           0,
           0,
           23,
           1
          ],
          [
           0,
           148,
           1,
           38,
           0,
           149000,
           1.9,
           144,
           1,
           1,
           23,
           1
          ],
          [
           1,
           112,
           0,
           40,
           1,
           196000,
           1,
           138,
           0,
           0,
           24,
           1
          ],
          [
           0,
           122,
           1,
           45,
           1,
           284000,
           1.3,
           136,
           1,
           1,
           26,
           1
          ],
          [
           1,
           60,
           0,
           38,
           0,
           153000,
           5.8,
           134,
           1,
           0,
           26,
           1
          ],
          [
           0,
           70,
           1,
           30,
           0,
           200000,
           1.2,
           132,
           1,
           1,
           26,
           1
          ],
          [
           0,
           582,
           1,
           38,
           1,
           263358.03,
           1.83,
           134,
           1,
           0,
           27,
           1
          ],
          [
           0,
           23,
           0,
           45,
           0,
           360000,
           3,
           132,
           1,
           0,
           28,
           1
          ],
          [
           1,
           249,
           1,
           35,
           1,
           319000,
           1,
           128,
           0,
           0,
           28,
           1
          ],
          [
           0,
           94,
           1,
           50,
           1,
           188000,
           1,
           140,
           1,
           0,
           29,
           1
          ],
          [
           0,
           582,
           1,
           35,
           0,
           228000,
           3.5,
           134,
           1,
           0,
           30,
           1
          ],
          [
           1,
           60,
           1,
           50,
           0,
           226000,
           1,
           134,
           1,
           0,
           30,
           1
          ],
          [
           1,
           855,
           1,
           50,
           1,
           321000,
           1,
           145,
           0,
           0,
           30,
           1
          ],
          [
           0,
           235,
           1,
           38,
           0,
           329000,
           3,
           142,
           0,
           0,
           30,
           1
          ],
          [
           0,
           582,
           0,
           20,
           1,
           263358.03,
           1.83,
           134,
           1,
           1,
           31,
           1
          ],
          [
           0,
           124,
           1,
           30,
           1,
           153000,
           1.2,
           136,
           0,
           1,
           32,
           1
          ],
          [
           0,
           571,
           1,
           45,
           1,
           185000,
           1.2,
           139,
           1,
           1,
           33,
           1
          ],
          [
           1,
           588,
           1,
           60,
           0,
           194000,
           1.1,
           142,
           0,
           0,
           33,
           1
          ],
          [
           0,
           582,
           1,
           38,
           0,
           310000,
           1.9,
           135,
           1,
           1,
           35,
           1
          ],
          [
           0,
           1380,
           0,
           25,
           1,
           271000,
           0.9,
           130,
           1,
           0,
           38,
           1
          ],
          [
           0,
           582,
           1,
           38,
           1,
           451000,
           0.6,
           138,
           1,
           1,
           40,
           1
          ],
          [
           1,
           553,
           0,
           20,
           1,
           140000,
           4.4,
           133,
           1,
           0,
           41,
           1
          ],
          [
           1,
           129,
           0,
           30,
           0,
           395000,
           1,
           140,
           0,
           0,
           42,
           1
          ],
          [
           1,
           577,
           0,
           25,
           1,
           166000,
           1,
           138,
           1,
           0,
           43,
           1
          ],
          [
           1,
           91,
           0,
           20,
           1,
           418000,
           1.4,
           139,
           0,
           0,
           43,
           1
          ],
          [
           0,
           3964,
           1,
           62,
           0,
           263358.03,
           6.8,
           146,
           0,
           0,
           43,
           1
          ],
          [
           1,
           69,
           1,
           50,
           1,
           351000,
           1,
           134,
           0,
           0,
           44,
           1
          ],
          [
           1,
           260,
           1,
           38,
           0,
           255000,
           2.2,
           132,
           0,
           1,
           45,
           1
          ],
          [
           1,
           371,
           0,
           30,
           0,
           461000,
           2,
           132,
           1,
           0,
           50,
           1
          ],
          [
           0,
           789,
           0,
           20,
           1,
           319000,
           1.1,
           136,
           1,
           1,
           55,
           1
          ],
          [
           0,
           364,
           1,
           20,
           1,
           254000,
           1.3,
           136,
           1,
           1,
           59,
           1
          ],
          [
           0,
           7702,
           1,
           25,
           1,
           390000,
           1,
           139,
           1,
           0,
           60,
           1
          ],
          [
           0,
           318,
           0,
           40,
           1,
           216000,
           2.3,
           131,
           0,
           0,
           60,
           1
          ],
          [
           0,
           582,
           0,
           35,
           0,
           385000,
           1,
           145,
           1,
           0,
           61,
           1
          ],
          [
           0,
           68,
           0,
           20,
           0,
           119000,
           2.9,
           127,
           1,
           1,
           64,
           1
          ],
          [
           1,
           250,
           1,
           15,
           0,
           213000,
           1.3,
           136,
           0,
           0,
           65,
           1
          ],
          [
           1,
           110,
           0,
           25,
           0,
           274000,
           1,
           140,
           1,
           1,
           65,
           1
          ],
          [
           0,
           161,
           0,
           25,
           0,
           244000,
           1.2,
           142,
           0,
           0,
           66,
           1
          ],
          [
           0,
           113,
           1,
           25,
           0,
           497000,
           1.83,
           135,
           1,
           0,
           67,
           1
          ],
          [
           0,
           5882,
           0,
           35,
           0,
           243000,
           1,
           132,
           1,
           1,
           72,
           1
          ],
          [
           0,
           582,
           0,
           20,
           0,
           266000,
           1.2,
           134,
           1,
           1,
           73,
           1
          ],
          [
           1,
           47,
           0,
           20,
           0,
           204000,
           0.7,
           139,
           1,
           1,
           73,
           1
          ],
          [
           1,
           76,
           1,
           25,
           0,
           196000,
           2.5,
           132,
           0,
           0,
           77,
           1
          ],
          [
           1,
           280,
           1,
           25,
           1,
           302000,
           1,
           141,
           0,
           0,
           78,
           1
          ],
          [
           1,
           154,
           0,
           25,
           0,
           210000,
           1.7,
           135,
           1,
           0,
           82,
           1
          ],
          [
           1,
           328,
           0,
           30,
           1,
           621000,
           1.7,
           138,
           0,
           1,
           88,
           1
          ],
          [
           0,
           129,
           0,
           60,
           0,
           306000,
           1.2,
           132,
           1,
           1,
           90,
           1
          ],
          [
           1,
           143,
           0,
           60,
           0,
           351000,
           1.3,
           137,
           0,
           0,
           90,
           1
          ],
          [
           0,
           582,
           0,
           38,
           0,
           263358.03,
           1.83,
           134,
           0,
           0,
           95,
           1
          ],
          [
           0,
           582,
           0,
           40,
           0,
           217000,
           3.7,
           134,
           1,
           0,
           96,
           1
          ],
          [
           0,
           168,
           1,
           17,
           1,
           271000,
           2.1,
           124,
           0,
           0,
           100,
           1
          ],
          [
           0,
           805,
           0,
           38,
           0,
           263358.03,
           1.1,
           134,
           1,
           0,
           109,
           1
          ],
          [
           1,
           943,
           0,
           25,
           1,
           338000,
           1.7,
           139,
           1,
           1,
           111,
           1
          ],
          [
           1,
           582,
           0,
           30,
           0,
           225000,
           1.83,
           134,
           1,
           0,
           113,
           1
          ],
          [
           0,
           233,
           0,
           45,
           1,
           235000,
           2.5,
           135,
           0,
           0,
           115,
           1
          ],
          [
           1,
           2334,
           1,
           35,
           0,
           75000,
           0.9,
           142,
           0,
           0,
           126,
           1
          ],
          [
           0,
           2442,
           1,
           30,
           0,
           334000,
           1.1,
           139,
           1,
           0,
           129,
           1
          ],
          [
           0,
           776,
           1,
           38,
           1,
           192000,
           1.3,
           135,
           0,
           0,
           130,
           1
          ],
          [
           0,
           66,
           1,
           20,
           0,
           70000,
           2.4,
           134,
           1,
           0,
           135,
           1
          ],
          [
           1,
           176,
           1,
           25,
           0,
           221000,
           1,
           136,
           1,
           1,
           150,
           1
          ],
          [
           0,
           395,
           1,
           25,
           0,
           265000,
           1.2,
           136,
           1,
           1,
           154,
           1
          ],
          [
           0,
           99,
           0,
           38,
           1,
           224000,
           2.5,
           134,
           1,
           0,
           162,
           1
          ],
          [
           1,
           145,
           0,
           25,
           0,
           219000,
           1.2,
           137,
           1,
           1,
           170,
           1
          ],
          [
           1,
           104,
           1,
           30,
           0,
           389000,
           1.5,
           136,
           1,
           0,
           171,
           1
          ],
          [
           0,
           582,
           0,
           50,
           0,
           153000,
           0.6,
           134,
           0,
           0,
           172,
           1
          ],
          [
           0,
           1896,
           1,
           25,
           0,
           365000,
           2.1,
           144,
           0,
           0,
           172,
           1
          ],
          [
           0,
           582,
           0,
           20,
           1,
           126000,
           1.6,
           135,
           1,
           0,
           180,
           1
          ],
          [
           1,
           418,
           0,
           45,
           0,
           223000,
           1.8,
           145,
           1,
           0,
           180,
           1
          ],
          [
           1,
           131,
           1,
           30,
           1,
           244000,
           1.6,
           130,
           0,
           0,
           193,
           1
          ],
          [
           1,
           427,
           0,
           70,
           1,
           151000,
           9,
           137,
           0,
           0,
           196,
           1
          ],
          [
           0,
           582,
           0,
           20,
           0,
           263358.03,
           1.83,
           134,
           1,
           0,
           198,
           1
          ],
          [
           0,
           166,
           0,
           30,
           0,
           62000,
           1.7,
           127,
           0,
           0,
           207,
           1
          ],
          [
           0,
           2017,
           0,
           25,
           0,
           314000,
           1.1,
           138,
           1,
           0,
           214,
           1
          ],
          [
           1,
           258,
           1,
           25,
           0,
           198000,
           1.4,
           129,
           1,
           0,
           235,
           1
          ],
          [
           0,
           1199,
           0,
           20,
           0,
           263358.03,
           1.83,
           134,
           1,
           1,
           241,
           1
          ]
         ],
         "hovertemplate": "DEATH_EVENT=%{customdata[11]}<br>AGE=%{x}<br>anaemia=%{customdata[0]}<br>creatinine_phosphokinase=%{customdata[1]}<br>diabetes=%{customdata[2]}<br>ejection_fraction=%{customdata[3]}<br>high_blood_pressure=%{customdata[4]}<br>platelets=%{customdata[5]}<br>serum_creatinine=%{customdata[6]}<br>serum_sodium=%{customdata[7]}<br>sex=%{customdata[8]}<br>smoking=%{customdata[9]}<br>time=%{customdata[10]}<extra></extra>",
         "legendgroup": "1",
         "marker": {
          "color": "#636efa"
         },
         "name": "1",
         "offsetgroup": "1",
         "scalegroup": "x",
         "showlegend": false,
         "type": "violin",
         "x": [
          75,
          55,
          65,
          50,
          65,
          90,
          75,
          60,
          65,
          80,
          75,
          62,
          45,
          50,
          82,
          87,
          45,
          70,
          48,
          65,
          68,
          75,
          80,
          95,
          70,
          58,
          82,
          94,
          85,
          50,
          65,
          69,
          90,
          82,
          60,
          70,
          50,
          70,
          60,
          50,
          51,
          60,
          80,
          57,
          68,
          53,
          60,
          70,
          60,
          95,
          49,
          72,
          45,
          50,
          45,
          60,
          42,
          72,
          70,
          65,
          85,
          69,
          60,
          60,
          59,
          60,
          72,
          85,
          70,
          86,
          60,
          46,
          80,
          72,
          75,
          72,
          50,
          45,
          80,
          59,
          59,
          65,
          75,
          58,
          60.667,
          50,
          60,
          45,
          77,
          48,
          54,
          73,
          60,
          55,
          65,
          55
         ],
         "xaxis": "x2",
         "yaxis": "y2"
        },
        {
         "alignmentgroup": "True",
         "bingroup": "x",
         "hovertemplate": "DEATH_EVENT=0<br>AGE=%{x}<br>count=%{y}<extra></extra>",
         "legendgroup": "0",
         "marker": {
          "color": "#EF553B",
          "pattern": {
           "shape": ""
          }
         },
         "name": "0",
         "offsetgroup": "0",
         "orientation": "v",
         "showlegend": true,
         "type": "histogram",
         "x": [
          49,
          65,
          53,
          50,
          60,
          72,
          70,
          60,
          55,
          45,
          41,
          58,
          65,
          70,
          42,
          75,
          55,
          70,
          67,
          79,
          51,
          55,
          65,
          44,
          57,
          70,
          60,
          42,
          58,
          58,
          63,
          70,
          60,
          63,
          65,
          75,
          80,
          42,
          60,
          55,
          45,
          63,
          45,
          55,
          50,
          60,
          58,
          60,
          85,
          65,
          60,
          66,
          60,
          60,
          43,
          58,
          61,
          53,
          53,
          60,
          46,
          63,
          81,
          75,
          65,
          68,
          62,
          50,
          46,
          50,
          61,
          50,
          52,
          64,
          60,
          62,
          50,
          50,
          65,
          60,
          52,
          50,
          85,
          59,
          66,
          45,
          63,
          53,
          65,
          70,
          51,
          52,
          70,
          50,
          65,
          60,
          69,
          49,
          63,
          55,
          40,
          60.667,
          40,
          80,
          64,
          50,
          73,
          45,
          65,
          50,
          60,
          63,
          45,
          70,
          60,
          78,
          50,
          40,
          85,
          60,
          49,
          70,
          50,
          78,
          65,
          73,
          70,
          68,
          55,
          65,
          42,
          47,
          58,
          75,
          58,
          55,
          65,
          72,
          70,
          40,
          53,
          53,
          77,
          75,
          70,
          65,
          55,
          70,
          65,
          40,
          73,
          54,
          61,
          64,
          40,
          53,
          50,
          55,
          50,
          70,
          53,
          52,
          65,
          58,
          45,
          53,
          55,
          62,
          68,
          61,
          50,
          56,
          45,
          40,
          44,
          51,
          67,
          42,
          60,
          45,
          70,
          70,
          50,
          55,
          70,
          70,
          42,
          65,
          50,
          55,
          60,
          45,
          65,
          90,
          45,
          60,
          52,
          63,
          62,
          55,
          45,
          45,
          50
         ],
         "xaxis": "x",
         "yaxis": "y"
        },
        {
         "alignmentgroup": "True",
         "customdata": [
          [
           1,
           80,
           0,
           30,
           1,
           427000,
           1,
           138,
           0,
           0,
           12,
           0
          ],
          [
           1,
           52,
           0,
           25,
           1,
           276000,
           1.3,
           137,
           0,
           0,
           16,
           0
          ],
          [
           0,
           63,
           1,
           60,
           0,
           368000,
           0.8,
           135,
           1,
           0,
           22,
           0
          ],
          [
           1,
           159,
           1,
           30,
           0,
           302000,
           1.2,
           138,
           0,
           0,
           29,
           0
          ],
          [
           0,
           2656,
           1,
           30,
           0,
           305000,
           2.3,
           137,
           1,
           0,
           30,
           0
          ],
          [
           0,
           127,
           1,
           50,
           1,
           218000,
           1,
           134,
           1,
           0,
           33,
           0
          ],
          [
           1,
           75,
           0,
           35,
           0,
           223000,
           2.7,
           138,
           1,
           1,
           54,
           0
          ],
          [
           1,
           607,
           0,
           40,
           0,
           216000,
           0.6,
           138,
           1,
           1,
           54,
           0
          ],
          [
           0,
           109,
           0,
           35,
           0,
           254000,
           1.1,
           139,
           1,
           1,
           60,
           0
          ],
          [
           0,
           582,
           0,
           80,
           0,
           263358.03,
           1.18,
           137,
           0,
           0,
           63,
           0
          ],
          [
           0,
           148,
           0,
           40,
           0,
           374000,
           0.8,
           140,
           1,
           1,
           68,
           0
          ],
          [
           0,
           582,
           1,
           35,
           0,
           122000,
           0.9,
           139,
           1,
           1,
           71,
           0
          ],
          [
           0,
           224,
           1,
           50,
           0,
           149000,
           1.3,
           137,
           1,
           1,
           72,
           0
          ],
          [
           0,
           92,
           0,
           60,
           1,
           317000,
           0.8,
           140,
           0,
           1,
           74,
           0
          ],
          [
           0,
           102,
           1,
           40,
           0,
           237000,
           1.2,
           140,
           1,
           0,
           74,
           0
          ],
          [
           1,
           203,
           1,
           38,
           1,
           283000,
           0.6,
           131,
           1,
           1,
           74,
           0
          ],
          [
           0,
           336,
           0,
           45,
           1,
           324000,
           0.9,
           140,
           0,
           0,
           74,
           0
          ],
          [
           0,
           69,
           0,
           40,
           0,
           293000,
           1.7,
           136,
           0,
           0,
           75,
           0
          ],
          [
           0,
           582,
           0,
           50,
           0,
           263358.03,
           1.18,
           137,
           1,
           1,
           76,
           0
          ],
          [
           1,
           55,
           0,
           50,
           1,
           172000,
           1.8,
           133,
           1,
           0,
           78,
           0
          ],
          [
           0,
           78,
           0,
           50,
           0,
           406000,
           0.7,
           140,
           1,
           0,
           79,
           0
          ],
          [
           0,
           47,
           0,
           35,
           1,
           173000,
           1.1,
           137,
           1,
           0,
           79,
           0
          ],
          [
           1,
           68,
           1,
           60,
           1,
           304000,
           0.8,
           140,
           1,
           0,
           79,
           0
          ],
          [
           0,
           84,
           1,
           40,
           1,
           235000,
           0.7,
           139,
           1,
           0,
           79,
           0
          ],
          [
           1,
           115,
           0,
           25,
           1,
           181000,
           1.1,
           144,
           1,
           0,
           79,
           0
          ],
          [
           0,
           66,
           1,
           45,
           0,
           249000,
           0.8,
           136,
           1,
           1,
           80,
           0
          ],
          [
           0,
           897,
           1,
           45,
           0,
           297000,
           1,
           133,
           1,
           0,
           80,
           0
          ],
          [
           0,
           582,
           0,
           60,
           0,
           263358.03,
           1.18,
           137,
           0,
           0,
           82,
           0
          ],
          [
           0,
           144,
           1,
           38,
           1,
           327000,
           0.7,
           142,
           0,
           0,
           83,
           0
          ],
          [
           1,
           133,
           0,
           60,
           1,
           219000,
           1,
           141,
           1,
           0,
           83,
           0
          ],
          [
           1,
           514,
           1,
           25,
           1,
           254000,
           1.3,
           134,
           1,
           0,
           83,
           0
          ],
          [
           1,
           59,
           0,
           60,
           0,
           255000,
           1.1,
           136,
           0,
           0,
           85,
           0
          ],
          [
           1,
           156,
           1,
           25,
           1,
           318000,
           1.2,
           137,
           0,
           0,
           85,
           0
          ],
          [
           1,
           61,
           1,
           40,
           0,
           221000,
           1.1,
           140,
           0,
           0,
           86,
           0
          ],
          [
           1,
           305,
           0,
           25,
           0,
           298000,
           1.1,
           141,
           1,
           0,
           87,
           0
          ],
          [
           0,
           582,
           0,
           45,
           1,
           263358.03,
           1.18,
           137,
           1,
           0,
           87,
           0
          ],
          [
           0,
           898,
           0,
           25,
           0,
           149000,
           1.1,
           144,
           1,
           1,
           87,
           0
          ],
          [
           0,
           5209,
           0,
           30,
           0,
           226000,
           1,
           140,
           1,
           1,
           87,
           0
          ],
          [
           0,
           53,
           0,
           50,
           1,
           286000,
           2.3,
           143,
           0,
           0,
           87,
           0
          ],
          [
           0,
           748,
           0,
           45,
           0,
           263000,
           1.3,
           137,
           1,
           0,
           88,
           0
          ],
          [
           1,
           1876,
           1,
           35,
           0,
           226000,
           0.9,
           138,
           1,
           0,
           88,
           0
          ],
          [
           0,
           936,
           0,
           38,
           0,
           304000,
           1.1,
           133,
           1,
           1,
           88,
           0
          ],
          [
           0,
           292,
           1,
           35,
           0,
           850000,
           1.3,
           142,
           1,
           1,
           88,
           0
          ],
          [
           0,
           60,
           0,
           35,
           0,
           228000,
           1.2,
           135,
           1,
           1,
           90,
           0
          ],
          [
           0,
           369,
           1,
           25,
           0,
           252000,
           1.6,
           136,
           1,
           0,
           90,
           0
          ],
          [
           1,
           754,
           1,
           40,
           1,
           328000,
           1.2,
           126,
           1,
           0,
           91,
           0
          ],
          [
           1,
           400,
           0,
           40,
           0,
           164000,
           1,
           139,
           0,
           0,
           91,
           0
          ],
          [
           1,
           96,
           1,
           60,
           1,
           271000,
           0.7,
           136,
           0,
           0,
           94,
           0
          ],
          [
           1,
           102,
           0,
           60,
           0,
           507000,
           3.2,
           138,
           0,
           0,
           94,
           0
          ],
          [
           1,
           113,
           1,
           60,
           1,
           203000,
           0.9,
           140,
           0,
           0,
           94,
           0
          ],
          [
           1,
           737,
           0,
           60,
           1,
           210000,
           1.5,
           135,
           1,
           1,
           95,
           0
          ],
          [
           1,
           68,
           1,
           38,
           1,
           162000,
           1,
           136,
           0,
           0,
           95,
           0
          ],
          [
           0,
           96,
           1,
           38,
           0,
           228000,
           0.75,
           140,
           0,
           0,
           95,
           0
          ],
          [
           1,
           582,
           0,
           30,
           1,
           127000,
           0.9,
           145,
           0,
           0,
           95,
           0
          ],
          [
           1,
           358,
           0,
           50,
           0,
           237000,
           1.3,
           135,
           0,
           0,
           97,
           0
          ],
          [
           1,
           200,
           1,
           60,
           0,
           300000,
           0.8,
           137,
           0,
           0,
           104,
           0
          ],
          [
           0,
           248,
           0,
           30,
           1,
           267000,
           0.7,
           136,
           1,
           1,
           104,
           0
          ],
          [
           1,
           270,
           1,
           35,
           0,
           227000,
           3.4,
           145,
           1,
           0,
           105,
           0
          ],
          [
           1,
           1808,
           0,
           60,
           1,
           249000,
           0.7,
           138,
           1,
           1,
           106,
           0
          ],
          [
           1,
           1082,
           1,
           45,
           0,
           250000,
           6.1,
           131,
           1,
           0,
           107,
           0
          ],
          [
           0,
           719,
           0,
           40,
           1,
           263358.03,
           1.18,
           137,
           0,
           0,
           107,
           0
          ],
          [
           0,
           193,
           0,
           60,
           1,
           295000,
           1.3,
           145,
           1,
           1,
           107,
           0
          ],
          [
           0,
           4540,
           0,
           35,
           0,
           231000,
           1.18,
           137,
           1,
           1,
           107,
           0
          ],
          [
           0,
           582,
           0,
           40,
           0,
           263358.03,
           1.18,
           137,
           1,
           0,
           107,
           0
          ],
          [
           1,
           59,
           1,
           60,
           0,
           172000,
           0.9,
           137,
           0,
           0,
           107,
           0
          ],
          [
           1,
           646,
           0,
           25,
           0,
           305000,
           2.1,
           130,
           1,
           0,
           108,
           0
          ],
          [
           0,
           281,
           1,
           35,
           0,
           221000,
           1,
           136,
           0,
           0,
           108,
           0
          ],
          [
           0,
           1548,
           0,
           30,
           1,
           211000,
           0.8,
           138,
           1,
           0,
           108,
           0
          ],
          [
           1,
           291,
           0,
           35,
           0,
           348000,
           0.9,
           140,
           0,
           0,
           109,
           0
          ],
          [
           0,
           482,
           1,
           30,
           0,
           329000,
           0.9,
           132,
           0,
           0,
           109,
           0
          ],
          [
           1,
           84,
           0,
           40,
           1,
           229000,
           0.9,
           141,
           0,
           0,
           110,
           0
          ],
          [
           0,
           185,
           0,
           30,
           0,
           266000,
           0.7,
           141,
           1,
           1,
           112,
           0
          ],
          [
           0,
           132,
           0,
           30,
           0,
           218000,
           0.7,
           136,
           1,
           1,
           112,
           0
          ],
          [
           0,
           1610,
           0,
           60,
           0,
           242000,
           1,
           137,
           1,
           0,
           113,
           0
          ],
          [
           0,
           2261,
           0,
           35,
           1,
           228000,
           0.9,
           136,
           1,
           0,
           115,
           0
          ],
          [
           0,
           30,
           1,
           60,
           1,
           244000,
           0.9,
           139,
           1,
           0,
           117,
           0
          ],
          [
           0,
           115,
           0,
           45,
           1,
           184000,
           0.9,
           134,
           1,
           1,
           118,
           0
          ],
          [
           0,
           1846,
           1,
           35,
           0,
           263358.03,
           1.18,
           137,
           1,
           1,
           119,
           0
          ],
          [
           1,
           335,
           0,
           35,
           1,
           235000,
           0.8,
           136,
           0,
           0,
           120,
           0
          ],
          [
           1,
           231,
           1,
           25,
           0,
           194000,
           1.7,
           140,
           1,
           0,
           120,
           0
          ],
          [
           1,
           58,
           0,
           35,
           0,
           277000,
           1.4,
           136,
           0,
           0,
           120,
           0
          ],
          [
           0,
           250,
           0,
           25,
           0,
           262000,
           1,
           136,
           1,
           1,
           120,
           0
          ],
          [
           1,
           910,
           0,
           50,
           0,
           235000,
           1.3,
           134,
           1,
           0,
           121,
           0
          ],
          [
           1,
           129,
           0,
           45,
           1,
           362000,
           1.1,
           139,
           1,
           1,
           121,
           0
          ],
          [
           1,
           72,
           0,
           40,
           1,
           242000,
           1.2,
           134,
           1,
           0,
           121,
           0
          ],
          [
           1,
           130,
           0,
           35,
           0,
           174000,
           0.8,
           139,
           1,
           1,
           121,
           0
          ],
          [
           1,
           582,
           0,
           40,
           0,
           448000,
           0.9,
           137,
           1,
           1,
           123,
           0
          ],
          [
           0,
           196,
           0,
           60,
           0,
           220000,
           0.7,
           133,
           1,
           1,
           134,
           0
          ],
          [
           0,
           582,
           1,
           40,
           0,
           270000,
           1,
           138,
           0,
           0,
           140,
           0
          ],
          [
           0,
           835,
           0,
           35,
           1,
           305000,
           0.8,
           133,
           0,
           0,
           145,
           0
          ],
          [
           1,
           582,
           1,
           35,
           0,
           263358.03,
           1.5,
           136,
           1,
           1,
           145,
           0
          ],
          [
           0,
           3966,
           0,
           40,
           0,
           325000,
           0.9,
           140,
           1,
           1,
           146,
           0
          ],
          [
           1,
           171,
           0,
           60,
           1,
           176000,
           1.1,
           145,
           1,
           1,
           146,
           0
          ],
          [
           1,
           115,
           0,
           20,
           0,
           189000,
           0.8,
           139,
           1,
           0,
           146,
           0
          ],
          [
           0,
           198,
           1,
           35,
           1,
           281000,
           0.9,
           137,
           1,
           1,
           146,
           0
          ],
          [
           1,
           95,
           0,
           60,
           0,
           337000,
           1,
           138,
           1,
           1,
           146,
           0
          ],
          [
           0,
           1419,
           0,
           40,
           0,
           105000,
           1,
           135,
           1,
           1,
           147,
           0
          ],
          [
           1,
           69,
           0,
           50,
           0,
           132000,
           1,
           140,
           0,
           0,
           147,
           0
          ],
          [
           1,
           122,
           1,
           60,
           0,
           267000,
           1.2,
           145,
           1,
           0,
           147,
           0
          ],
          [
           0,
           835,
           0,
           40,
           0,
           279000,
           0.7,
           140,
           1,
           1,
           147,
           0
          ],
          [
           0,
           478,
           1,
           30,
           0,
           303000,
           0.9,
           136,
           1,
           0,
           148,
           0
          ],
          [
           1,
           151,
           1,
           40,
           1,
           201000,
           1,
           136,
           0,
           0,
           172,
           0
          ],
          [
           0,
           244,
           0,
           45,
           1,
           275000,
           0.9,
           140,
           0,
           0,
           174,
           0
          ],
          [
           0,
           582,
           1,
           35,
           0,
           350000,
           2.1,
           134,
           1,
           0,
           174,
           0
          ],
          [
           1,
           62,
           0,
           60,
           0,
           309000,
           1.5,
           135,
           0,
           0,
           174,
           0
          ],
          [
           1,
           121,
           1,
           40,
           0,
           260000,
           0.7,
           130,
           1,
           0,
           175,
           0
          ],
          [
           1,
           231,
           1,
           30,
           0,
           160000,
           1.18,
           142,
           1,
           1,
           180,
           0
          ],
          [
           0,
           582,
           1,
           38,
           1,
           263358.03,
           1.18,
           137,
           0,
           0,
           185,
           0
          ],
          [
           0,
           167,
           0,
           30,
           0,
           259000,
           0.8,
           138,
           0,
           0,
           186,
           0
          ],
          [
           1,
           582,
           1,
           20,
           1,
           279000,
           1,
           134,
           0,
           0,
           186,
           0
          ],
          [
           0,
           1211,
           1,
           35,
           0,
           263358.03,
           1.8,
           113,
           1,
           1,
           186,
           0
          ],
          [
           1,
           1767,
           0,
           45,
           0,
           73000,
           0.7,
           137,
           1,
           0,
           186,
           0
          ],
          [
           0,
           308,
           1,
           60,
           1,
           377000,
           1,
           136,
           1,
           0,
           186,
           0
          ],
          [
           0,
           97,
           0,
           60,
           1,
           220000,
           0.9,
           138,
           1,
           0,
           186,
           0
          ],
          [
           0,
           59,
           0,
           25,
           1,
           212000,
           3.5,
           136,
           1,
           1,
           187,
           0
          ],
          [
           1,
           64,
           0,
           40,
           0,
           277000,
           0.7,
           137,
           1,
           1,
           187,
           0
          ],
          [
           1,
           167,
           1,
           45,
           0,
           362000,
           1,
           136,
           0,
           0,
           187,
           0
          ],
          [
           1,
           101,
           0,
           40,
           0,
           226000,
           0.8,
           141,
           0,
           0,
           187,
           0
          ],
          [
           0,
           212,
           0,
           38,
           0,
           186000,
           0.9,
           136,
           1,
           0,
           187,
           0
          ],
          [
           1,
           2281,
           1,
           40,
           0,
           283000,
           1,
           141,
           0,
           0,
           187,
           0
          ],
          [
           0,
           972,
           1,
           35,
           1,
           268000,
           0.8,
           130,
           0,
           0,
           187,
           0
          ],
          [
           0,
           212,
           1,
           17,
           1,
           389000,
           1,
           136,
           1,
           1,
           188,
           0
          ],
          [
           0,
           582,
           0,
           62,
           1,
           147000,
           0.8,
           140,
           1,
           1,
           192,
           0
          ],
          [
           0,
           224,
           0,
           50,
           0,
           481000,
           1.4,
           138,
           1,
           1,
           192,
           0
          ],
          [
           1,
           135,
           0,
           35,
           1,
           290000,
           0.8,
           134,
           1,
           0,
           194,
           0
          ],
          [
           0,
           582,
           0,
           35,
           1,
           203000,
           1.3,
           134,
           1,
           0,
           195,
           0
          ],
          [
           0,
           1202,
           0,
           50,
           1,
           358000,
           0.9,
           141,
           0,
           0,
           196,
           0
          ],
          [
           1,
           1021,
           1,
           35,
           0,
           271000,
           1.1,
           134,
           1,
           0,
           197,
           0
          ],
          [
           0,
           582,
           1,
           35,
           1,
           371000,
           0.7,
           140,
           0,
           0,
           197,
           0
          ],
          [
           0,
           118,
           0,
           50,
           0,
           194000,
           1.1,
           145,
           1,
           1,
           200,
           0
          ],
          [
           1,
           86,
           0,
           35,
           0,
           365000,
           1.1,
           139,
           1,
           1,
           201,
           0
          ],
          [
           0,
           582,
           0,
           25,
           0,
           130000,
           0.8,
           134,
           1,
           0,
           201,
           0
          ],
          [
           0,
           582,
           1,
           25,
           0,
           504000,
           1,
           138,
           1,
           0,
           205,
           0
          ],
          [
           0,
           675,
           1,
           60,
           0,
           265000,
           1.4,
           125,
           0,
           0,
           205,
           0
          ],
          [
           1,
           57,
           0,
           25,
           0,
           189000,
           1.3,
           132,
           1,
           1,
           205,
           0
          ],
          [
           1,
           2794,
           0,
           35,
           1,
           141000,
           1,
           140,
           1,
           0,
           206,
           0
          ],
          [
           0,
           56,
           0,
           25,
           0,
           237000,
           5,
           130,
           0,
           0,
           207,
           0
          ],
          [
           0,
           211,
           0,
           25,
           0,
           274000,
           1.2,
           134,
           0,
           0,
           207,
           0
          ],
          [
           0,
           93,
           0,
           35,
           0,
           185000,
           1.1,
           134,
           1,
           1,
           208,
           0
          ],
          [
           1,
           129,
           0,
           35,
           0,
           255000,
           0.9,
           137,
           1,
           0,
           209,
           0
          ],
          [
           1,
           707,
           0,
           38,
           0,
           330000,
           1.4,
           137,
           1,
           1,
           209,
           0
          ],
          [
           1,
           582,
           0,
           45,
           0,
           305000,
           1.1,
           137,
           1,
           1,
           209,
           0
          ],
          [
           1,
           109,
           0,
           50,
           1,
           406000,
           1.1,
           137,
           1,
           0,
           209,
           0
          ],
          [
           0,
           119,
           0,
           50,
           1,
           248000,
           1.1,
           148,
           1,
           0,
           209,
           0
          ],
          [
           0,
           232,
           0,
           30,
           0,
           173000,
           1.2,
           132,
           1,
           0,
           210,
           0
          ],
          [
           1,
           720,
           1,
           40,
           0,
           257000,
           1,
           136,
           0,
           0,
           210,
           0
          ],
          [
           1,
           180,
           0,
           45,
           0,
           263358.03,
           1.18,
           137,
           1,
           1,
           211,
           0
          ],
          [
           0,
           81,
           1,
           35,
           1,
           533000,
           1.3,
           139,
           0,
           0,
           212,
           0
          ],
          [
           0,
           582,
           1,
           30,
           0,
           249000,
           1.3,
           136,
           1,
           1,
           212,
           0
          ],
          [
           0,
           90,
           0,
           35,
           0,
           255000,
           1.1,
           136,
           1,
           1,
           212,
           0
          ],
          [
           1,
           1185,
           0,
           40,
           1,
           220000,
           0.9,
           141,
           0,
           0,
           213,
           0
          ],
          [
           0,
           582,
           1,
           38,
           0,
           264000,
           1.8,
           134,
           1,
           0,
           213,
           0
          ],
          [
           1,
           80,
           1,
           38,
           0,
           282000,
           1.4,
           137,
           1,
           0,
           213,
           0
          ],
          [
           0,
           143,
           0,
           25,
           0,
           246000,
           2.4,
           135,
           1,
           0,
           214,
           0
          ],
          [
           0,
           624,
           0,
           35,
           0,
           301000,
           1,
           142,
           1,
           1,
           214,
           0
          ],
          [
           0,
           207,
           1,
           40,
           0,
           223000,
           1.2,
           130,
           0,
           0,
           214,
           0
          ],
          [
           0,
           2522,
           0,
           30,
           1,
           404000,
           0.5,
           139,
           0,
           0,
           214,
           0
          ],
          [
           0,
           572,
           1,
           35,
           0,
           231000,
           0.8,
           143,
           0,
           0,
           215,
           0
          ],
          [
           0,
           245,
           0,
           45,
           1,
           274000,
           1,
           133,
           1,
           0,
           215,
           0
          ],
          [
           0,
           88,
           1,
           35,
           1,
           236000,
           1.2,
           132,
           0,
           0,
           215,
           0
          ],
          [
           1,
           446,
           0,
           60,
           1,
           263358.03,
           1,
           139,
           1,
           0,
           215,
           0
          ],
          [
           1,
           191,
           1,
           30,
           1,
           334000,
           1,
           142,
           1,
           1,
           216,
           0
          ],
          [
           0,
           326,
           0,
           38,
           0,
           294000,
           1.7,
           139,
           0,
           0,
           220,
           0
          ],
          [
           0,
           132,
           1,
           38,
           1,
           253000,
           1,
           139,
           1,
           0,
           230,
           0
          ],
          [
           1,
           66,
           1,
           25,
           0,
           233000,
           0.8,
           135,
           1,
           0,
           230,
           0
          ],
          [
           0,
           56,
           0,
           50,
           0,
           308000,
           0.7,
           135,
           1,
           1,
           231,
           0
          ],
          [
           0,
           66,
           0,
           40,
           0,
           203000,
           1,
           138,
           1,
           0,
           233,
           0
          ],
          [
           1,
           655,
           0,
           40,
           0,
           283000,
           0.7,
           133,
           0,
           0,
           233,
           0
          ],
          [
           1,
           157,
           1,
           60,
           0,
           208000,
           1,
           140,
           0,
           0,
           237,
           0
          ],
          [
           0,
           582,
           1,
           38,
           0,
           147000,
           1.2,
           141,
           1,
           0,
           237,
           0
          ],
          [
           1,
           298,
           0,
           35,
           0,
           362000,
           0.9,
           140,
           1,
           1,
           240,
           0
          ],
          [
           1,
           135,
           1,
           38,
           0,
           133000,
           1.7,
           140,
           1,
           0,
           244,
           0
          ],
          [
           0,
           582,
           1,
           38,
           0,
           302000,
           0.9,
           140,
           0,
           0,
           244,
           0
          ],
          [
           0,
           582,
           1,
           35,
           0,
           222000,
           1,
           132,
           1,
           0,
           244,
           0
          ],
          [
           0,
           582,
           1,
           30,
           1,
           263358.03,
           1.6,
           130,
           1,
           1,
           244,
           0
          ],
          [
           0,
           582,
           1,
           40,
           0,
           221000,
           0.9,
           134,
           0,
           0,
           244,
           0
          ],
          [
           0,
           213,
           0,
           38,
           0,
           215000,
           1.2,
           133,
           0,
           0,
           245,
           0
          ],
          [
           0,
           64,
           0,
           40,
           0,
           189000,
           0.7,
           140,
           1,
           0,
           245,
           0
          ],
          [
           1,
           257,
           1,
           30,
           0,
           150000,
           1,
           137,
           1,
           1,
           245,
           0
          ],
          [
           0,
           582,
           0,
           38,
           1,
           422000,
           0.8,
           137,
           0,
           0,
           245,
           0
          ],
          [
           0,
           618,
           0,
           35,
           0,
           327000,
           1.1,
           142,
           0,
           0,
           245,
           0
          ],
          [
           0,
           582,
           1,
           38,
           0,
           25100,
           1.1,
           140,
           1,
           0,
           246,
           0
          ],
          [
           1,
           1051,
           1,
           30,
           0,
           232000,
           0.7,
           136,
           0,
           0,
           246,
           0
          ],
          [
           0,
           84,
           1,
           38,
           0,
           451000,
           1.3,
           136,
           0,
           0,
           246,
           0
          ],
          [
           0,
           2695,
           1,
           40,
           0,
           241000,
           1,
           137,
           1,
           0,
           247,
           0
          ],
          [
           0,
           582,
           0,
           40,
           0,
           51000,
           2.7,
           136,
           1,
           1,
           250,
           0
          ],
          [
           0,
           64,
           0,
           30,
           0,
           215000,
           3.8,
           128,
           1,
           1,
           250,
           0
          ],
          [
           0,
           1688,
           0,
           38,
           0,
           263358.03,
           1.1,
           138,
           1,
           1,
           250,
           0
          ],
          [
           1,
           54,
           0,
           40,
           0,
           279000,
           0.8,
           141,
           1,
           0,
           250,
           0
          ],
          [
           1,
           170,
           1,
           40,
           0,
           336000,
           1.2,
           135,
           1,
           0,
           250,
           0
          ],
          [
           0,
           253,
           0,
           35,
           0,
           279000,
           1.7,
           140,
           1,
           0,
           250,
           0
          ],
          [
           0,
           582,
           1,
           55,
           0,
           543000,
           1,
           132,
           0,
           0,
           250,
           0
          ],
          [
           0,
           892,
           1,
           35,
           0,
           263358.03,
           1.1,
           142,
           0,
           0,
           256,
           0
          ],
          [
           1,
           337,
           0,
           38,
           0,
           390000,
           0.9,
           144,
           0,
           0,
           256,
           0
          ],
          [
           0,
           615,
           1,
           55,
           0,
           222000,
           0.8,
           141,
           0,
           0,
           257,
           0
          ],
          [
           0,
           320,
           0,
           35,
           0,
           133000,
           1.4,
           139,
           1,
           0,
           258,
           0
          ],
          [
           0,
           190,
           1,
           38,
           0,
           382000,
           1,
           140,
           1,
           1,
           258,
           0
          ],
          [
           1,
           103,
           1,
           35,
           0,
           179000,
           0.9,
           136,
           1,
           1,
           270,
           0
          ],
          [
           0,
           61,
           1,
           38,
           1,
           155000,
           1.1,
           143,
           1,
           1,
           270,
           0
          ],
          [
           0,
           1820,
           0,
           38,
           0,
           270000,
           1.2,
           139,
           0,
           0,
           271,
           0
          ],
          [
           0,
           2060,
           1,
           60,
           0,
           742000,
           0.8,
           138,
           0,
           0,
           278,
           0
          ],
          [
           0,
           2413,
           0,
           38,
           0,
           140000,
           1.4,
           140,
           1,
           1,
           280,
           0
          ],
          [
           0,
           196,
           0,
           45,
           0,
           395000,
           1.6,
           136,
           1,
           1,
           285,
           0
          ]
         ],
         "hovertemplate": "DEATH_EVENT=%{customdata[11]}<br>AGE=%{x}<br>anaemia=%{customdata[0]}<br>creatinine_phosphokinase=%{customdata[1]}<br>diabetes=%{customdata[2]}<br>ejection_fraction=%{customdata[3]}<br>high_blood_pressure=%{customdata[4]}<br>platelets=%{customdata[5]}<br>serum_creatinine=%{customdata[6]}<br>serum_sodium=%{customdata[7]}<br>sex=%{customdata[8]}<br>smoking=%{customdata[9]}<br>time=%{customdata[10]}<extra></extra>",
         "legendgroup": "0",
         "marker": {
          "color": "#EF553B"
         },
         "name": "0",
         "offsetgroup": "0",
         "scalegroup": "x",
         "showlegend": false,
         "type": "violin",
         "x": [
          49,
          65,
          53,
          50,
          60,
          72,
          70,
          60,
          55,
          45,
          41,
          58,
          65,
          70,
          42,
          75,
          55,
          70,
          67,
          79,
          51,
          55,
          65,
          44,
          57,
          70,
          60,
          42,
          58,
          58,
          63,
          70,
          60,
          63,
          65,
          75,
          80,
          42,
          60,
          55,
          45,
          63,
          45,
          55,
          50,
          60,
          58,
          60,
          85,
          65,
          60,
          66,
          60,
          60,
          43,
          58,
          61,
          53,
          53,
          60,
          46,
          63,
          81,
          75,
          65,
          68,
          62,
          50,
          46,
          50,
          61,
          50,
          52,
          64,
          60,
          62,
          50,
          50,
          65,
          60,
          52,
          50,
          85,
          59,
          66,
          45,
          63,
          53,
          65,
          70,
          51,
          52,
          70,
          50,
          65,
          60,
          69,
          49,
          63,
          55,
          40,
          60.667,
          40,
          80,
          64,
          50,
          73,
          45,
          65,
          50,
          60,
          63,
          45,
          70,
          60,
          78,
          50,
          40,
          85,
          60,
          49,
          70,
          50,
          78,
          65,
          73,
          70,
          68,
          55,
          65,
          42,
          47,
          58,
          75,
          58,
          55,
          65,
          72,
          70,
          40,
          53,
          53,
          77,
          75,
          70,
          65,
          55,
          70,
          65,
          40,
          73,
          54,
          61,
          64,
          40,
          53,
          50,
          55,
          50,
          70,
          53,
          52,
          65,
          58,
          45,
          53,
          55,
          62,
          68,
          61,
          50,
          56,
          45,
          40,
          44,
          51,
          67,
          42,
          60,
          45,
          70,
          70,
          50,
          55,
          70,
          70,
          42,
          65,
          50,
          55,
          60,
          45,
          65,
          90,
          45,
          60,
          52,
          63,
          62,
          55,
          45,
          45,
          50
         ],
         "xaxis": "x2",
         "yaxis": "y2"
        }
       ],
       "layout": {
        "barmode": "relative",
        "legend": {
         "title": {
          "text": "DEATH_EVENT"
         },
         "tracegroupgap": 0
        },
        "template": {
         "data": {
          "bar": [
           {
            "error_x": {
             "color": "#2a3f5f"
            },
            "error_y": {
             "color": "#2a3f5f"
            },
            "marker": {
             "line": {
              "color": "#E5ECF6",
              "width": 0.5
             },
             "pattern": {
              "fillmode": "overlay",
              "size": 10,
              "solidity": 0.2
             }
            },
            "type": "bar"
           }
          ],
          "barpolar": [
           {
            "marker": {
             "line": {
              "color": "#E5ECF6",
              "width": 0.5
             },
             "pattern": {
              "fillmode": "overlay",
              "size": 10,
              "solidity": 0.2
             }
            },
            "type": "barpolar"
           }
          ],
          "carpet": [
           {
            "aaxis": {
             "endlinecolor": "#2a3f5f",
             "gridcolor": "white",
             "linecolor": "white",
             "minorgridcolor": "white",
             "startlinecolor": "#2a3f5f"
            },
            "baxis": {
             "endlinecolor": "#2a3f5f",
             "gridcolor": "white",
             "linecolor": "white",
             "minorgridcolor": "white",
             "startlinecolor": "#2a3f5f"
            },
            "type": "carpet"
           }
          ],
          "choropleth": [
           {
            "colorbar": {
             "outlinewidth": 0,
             "ticks": ""
            },
            "type": "choropleth"
           }
          ],
          "contour": [
           {
            "colorbar": {
             "outlinewidth": 0,
             "ticks": ""
            },
            "colorscale": [
             [
              0,
              "#0d0887"
             ],
             [
              0.1111111111111111,
              "#46039f"
             ],
             [
              0.2222222222222222,
              "#7201a8"
             ],
             [
              0.3333333333333333,
              "#9c179e"
             ],
             [
              0.4444444444444444,
              "#bd3786"
             ],
             [
              0.5555555555555556,
              "#d8576b"
             ],
             [
              0.6666666666666666,
              "#ed7953"
             ],
             [
              0.7777777777777778,
              "#fb9f3a"
             ],
             [
              0.8888888888888888,
              "#fdca26"
             ],
             [
              1,
              "#f0f921"
             ]
            ],
            "type": "contour"
           }
          ],
          "contourcarpet": [
           {
            "colorbar": {
             "outlinewidth": 0,
             "ticks": ""
            },
            "type": "contourcarpet"
           }
          ],
          "heatmap": [
           {
            "colorbar": {
             "outlinewidth": 0,
             "ticks": ""
            },
            "colorscale": [
             [
              0,
              "#0d0887"
             ],
             [
              0.1111111111111111,
              "#46039f"
             ],
             [
              0.2222222222222222,
              "#7201a8"
             ],
             [
              0.3333333333333333,
              "#9c179e"
             ],
             [
              0.4444444444444444,
              "#bd3786"
             ],
             [
              0.5555555555555556,
              "#d8576b"
             ],
             [
              0.6666666666666666,
              "#ed7953"
             ],
             [
              0.7777777777777778,
              "#fb9f3a"
             ],
             [
              0.8888888888888888,
              "#fdca26"
             ],
             [
              1,
              "#f0f921"
             ]
            ],
            "type": "heatmap"
           }
          ],
          "heatmapgl": [
           {
            "colorbar": {
             "outlinewidth": 0,
             "ticks": ""
            },
            "colorscale": [
             [
              0,
              "#0d0887"
             ],
             [
              0.1111111111111111,
              "#46039f"
             ],
             [
              0.2222222222222222,
              "#7201a8"
             ],
             [
              0.3333333333333333,
              "#9c179e"
             ],
             [
              0.4444444444444444,
              "#bd3786"
             ],
             [
              0.5555555555555556,
              "#d8576b"
             ],
             [
              0.6666666666666666,
              "#ed7953"
             ],
             [
              0.7777777777777778,
              "#fb9f3a"
             ],
             [
              0.8888888888888888,
              "#fdca26"
             ],
             [
              1,
              "#f0f921"
             ]
            ],
            "type": "heatmapgl"
           }
          ],
          "histogram": [
           {
            "marker": {
             "pattern": {
              "fillmode": "overlay",
              "size": 10,
              "solidity": 0.2
             }
            },
            "type": "histogram"
           }
          ],
          "histogram2d": [
           {
            "colorbar": {
             "outlinewidth": 0,
             "ticks": ""
            },
            "colorscale": [
             [
              0,
              "#0d0887"
             ],
             [
              0.1111111111111111,
              "#46039f"
             ],
             [
              0.2222222222222222,
              "#7201a8"
             ],
             [
              0.3333333333333333,
              "#9c179e"
             ],
             [
              0.4444444444444444,
              "#bd3786"
             ],
             [
              0.5555555555555556,
              "#d8576b"
             ],
             [
              0.6666666666666666,
              "#ed7953"
             ],
             [
              0.7777777777777778,
              "#fb9f3a"
             ],
             [
              0.8888888888888888,
              "#fdca26"
             ],
             [
              1,
              "#f0f921"
             ]
            ],
            "type": "histogram2d"
           }
          ],
          "histogram2dcontour": [
           {
            "colorbar": {
             "outlinewidth": 0,
             "ticks": ""
            },
            "colorscale": [
             [
              0,
              "#0d0887"
             ],
             [
              0.1111111111111111,
              "#46039f"
             ],
             [
              0.2222222222222222,
              "#7201a8"
             ],
             [
              0.3333333333333333,
              "#9c179e"
             ],
             [
              0.4444444444444444,
              "#bd3786"
             ],
             [
              0.5555555555555556,
              "#d8576b"
             ],
             [
              0.6666666666666666,
              "#ed7953"
             ],
             [
              0.7777777777777778,
              "#fb9f3a"
             ],
             [
              0.8888888888888888,
              "#fdca26"
             ],
             [
              1,
              "#f0f921"
             ]
            ],
            "type": "histogram2dcontour"
           }
          ],
          "mesh3d": [
           {
            "colorbar": {
             "outlinewidth": 0,
             "ticks": ""
            },
            "type": "mesh3d"
           }
          ],
          "parcoords": [
           {
            "line": {
             "colorbar": {
              "outlinewidth": 0,
              "ticks": ""
             }
            },
            "type": "parcoords"
           }
          ],
          "pie": [
           {
            "automargin": true,
            "type": "pie"
           }
          ],
          "scatter": [
           {
            "fillpattern": {
             "fillmode": "overlay",
             "size": 10,
             "solidity": 0.2
            },
            "type": "scatter"
           }
          ],
          "scatter3d": [
           {
            "line": {
             "colorbar": {
              "outlinewidth": 0,
              "ticks": ""
             }
            },
            "marker": {
             "colorbar": {
              "outlinewidth": 0,
              "ticks": ""
             }
            },
            "type": "scatter3d"
           }
          ],
          "scattercarpet": [
           {
            "marker": {
             "colorbar": {
              "outlinewidth": 0,
              "ticks": ""
             }
            },
            "type": "scattercarpet"
           }
          ],
          "scattergeo": [
           {
            "marker": {
             "colorbar": {
              "outlinewidth": 0,
              "ticks": ""
             }
            },
            "type": "scattergeo"
           }
          ],
          "scattergl": [
           {
            "marker": {
             "colorbar": {
              "outlinewidth": 0,
              "ticks": ""
             }
            },
            "type": "scattergl"
           }
          ],
          "scattermapbox": [
           {
            "marker": {
             "colorbar": {
              "outlinewidth": 0,
              "ticks": ""
             }
            },
            "type": "scattermapbox"
           }
          ],
          "scatterpolar": [
           {
            "marker": {
             "colorbar": {
              "outlinewidth": 0,
              "ticks": ""
             }
            },
            "type": "scatterpolar"
           }
          ],
          "scatterpolargl": [
           {
            "marker": {
             "colorbar": {
              "outlinewidth": 0,
              "ticks": ""
             }
            },
            "type": "scatterpolargl"
           }
          ],
          "scatterternary": [
           {
            "marker": {
             "colorbar": {
              "outlinewidth": 0,
              "ticks": ""
             }
            },
            "type": "scatterternary"
           }
          ],
          "surface": [
           {
            "colorbar": {
             "outlinewidth": 0,
             "ticks": ""
            },
            "colorscale": [
             [
              0,
              "#0d0887"
             ],
             [
              0.1111111111111111,
              "#46039f"
             ],
             [
              0.2222222222222222,
              "#7201a8"
             ],
             [
              0.3333333333333333,
              "#9c179e"
             ],
             [
              0.4444444444444444,
              "#bd3786"
             ],
             [
              0.5555555555555556,
              "#d8576b"
             ],
             [
              0.6666666666666666,
              "#ed7953"
             ],
             [
              0.7777777777777778,
              "#fb9f3a"
             ],
             [
              0.8888888888888888,
              "#fdca26"
             ],
             [
              1,
              "#f0f921"
             ]
            ],
            "type": "surface"
           }
          ],
          "table": [
           {
            "cells": {
             "fill": {
              "color": "#EBF0F8"
             },
             "line": {
              "color": "white"
             }
            },
            "header": {
             "fill": {
              "color": "#C8D4E3"
             },
             "line": {
              "color": "white"
             }
            },
            "type": "table"
           }
          ]
         },
         "layout": {
          "annotationdefaults": {
           "arrowcolor": "#2a3f5f",
           "arrowhead": 0,
           "arrowwidth": 1
          },
          "autotypenumbers": "strict",
          "coloraxis": {
           "colorbar": {
            "outlinewidth": 0,
            "ticks": ""
           }
          },
          "colorscale": {
           "diverging": [
            [
             0,
             "#8e0152"
            ],
            [
             0.1,
             "#c51b7d"
            ],
            [
             0.2,
             "#de77ae"
            ],
            [
             0.3,
             "#f1b6da"
            ],
            [
             0.4,
             "#fde0ef"
            ],
            [
             0.5,
             "#f7f7f7"
            ],
            [
             0.6,
             "#e6f5d0"
            ],
            [
             0.7,
             "#b8e186"
            ],
            [
             0.8,
             "#7fbc41"
            ],
            [
             0.9,
             "#4d9221"
            ],
            [
             1,
             "#276419"
            ]
           ],
           "sequential": [
            [
             0,
             "#0d0887"
            ],
            [
             0.1111111111111111,
             "#46039f"
            ],
            [
             0.2222222222222222,
             "#7201a8"
            ],
            [
             0.3333333333333333,
             "#9c179e"
            ],
            [
             0.4444444444444444,
             "#bd3786"
            ],
            [
             0.5555555555555556,
             "#d8576b"
            ],
            [
             0.6666666666666666,
             "#ed7953"
            ],
            [
             0.7777777777777778,
             "#fb9f3a"
            ],
            [
             0.8888888888888888,
             "#fdca26"
            ],
            [
             1,
             "#f0f921"
            ]
           ],
           "sequentialminus": [
            [
             0,
             "#0d0887"
            ],
            [
             0.1111111111111111,
             "#46039f"
            ],
            [
             0.2222222222222222,
             "#7201a8"
            ],
            [
             0.3333333333333333,
             "#9c179e"
            ],
            [
             0.4444444444444444,
             "#bd3786"
            ],
            [
             0.5555555555555556,
             "#d8576b"
            ],
            [
             0.6666666666666666,
             "#ed7953"
            ],
            [
             0.7777777777777778,
             "#fb9f3a"
            ],
            [
             0.8888888888888888,
             "#fdca26"
            ],
            [
             1,
             "#f0f921"
            ]
           ]
          },
          "colorway": [
           "#636efa",
           "#EF553B",
           "#00cc96",
           "#ab63fa",
           "#FFA15A",
           "#19d3f3",
           "#FF6692",
           "#B6E880",
           "#FF97FF",
           "#FECB52"
          ],
          "font": {
           "color": "#2a3f5f"
          },
          "geo": {
           "bgcolor": "white",
           "lakecolor": "white",
           "landcolor": "#E5ECF6",
           "showlakes": true,
           "showland": true,
           "subunitcolor": "white"
          },
          "hoverlabel": {
           "align": "left"
          },
          "hovermode": "closest",
          "mapbox": {
           "style": "light"
          },
          "paper_bgcolor": "white",
          "plot_bgcolor": "#E5ECF6",
          "polar": {
           "angularaxis": {
            "gridcolor": "white",
            "linecolor": "white",
            "ticks": ""
           },
           "bgcolor": "#E5ECF6",
           "radialaxis": {
            "gridcolor": "white",
            "linecolor": "white",
            "ticks": ""
           }
          },
          "scene": {
           "xaxis": {
            "backgroundcolor": "#E5ECF6",
            "gridcolor": "white",
            "gridwidth": 2,
            "linecolor": "white",
            "showbackground": true,
            "ticks": "",
            "zerolinecolor": "white"
           },
           "yaxis": {
            "backgroundcolor": "#E5ECF6",
            "gridcolor": "white",
            "gridwidth": 2,
            "linecolor": "white",
            "showbackground": true,
            "ticks": "",
            "zerolinecolor": "white"
           },
           "zaxis": {
            "backgroundcolor": "#E5ECF6",
            "gridcolor": "white",
            "gridwidth": 2,
            "linecolor": "white",
            "showbackground": true,
            "ticks": "",
            "zerolinecolor": "white"
           }
          },
          "shapedefaults": {
           "line": {
            "color": "#2a3f5f"
           }
          },
          "ternary": {
           "aaxis": {
            "gridcolor": "white",
            "linecolor": "white",
            "ticks": ""
           },
           "baxis": {
            "gridcolor": "white",
            "linecolor": "white",
            "ticks": ""
           },
           "bgcolor": "#E5ECF6",
           "caxis": {
            "gridcolor": "white",
            "linecolor": "white",
            "ticks": ""
           }
          },
          "title": {
           "x": 0.05
          },
          "xaxis": {
           "automargin": true,
           "gridcolor": "white",
           "linecolor": "white",
           "ticks": "",
           "title": {
            "standoff": 15
           },
           "zerolinecolor": "white",
           "zerolinewidth": 2
          },
          "yaxis": {
           "automargin": true,
           "gridcolor": "white",
           "linecolor": "white",
           "ticks": "",
           "title": {
            "standoff": 15
           },
           "zerolinecolor": "white",
           "zerolinewidth": 2
          }
         }
        },
        "title": {
         "text": "Distribution of AGE Vs DEATH_EVENT"
        },
        "xaxis": {
         "anchor": "y",
         "domain": [
          0,
          1
         ],
         "title": {
          "text": "AGE"
         }
        },
        "xaxis2": {
         "anchor": "y2",
         "domain": [
          0,
          1
         ],
         "matches": "x",
         "showgrid": true,
         "showticklabels": false
        },
        "yaxis": {
         "anchor": "x",
         "domain": [
          0,
          0.7326
         ],
         "title": {
          "text": "count"
         }
        },
        "yaxis2": {
         "anchor": "x2",
         "domain": [
          0.7426,
          1
         ],
         "matches": "y2",
         "showgrid": false,
         "showline": false,
         "showticklabels": false,
         "ticks": ""
        }
       }
      },
      "text/html": [
       "<div>                            <div id=\"16c0f340-7542-4600-a008-2c61ef263e54\" class=\"plotly-graph-div\" style=\"height:525px; width:100%;\"></div>            <script type=\"text/javascript\">                require([\"plotly\"], function(Plotly) {                    window.PLOTLYENV=window.PLOTLYENV || {};                                    if (document.getElementById(\"16c0f340-7542-4600-a008-2c61ef263e54\")) {                    Plotly.newPlot(                        \"16c0f340-7542-4600-a008-2c61ef263e54\",                        [{\"alignmentgroup\":\"True\",\"bingroup\":\"x\",\"hovertemplate\":\"DEATH_EVENT=1\\u003cbr\\u003eAGE=%{x}\\u003cbr\\u003ecount=%{y}\\u003cextra\\u003e\\u003c\\u002fextra\\u003e\",\"legendgroup\":\"1\",\"marker\":{\"color\":\"#636efa\",\"pattern\":{\"shape\":\"\"}},\"name\":\"1\",\"offsetgroup\":\"1\",\"orientation\":\"v\",\"showlegend\":true,\"x\":[75.0,55.0,65.0,50.0,65.0,90.0,75.0,60.0,65.0,80.0,75.0,62.0,45.0,50.0,82.0,87.0,45.0,70.0,48.0,65.0,68.0,75.0,80.0,95.0,70.0,58.0,82.0,94.0,85.0,50.0,65.0,69.0,90.0,82.0,60.0,70.0,50.0,70.0,60.0,50.0,51.0,60.0,80.0,57.0,68.0,53.0,60.0,70.0,60.0,95.0,49.0,72.0,45.0,50.0,45.0,60.0,42.0,72.0,70.0,65.0,85.0,69.0,60.0,60.0,59.0,60.0,72.0,85.0,70.0,86.0,60.0,46.0,80.0,72.0,75.0,72.0,50.0,45.0,80.0,59.0,59.0,65.0,75.0,58.0,60.667,50.0,60.0,45.0,77.0,48.0,54.0,73.0,60.0,55.0,65.0,55.0],\"xaxis\":\"x\",\"yaxis\":\"y\",\"type\":\"histogram\"},{\"alignmentgroup\":\"True\",\"customdata\":[[0.0,582.0,0.0,20.0,1.0,265000.0,1.9,130.0,1.0,0.0,4.0,1.0],[0.0,7861.0,0.0,38.0,0.0,263358.03,1.1,136.0,1.0,0.0,6.0,1.0],[0.0,146.0,0.0,20.0,0.0,162000.0,1.3,129.0,1.0,1.0,7.0,1.0],[1.0,111.0,0.0,20.0,0.0,210000.0,1.9,137.0,1.0,0.0,7.0,1.0],[1.0,160.0,1.0,20.0,0.0,327000.0,2.7,116.0,0.0,0.0,8.0,1.0],[1.0,47.0,0.0,40.0,1.0,204000.0,2.1,132.0,1.0,1.0,8.0,1.0],[1.0,246.0,0.0,15.0,0.0,127000.0,1.2,137.0,1.0,0.0,10.0,1.0],[1.0,315.0,1.0,60.0,0.0,454000.0,1.1,131.0,1.0,1.0,10.0,1.0],[0.0,157.0,0.0,65.0,0.0,263358.03,1.5,138.0,0.0,0.0,10.0,1.0],[1.0,123.0,0.0,35.0,1.0,388000.0,9.4,133.0,1.0,1.0,10.0,1.0],[1.0,81.0,0.0,38.0,1.0,368000.0,4.0,131.0,1.0,1.0,10.0,1.0],[0.0,231.0,0.0,25.0,1.0,253000.0,0.9,140.0,1.0,1.0,10.0,1.0],[1.0,981.0,0.0,30.0,0.0,136000.0,1.1,137.0,1.0,0.0,11.0,1.0],[1.0,168.0,0.0,38.0,1.0,276000.0,1.1,137.0,1.0,0.0,11.0,1.0],[1.0,379.0,0.0,50.0,0.0,47000.0,1.3,136.0,1.0,0.0,13.0,1.0],[1.0,149.0,0.0,38.0,0.0,262000.0,0.9,140.0,1.0,0.0,14.0,1.0],[0.0,582.0,0.0,14.0,0.0,166000.0,0.8,127.0,1.0,0.0,14.0,1.0],[1.0,125.0,0.0,25.0,1.0,237000.0,1.0,140.0,0.0,0.0,15.0,1.0],[1.0,582.0,1.0,55.0,0.0,87000.0,1.9,121.0,0.0,0.0,15.0,1.0],[1.0,128.0,1.0,30.0,1.0,297000.0,1.6,136.0,0.0,0.0,20.0,1.0],[1.0,220.0,0.0,35.0,1.0,289000.0,0.9,140.0,1.0,1.0,20.0,1.0],[0.0,582.0,1.0,30.0,1.0,263358.03,1.83,134.0,0.0,0.0,23.0,1.0],[0.0,148.0,1.0,38.0,0.0,149000.0,1.9,144.0,1.0,1.0,23.0,1.0],[1.0,112.0,0.0,40.0,1.0,196000.0,1.0,138.0,0.0,0.0,24.0,1.0],[0.0,122.0,1.0,45.0,1.0,284000.0,1.3,136.0,1.0,1.0,26.0,1.0],[1.0,60.0,0.0,38.0,0.0,153000.0,5.8,134.0,1.0,0.0,26.0,1.0],[0.0,70.0,1.0,30.0,0.0,200000.0,1.2,132.0,1.0,1.0,26.0,1.0],[0.0,582.0,1.0,38.0,1.0,263358.03,1.83,134.0,1.0,0.0,27.0,1.0],[0.0,23.0,0.0,45.0,0.0,360000.0,3.0,132.0,1.0,0.0,28.0,1.0],[1.0,249.0,1.0,35.0,1.0,319000.0,1.0,128.0,0.0,0.0,28.0,1.0],[0.0,94.0,1.0,50.0,1.0,188000.0,1.0,140.0,1.0,0.0,29.0,1.0],[0.0,582.0,1.0,35.0,0.0,228000.0,3.5,134.0,1.0,0.0,30.0,1.0],[1.0,60.0,1.0,50.0,0.0,226000.0,1.0,134.0,1.0,0.0,30.0,1.0],[1.0,855.0,1.0,50.0,1.0,321000.0,1.0,145.0,0.0,0.0,30.0,1.0],[0.0,235.0,1.0,38.0,0.0,329000.0,3.0,142.0,0.0,0.0,30.0,1.0],[0.0,582.0,0.0,20.0,1.0,263358.03,1.83,134.0,1.0,1.0,31.0,1.0],[0.0,124.0,1.0,30.0,1.0,153000.0,1.2,136.0,0.0,1.0,32.0,1.0],[0.0,571.0,1.0,45.0,1.0,185000.0,1.2,139.0,1.0,1.0,33.0,1.0],[1.0,588.0,1.0,60.0,0.0,194000.0,1.1,142.0,0.0,0.0,33.0,1.0],[0.0,582.0,1.0,38.0,0.0,310000.0,1.9,135.0,1.0,1.0,35.0,1.0],[0.0,1380.0,0.0,25.0,1.0,271000.0,0.9,130.0,1.0,0.0,38.0,1.0],[0.0,582.0,1.0,38.0,1.0,451000.0,0.6,138.0,1.0,1.0,40.0,1.0],[1.0,553.0,0.0,20.0,1.0,140000.0,4.4,133.0,1.0,0.0,41.0,1.0],[1.0,129.0,0.0,30.0,0.0,395000.0,1.0,140.0,0.0,0.0,42.0,1.0],[1.0,577.0,0.0,25.0,1.0,166000.0,1.0,138.0,1.0,0.0,43.0,1.0],[1.0,91.0,0.0,20.0,1.0,418000.0,1.4,139.0,0.0,0.0,43.0,1.0],[0.0,3964.0,1.0,62.0,0.0,263358.03,6.8,146.0,0.0,0.0,43.0,1.0],[1.0,69.0,1.0,50.0,1.0,351000.0,1.0,134.0,0.0,0.0,44.0,1.0],[1.0,260.0,1.0,38.0,0.0,255000.0,2.2,132.0,0.0,1.0,45.0,1.0],[1.0,371.0,0.0,30.0,0.0,461000.0,2.0,132.0,1.0,0.0,50.0,1.0],[0.0,789.0,0.0,20.0,1.0,319000.0,1.1,136.0,1.0,1.0,55.0,1.0],[0.0,364.0,1.0,20.0,1.0,254000.0,1.3,136.0,1.0,1.0,59.0,1.0],[0.0,7702.0,1.0,25.0,1.0,390000.0,1.0,139.0,1.0,0.0,60.0,1.0],[0.0,318.0,0.0,40.0,1.0,216000.0,2.3,131.0,0.0,0.0,60.0,1.0],[0.0,582.0,0.0,35.0,0.0,385000.0,1.0,145.0,1.0,0.0,61.0,1.0],[0.0,68.0,0.0,20.0,0.0,119000.0,2.9,127.0,1.0,1.0,64.0,1.0],[1.0,250.0,1.0,15.0,0.0,213000.0,1.3,136.0,0.0,0.0,65.0,1.0],[1.0,110.0,0.0,25.0,0.0,274000.0,1.0,140.0,1.0,1.0,65.0,1.0],[0.0,161.0,0.0,25.0,0.0,244000.0,1.2,142.0,0.0,0.0,66.0,1.0],[0.0,113.0,1.0,25.0,0.0,497000.0,1.83,135.0,1.0,0.0,67.0,1.0],[0.0,5882.0,0.0,35.0,0.0,243000.0,1.0,132.0,1.0,1.0,72.0,1.0],[0.0,582.0,0.0,20.0,0.0,266000.0,1.2,134.0,1.0,1.0,73.0,1.0],[1.0,47.0,0.0,20.0,0.0,204000.0,0.7,139.0,1.0,1.0,73.0,1.0],[1.0,76.0,1.0,25.0,0.0,196000.0,2.5,132.0,0.0,0.0,77.0,1.0],[1.0,280.0,1.0,25.0,1.0,302000.0,1.0,141.0,0.0,0.0,78.0,1.0],[1.0,154.0,0.0,25.0,0.0,210000.0,1.7,135.0,1.0,0.0,82.0,1.0],[1.0,328.0,0.0,30.0,1.0,621000.0,1.7,138.0,0.0,1.0,88.0,1.0],[0.0,129.0,0.0,60.0,0.0,306000.0,1.2,132.0,1.0,1.0,90.0,1.0],[1.0,143.0,0.0,60.0,0.0,351000.0,1.3,137.0,0.0,0.0,90.0,1.0],[0.0,582.0,0.0,38.0,0.0,263358.03,1.83,134.0,0.0,0.0,95.0,1.0],[0.0,582.0,0.0,40.0,0.0,217000.0,3.7,134.0,1.0,0.0,96.0,1.0],[0.0,168.0,1.0,17.0,1.0,271000.0,2.1,124.0,0.0,0.0,100.0,1.0],[0.0,805.0,0.0,38.0,0.0,263358.03,1.1,134.0,1.0,0.0,109.0,1.0],[1.0,943.0,0.0,25.0,1.0,338000.0,1.7,139.0,1.0,1.0,111.0,1.0],[1.0,582.0,0.0,30.0,0.0,225000.0,1.83,134.0,1.0,0.0,113.0,1.0],[0.0,233.0,0.0,45.0,1.0,235000.0,2.5,135.0,0.0,0.0,115.0,1.0],[1.0,2334.0,1.0,35.0,0.0,75000.0,0.9,142.0,0.0,0.0,126.0,1.0],[0.0,2442.0,1.0,30.0,0.0,334000.0,1.1,139.0,1.0,0.0,129.0,1.0],[0.0,776.0,1.0,38.0,1.0,192000.0,1.3,135.0,0.0,0.0,130.0,1.0],[0.0,66.0,1.0,20.0,0.0,70000.0,2.4,134.0,1.0,0.0,135.0,1.0],[1.0,176.0,1.0,25.0,0.0,221000.0,1.0,136.0,1.0,1.0,150.0,1.0],[0.0,395.0,1.0,25.0,0.0,265000.0,1.2,136.0,1.0,1.0,154.0,1.0],[0.0,99.0,0.0,38.0,1.0,224000.0,2.5,134.0,1.0,0.0,162.0,1.0],[1.0,145.0,0.0,25.0,0.0,219000.0,1.2,137.0,1.0,1.0,170.0,1.0],[1.0,104.0,1.0,30.0,0.0,389000.0,1.5,136.0,1.0,0.0,171.0,1.0],[0.0,582.0,0.0,50.0,0.0,153000.0,0.6,134.0,0.0,0.0,172.0,1.0],[0.0,1896.0,1.0,25.0,0.0,365000.0,2.1,144.0,0.0,0.0,172.0,1.0],[0.0,582.0,0.0,20.0,1.0,126000.0,1.6,135.0,1.0,0.0,180.0,1.0],[1.0,418.0,0.0,45.0,0.0,223000.0,1.8,145.0,1.0,0.0,180.0,1.0],[1.0,131.0,1.0,30.0,1.0,244000.0,1.6,130.0,0.0,0.0,193.0,1.0],[1.0,427.0,0.0,70.0,1.0,151000.0,9.0,137.0,0.0,0.0,196.0,1.0],[0.0,582.0,0.0,20.0,0.0,263358.03,1.83,134.0,1.0,0.0,198.0,1.0],[0.0,166.0,0.0,30.0,0.0,62000.0,1.7,127.0,0.0,0.0,207.0,1.0],[0.0,2017.0,0.0,25.0,0.0,314000.0,1.1,138.0,1.0,0.0,214.0,1.0],[1.0,258.0,1.0,25.0,0.0,198000.0,1.4,129.0,1.0,0.0,235.0,1.0],[0.0,1199.0,0.0,20.0,0.0,263358.03,1.83,134.0,1.0,1.0,241.0,1.0]],\"hovertemplate\":\"DEATH_EVENT=%{customdata[11]}\\u003cbr\\u003eAGE=%{x}\\u003cbr\\u003eanaemia=%{customdata[0]}\\u003cbr\\u003ecreatinine_phosphokinase=%{customdata[1]}\\u003cbr\\u003ediabetes=%{customdata[2]}\\u003cbr\\u003eejection_fraction=%{customdata[3]}\\u003cbr\\u003ehigh_blood_pressure=%{customdata[4]}\\u003cbr\\u003eplatelets=%{customdata[5]}\\u003cbr\\u003eserum_creatinine=%{customdata[6]}\\u003cbr\\u003eserum_sodium=%{customdata[7]}\\u003cbr\\u003esex=%{customdata[8]}\\u003cbr\\u003esmoking=%{customdata[9]}\\u003cbr\\u003etime=%{customdata[10]}\\u003cextra\\u003e\\u003c\\u002fextra\\u003e\",\"legendgroup\":\"1\",\"marker\":{\"color\":\"#636efa\"},\"name\":\"1\",\"offsetgroup\":\"1\",\"scalegroup\":\"x\",\"showlegend\":false,\"x\":[75.0,55.0,65.0,50.0,65.0,90.0,75.0,60.0,65.0,80.0,75.0,62.0,45.0,50.0,82.0,87.0,45.0,70.0,48.0,65.0,68.0,75.0,80.0,95.0,70.0,58.0,82.0,94.0,85.0,50.0,65.0,69.0,90.0,82.0,60.0,70.0,50.0,70.0,60.0,50.0,51.0,60.0,80.0,57.0,68.0,53.0,60.0,70.0,60.0,95.0,49.0,72.0,45.0,50.0,45.0,60.0,42.0,72.0,70.0,65.0,85.0,69.0,60.0,60.0,59.0,60.0,72.0,85.0,70.0,86.0,60.0,46.0,80.0,72.0,75.0,72.0,50.0,45.0,80.0,59.0,59.0,65.0,75.0,58.0,60.667,50.0,60.0,45.0,77.0,48.0,54.0,73.0,60.0,55.0,65.0,55.0],\"xaxis\":\"x2\",\"yaxis\":\"y2\",\"type\":\"violin\"},{\"alignmentgroup\":\"True\",\"bingroup\":\"x\",\"hovertemplate\":\"DEATH_EVENT=0\\u003cbr\\u003eAGE=%{x}\\u003cbr\\u003ecount=%{y}\\u003cextra\\u003e\\u003c\\u002fextra\\u003e\",\"legendgroup\":\"0\",\"marker\":{\"color\":\"#EF553B\",\"pattern\":{\"shape\":\"\"}},\"name\":\"0\",\"offsetgroup\":\"0\",\"orientation\":\"v\",\"showlegend\":true,\"x\":[49.0,65.0,53.0,50.0,60.0,72.0,70.0,60.0,55.0,45.0,41.0,58.0,65.0,70.0,42.0,75.0,55.0,70.0,67.0,79.0,51.0,55.0,65.0,44.0,57.0,70.0,60.0,42.0,58.0,58.0,63.0,70.0,60.0,63.0,65.0,75.0,80.0,42.0,60.0,55.0,45.0,63.0,45.0,55.0,50.0,60.0,58.0,60.0,85.0,65.0,60.0,66.0,60.0,60.0,43.0,58.0,61.0,53.0,53.0,60.0,46.0,63.0,81.0,75.0,65.0,68.0,62.0,50.0,46.0,50.0,61.0,50.0,52.0,64.0,60.0,62.0,50.0,50.0,65.0,60.0,52.0,50.0,85.0,59.0,66.0,45.0,63.0,53.0,65.0,70.0,51.0,52.0,70.0,50.0,65.0,60.0,69.0,49.0,63.0,55.0,40.0,60.667,40.0,80.0,64.0,50.0,73.0,45.0,65.0,50.0,60.0,63.0,45.0,70.0,60.0,78.0,50.0,40.0,85.0,60.0,49.0,70.0,50.0,78.0,65.0,73.0,70.0,68.0,55.0,65.0,42.0,47.0,58.0,75.0,58.0,55.0,65.0,72.0,70.0,40.0,53.0,53.0,77.0,75.0,70.0,65.0,55.0,70.0,65.0,40.0,73.0,54.0,61.0,64.0,40.0,53.0,50.0,55.0,50.0,70.0,53.0,52.0,65.0,58.0,45.0,53.0,55.0,62.0,68.0,61.0,50.0,56.0,45.0,40.0,44.0,51.0,67.0,42.0,60.0,45.0,70.0,70.0,50.0,55.0,70.0,70.0,42.0,65.0,50.0,55.0,60.0,45.0,65.0,90.0,45.0,60.0,52.0,63.0,62.0,55.0,45.0,45.0,50.0],\"xaxis\":\"x\",\"yaxis\":\"y\",\"type\":\"histogram\"},{\"alignmentgroup\":\"True\",\"customdata\":[[1.0,80.0,0.0,30.0,1.0,427000.0,1.0,138.0,0.0,0.0,12.0,0.0],[1.0,52.0,0.0,25.0,1.0,276000.0,1.3,137.0,0.0,0.0,16.0,0.0],[0.0,63.0,1.0,60.0,0.0,368000.0,0.8,135.0,1.0,0.0,22.0,0.0],[1.0,159.0,1.0,30.0,0.0,302000.0,1.2,138.0,0.0,0.0,29.0,0.0],[0.0,2656.0,1.0,30.0,0.0,305000.0,2.3,137.0,1.0,0.0,30.0,0.0],[0.0,127.0,1.0,50.0,1.0,218000.0,1.0,134.0,1.0,0.0,33.0,0.0],[1.0,75.0,0.0,35.0,0.0,223000.0,2.7,138.0,1.0,1.0,54.0,0.0],[1.0,607.0,0.0,40.0,0.0,216000.0,0.6,138.0,1.0,1.0,54.0,0.0],[0.0,109.0,0.0,35.0,0.0,254000.0,1.1,139.0,1.0,1.0,60.0,0.0],[0.0,582.0,0.0,80.0,0.0,263358.03,1.18,137.0,0.0,0.0,63.0,0.0],[0.0,148.0,0.0,40.0,0.0,374000.0,0.8,140.0,1.0,1.0,68.0,0.0],[0.0,582.0,1.0,35.0,0.0,122000.0,0.9,139.0,1.0,1.0,71.0,0.0],[0.0,224.0,1.0,50.0,0.0,149000.0,1.3,137.0,1.0,1.0,72.0,0.0],[0.0,92.0,0.0,60.0,1.0,317000.0,0.8,140.0,0.0,1.0,74.0,0.0],[0.0,102.0,1.0,40.0,0.0,237000.0,1.2,140.0,1.0,0.0,74.0,0.0],[1.0,203.0,1.0,38.0,1.0,283000.0,0.6,131.0,1.0,1.0,74.0,0.0],[0.0,336.0,0.0,45.0,1.0,324000.0,0.9,140.0,0.0,0.0,74.0,0.0],[0.0,69.0,0.0,40.0,0.0,293000.0,1.7,136.0,0.0,0.0,75.0,0.0],[0.0,582.0,0.0,50.0,0.0,263358.03,1.18,137.0,1.0,1.0,76.0,0.0],[1.0,55.0,0.0,50.0,1.0,172000.0,1.8,133.0,1.0,0.0,78.0,0.0],[0.0,78.0,0.0,50.0,0.0,406000.0,0.7,140.0,1.0,0.0,79.0,0.0],[0.0,47.0,0.0,35.0,1.0,173000.0,1.1,137.0,1.0,0.0,79.0,0.0],[1.0,68.0,1.0,60.0,1.0,304000.0,0.8,140.0,1.0,0.0,79.0,0.0],[0.0,84.0,1.0,40.0,1.0,235000.0,0.7,139.0,1.0,0.0,79.0,0.0],[1.0,115.0,0.0,25.0,1.0,181000.0,1.1,144.0,1.0,0.0,79.0,0.0],[0.0,66.0,1.0,45.0,0.0,249000.0,0.8,136.0,1.0,1.0,80.0,0.0],[0.0,897.0,1.0,45.0,0.0,297000.0,1.0,133.0,1.0,0.0,80.0,0.0],[0.0,582.0,0.0,60.0,0.0,263358.03,1.18,137.0,0.0,0.0,82.0,0.0],[0.0,144.0,1.0,38.0,1.0,327000.0,0.7,142.0,0.0,0.0,83.0,0.0],[1.0,133.0,0.0,60.0,1.0,219000.0,1.0,141.0,1.0,0.0,83.0,0.0],[1.0,514.0,1.0,25.0,1.0,254000.0,1.3,134.0,1.0,0.0,83.0,0.0],[1.0,59.0,0.0,60.0,0.0,255000.0,1.1,136.0,0.0,0.0,85.0,0.0],[1.0,156.0,1.0,25.0,1.0,318000.0,1.2,137.0,0.0,0.0,85.0,0.0],[1.0,61.0,1.0,40.0,0.0,221000.0,1.1,140.0,0.0,0.0,86.0,0.0],[1.0,305.0,0.0,25.0,0.0,298000.0,1.1,141.0,1.0,0.0,87.0,0.0],[0.0,582.0,0.0,45.0,1.0,263358.03,1.18,137.0,1.0,0.0,87.0,0.0],[0.0,898.0,0.0,25.0,0.0,149000.0,1.1,144.0,1.0,1.0,87.0,0.0],[0.0,5209.0,0.0,30.0,0.0,226000.0,1.0,140.0,1.0,1.0,87.0,0.0],[0.0,53.0,0.0,50.0,1.0,286000.0,2.3,143.0,0.0,0.0,87.0,0.0],[0.0,748.0,0.0,45.0,0.0,263000.0,1.3,137.0,1.0,0.0,88.0,0.0],[1.0,1876.0,1.0,35.0,0.0,226000.0,0.9,138.0,1.0,0.0,88.0,0.0],[0.0,936.0,0.0,38.0,0.0,304000.0,1.1,133.0,1.0,1.0,88.0,0.0],[0.0,292.0,1.0,35.0,0.0,850000.0,1.3,142.0,1.0,1.0,88.0,0.0],[0.0,60.0,0.0,35.0,0.0,228000.0,1.2,135.0,1.0,1.0,90.0,0.0],[0.0,369.0,1.0,25.0,0.0,252000.0,1.6,136.0,1.0,0.0,90.0,0.0],[1.0,754.0,1.0,40.0,1.0,328000.0,1.2,126.0,1.0,0.0,91.0,0.0],[1.0,400.0,0.0,40.0,0.0,164000.0,1.0,139.0,0.0,0.0,91.0,0.0],[1.0,96.0,1.0,60.0,1.0,271000.0,0.7,136.0,0.0,0.0,94.0,0.0],[1.0,102.0,0.0,60.0,0.0,507000.0,3.2,138.0,0.0,0.0,94.0,0.0],[1.0,113.0,1.0,60.0,1.0,203000.0,0.9,140.0,0.0,0.0,94.0,0.0],[1.0,737.0,0.0,60.0,1.0,210000.0,1.5,135.0,1.0,1.0,95.0,0.0],[1.0,68.0,1.0,38.0,1.0,162000.0,1.0,136.0,0.0,0.0,95.0,0.0],[0.0,96.0,1.0,38.0,0.0,228000.0,0.75,140.0,0.0,0.0,95.0,0.0],[1.0,582.0,0.0,30.0,1.0,127000.0,0.9,145.0,0.0,0.0,95.0,0.0],[1.0,358.0,0.0,50.0,0.0,237000.0,1.3,135.0,0.0,0.0,97.0,0.0],[1.0,200.0,1.0,60.0,0.0,300000.0,0.8,137.0,0.0,0.0,104.0,0.0],[0.0,248.0,0.0,30.0,1.0,267000.0,0.7,136.0,1.0,1.0,104.0,0.0],[1.0,270.0,1.0,35.0,0.0,227000.0,3.4,145.0,1.0,0.0,105.0,0.0],[1.0,1808.0,0.0,60.0,1.0,249000.0,0.7,138.0,1.0,1.0,106.0,0.0],[1.0,1082.0,1.0,45.0,0.0,250000.0,6.1,131.0,1.0,0.0,107.0,0.0],[0.0,719.0,0.0,40.0,1.0,263358.03,1.18,137.0,0.0,0.0,107.0,0.0],[0.0,193.0,0.0,60.0,1.0,295000.0,1.3,145.0,1.0,1.0,107.0,0.0],[0.0,4540.0,0.0,35.0,0.0,231000.0,1.18,137.0,1.0,1.0,107.0,0.0],[0.0,582.0,0.0,40.0,0.0,263358.03,1.18,137.0,1.0,0.0,107.0,0.0],[1.0,59.0,1.0,60.0,0.0,172000.0,0.9,137.0,0.0,0.0,107.0,0.0],[1.0,646.0,0.0,25.0,0.0,305000.0,2.1,130.0,1.0,0.0,108.0,0.0],[0.0,281.0,1.0,35.0,0.0,221000.0,1.0,136.0,0.0,0.0,108.0,0.0],[0.0,1548.0,0.0,30.0,1.0,211000.0,0.8,138.0,1.0,0.0,108.0,0.0],[1.0,291.0,0.0,35.0,0.0,348000.0,0.9,140.0,0.0,0.0,109.0,0.0],[0.0,482.0,1.0,30.0,0.0,329000.0,0.9,132.0,0.0,0.0,109.0,0.0],[1.0,84.0,0.0,40.0,1.0,229000.0,0.9,141.0,0.0,0.0,110.0,0.0],[0.0,185.0,0.0,30.0,0.0,266000.0,0.7,141.0,1.0,1.0,112.0,0.0],[0.0,132.0,0.0,30.0,0.0,218000.0,0.7,136.0,1.0,1.0,112.0,0.0],[0.0,1610.0,0.0,60.0,0.0,242000.0,1.0,137.0,1.0,0.0,113.0,0.0],[0.0,2261.0,0.0,35.0,1.0,228000.0,0.9,136.0,1.0,0.0,115.0,0.0],[0.0,30.0,1.0,60.0,1.0,244000.0,0.9,139.0,1.0,0.0,117.0,0.0],[0.0,115.0,0.0,45.0,1.0,184000.0,0.9,134.0,1.0,1.0,118.0,0.0],[0.0,1846.0,1.0,35.0,0.0,263358.03,1.18,137.0,1.0,1.0,119.0,0.0],[1.0,335.0,0.0,35.0,1.0,235000.0,0.8,136.0,0.0,0.0,120.0,0.0],[1.0,231.0,1.0,25.0,0.0,194000.0,1.7,140.0,1.0,0.0,120.0,0.0],[1.0,58.0,0.0,35.0,0.0,277000.0,1.4,136.0,0.0,0.0,120.0,0.0],[0.0,250.0,0.0,25.0,0.0,262000.0,1.0,136.0,1.0,1.0,120.0,0.0],[1.0,910.0,0.0,50.0,0.0,235000.0,1.3,134.0,1.0,0.0,121.0,0.0],[1.0,129.0,0.0,45.0,1.0,362000.0,1.1,139.0,1.0,1.0,121.0,0.0],[1.0,72.0,0.0,40.0,1.0,242000.0,1.2,134.0,1.0,0.0,121.0,0.0],[1.0,130.0,0.0,35.0,0.0,174000.0,0.8,139.0,1.0,1.0,121.0,0.0],[1.0,582.0,0.0,40.0,0.0,448000.0,0.9,137.0,1.0,1.0,123.0,0.0],[0.0,196.0,0.0,60.0,0.0,220000.0,0.7,133.0,1.0,1.0,134.0,0.0],[0.0,582.0,1.0,40.0,0.0,270000.0,1.0,138.0,0.0,0.0,140.0,0.0],[0.0,835.0,0.0,35.0,1.0,305000.0,0.8,133.0,0.0,0.0,145.0,0.0],[1.0,582.0,1.0,35.0,0.0,263358.03,1.5,136.0,1.0,1.0,145.0,0.0],[0.0,3966.0,0.0,40.0,0.0,325000.0,0.9,140.0,1.0,1.0,146.0,0.0],[1.0,171.0,0.0,60.0,1.0,176000.0,1.1,145.0,1.0,1.0,146.0,0.0],[1.0,115.0,0.0,20.0,0.0,189000.0,0.8,139.0,1.0,0.0,146.0,0.0],[0.0,198.0,1.0,35.0,1.0,281000.0,0.9,137.0,1.0,1.0,146.0,0.0],[1.0,95.0,0.0,60.0,0.0,337000.0,1.0,138.0,1.0,1.0,146.0,0.0],[0.0,1419.0,0.0,40.0,0.0,105000.0,1.0,135.0,1.0,1.0,147.0,0.0],[1.0,69.0,0.0,50.0,0.0,132000.0,1.0,140.0,0.0,0.0,147.0,0.0],[1.0,122.0,1.0,60.0,0.0,267000.0,1.2,145.0,1.0,0.0,147.0,0.0],[0.0,835.0,0.0,40.0,0.0,279000.0,0.7,140.0,1.0,1.0,147.0,0.0],[0.0,478.0,1.0,30.0,0.0,303000.0,0.9,136.0,1.0,0.0,148.0,0.0],[1.0,151.0,1.0,40.0,1.0,201000.0,1.0,136.0,0.0,0.0,172.0,0.0],[0.0,244.0,0.0,45.0,1.0,275000.0,0.9,140.0,0.0,0.0,174.0,0.0],[0.0,582.0,1.0,35.0,0.0,350000.0,2.1,134.0,1.0,0.0,174.0,0.0],[1.0,62.0,0.0,60.0,0.0,309000.0,1.5,135.0,0.0,0.0,174.0,0.0],[1.0,121.0,1.0,40.0,0.0,260000.0,0.7,130.0,1.0,0.0,175.0,0.0],[1.0,231.0,1.0,30.0,0.0,160000.0,1.18,142.0,1.0,1.0,180.0,0.0],[0.0,582.0,1.0,38.0,1.0,263358.03,1.18,137.0,0.0,0.0,185.0,0.0],[0.0,167.0,0.0,30.0,0.0,259000.0,0.8,138.0,0.0,0.0,186.0,0.0],[1.0,582.0,1.0,20.0,1.0,279000.0,1.0,134.0,0.0,0.0,186.0,0.0],[0.0,1211.0,1.0,35.0,0.0,263358.03,1.8,113.0,1.0,1.0,186.0,0.0],[1.0,1767.0,0.0,45.0,0.0,73000.0,0.7,137.0,1.0,0.0,186.0,0.0],[0.0,308.0,1.0,60.0,1.0,377000.0,1.0,136.0,1.0,0.0,186.0,0.0],[0.0,97.0,0.0,60.0,1.0,220000.0,0.9,138.0,1.0,0.0,186.0,0.0],[0.0,59.0,0.0,25.0,1.0,212000.0,3.5,136.0,1.0,1.0,187.0,0.0],[1.0,64.0,0.0,40.0,0.0,277000.0,0.7,137.0,1.0,1.0,187.0,0.0],[1.0,167.0,1.0,45.0,0.0,362000.0,1.0,136.0,0.0,0.0,187.0,0.0],[1.0,101.0,0.0,40.0,0.0,226000.0,0.8,141.0,0.0,0.0,187.0,0.0],[0.0,212.0,0.0,38.0,0.0,186000.0,0.9,136.0,1.0,0.0,187.0,0.0],[1.0,2281.0,1.0,40.0,0.0,283000.0,1.0,141.0,0.0,0.0,187.0,0.0],[0.0,972.0,1.0,35.0,1.0,268000.0,0.8,130.0,0.0,0.0,187.0,0.0],[0.0,212.0,1.0,17.0,1.0,389000.0,1.0,136.0,1.0,1.0,188.0,0.0],[0.0,582.0,0.0,62.0,1.0,147000.0,0.8,140.0,1.0,1.0,192.0,0.0],[0.0,224.0,0.0,50.0,0.0,481000.0,1.4,138.0,1.0,1.0,192.0,0.0],[1.0,135.0,0.0,35.0,1.0,290000.0,0.8,134.0,1.0,0.0,194.0,0.0],[0.0,582.0,0.0,35.0,1.0,203000.0,1.3,134.0,1.0,0.0,195.0,0.0],[0.0,1202.0,0.0,50.0,1.0,358000.0,0.9,141.0,0.0,0.0,196.0,0.0],[1.0,1021.0,1.0,35.0,0.0,271000.0,1.1,134.0,1.0,0.0,197.0,0.0],[0.0,582.0,1.0,35.0,1.0,371000.0,0.7,140.0,0.0,0.0,197.0,0.0],[0.0,118.0,0.0,50.0,0.0,194000.0,1.1,145.0,1.0,1.0,200.0,0.0],[1.0,86.0,0.0,35.0,0.0,365000.0,1.1,139.0,1.0,1.0,201.0,0.0],[0.0,582.0,0.0,25.0,0.0,130000.0,0.8,134.0,1.0,0.0,201.0,0.0],[0.0,582.0,1.0,25.0,0.0,504000.0,1.0,138.0,1.0,0.0,205.0,0.0],[0.0,675.0,1.0,60.0,0.0,265000.0,1.4,125.0,0.0,0.0,205.0,0.0],[1.0,57.0,0.0,25.0,0.0,189000.0,1.3,132.0,1.0,1.0,205.0,0.0],[1.0,2794.0,0.0,35.0,1.0,141000.0,1.0,140.0,1.0,0.0,206.0,0.0],[0.0,56.0,0.0,25.0,0.0,237000.0,5.0,130.0,0.0,0.0,207.0,0.0],[0.0,211.0,0.0,25.0,0.0,274000.0,1.2,134.0,0.0,0.0,207.0,0.0],[0.0,93.0,0.0,35.0,0.0,185000.0,1.1,134.0,1.0,1.0,208.0,0.0],[1.0,129.0,0.0,35.0,0.0,255000.0,0.9,137.0,1.0,0.0,209.0,0.0],[1.0,707.0,0.0,38.0,0.0,330000.0,1.4,137.0,1.0,1.0,209.0,0.0],[1.0,582.0,0.0,45.0,0.0,305000.0,1.1,137.0,1.0,1.0,209.0,0.0],[1.0,109.0,0.0,50.0,1.0,406000.0,1.1,137.0,1.0,0.0,209.0,0.0],[0.0,119.0,0.0,50.0,1.0,248000.0,1.1,148.0,1.0,0.0,209.0,0.0],[0.0,232.0,0.0,30.0,0.0,173000.0,1.2,132.0,1.0,0.0,210.0,0.0],[1.0,720.0,1.0,40.0,0.0,257000.0,1.0,136.0,0.0,0.0,210.0,0.0],[1.0,180.0,0.0,45.0,0.0,263358.03,1.18,137.0,1.0,1.0,211.0,0.0],[0.0,81.0,1.0,35.0,1.0,533000.0,1.3,139.0,0.0,0.0,212.0,0.0],[0.0,582.0,1.0,30.0,0.0,249000.0,1.3,136.0,1.0,1.0,212.0,0.0],[0.0,90.0,0.0,35.0,0.0,255000.0,1.1,136.0,1.0,1.0,212.0,0.0],[1.0,1185.0,0.0,40.0,1.0,220000.0,0.9,141.0,0.0,0.0,213.0,0.0],[0.0,582.0,1.0,38.0,0.0,264000.0,1.8,134.0,1.0,0.0,213.0,0.0],[1.0,80.0,1.0,38.0,0.0,282000.0,1.4,137.0,1.0,0.0,213.0,0.0],[0.0,143.0,0.0,25.0,0.0,246000.0,2.4,135.0,1.0,0.0,214.0,0.0],[0.0,624.0,0.0,35.0,0.0,301000.0,1.0,142.0,1.0,1.0,214.0,0.0],[0.0,207.0,1.0,40.0,0.0,223000.0,1.2,130.0,0.0,0.0,214.0,0.0],[0.0,2522.0,0.0,30.0,1.0,404000.0,0.5,139.0,0.0,0.0,214.0,0.0],[0.0,572.0,1.0,35.0,0.0,231000.0,0.8,143.0,0.0,0.0,215.0,0.0],[0.0,245.0,0.0,45.0,1.0,274000.0,1.0,133.0,1.0,0.0,215.0,0.0],[0.0,88.0,1.0,35.0,1.0,236000.0,1.2,132.0,0.0,0.0,215.0,0.0],[1.0,446.0,0.0,60.0,1.0,263358.03,1.0,139.0,1.0,0.0,215.0,0.0],[1.0,191.0,1.0,30.0,1.0,334000.0,1.0,142.0,1.0,1.0,216.0,0.0],[0.0,326.0,0.0,38.0,0.0,294000.0,1.7,139.0,0.0,0.0,220.0,0.0],[0.0,132.0,1.0,38.0,1.0,253000.0,1.0,139.0,1.0,0.0,230.0,0.0],[1.0,66.0,1.0,25.0,0.0,233000.0,0.8,135.0,1.0,0.0,230.0,0.0],[0.0,56.0,0.0,50.0,0.0,308000.0,0.7,135.0,1.0,1.0,231.0,0.0],[0.0,66.0,0.0,40.0,0.0,203000.0,1.0,138.0,1.0,0.0,233.0,0.0],[1.0,655.0,0.0,40.0,0.0,283000.0,0.7,133.0,0.0,0.0,233.0,0.0],[1.0,157.0,1.0,60.0,0.0,208000.0,1.0,140.0,0.0,0.0,237.0,0.0],[0.0,582.0,1.0,38.0,0.0,147000.0,1.2,141.0,1.0,0.0,237.0,0.0],[1.0,298.0,0.0,35.0,0.0,362000.0,0.9,140.0,1.0,1.0,240.0,0.0],[1.0,135.0,1.0,38.0,0.0,133000.0,1.7,140.0,1.0,0.0,244.0,0.0],[0.0,582.0,1.0,38.0,0.0,302000.0,0.9,140.0,0.0,0.0,244.0,0.0],[0.0,582.0,1.0,35.0,0.0,222000.0,1.0,132.0,1.0,0.0,244.0,0.0],[0.0,582.0,1.0,30.0,1.0,263358.03,1.6,130.0,1.0,1.0,244.0,0.0],[0.0,582.0,1.0,40.0,0.0,221000.0,0.9,134.0,0.0,0.0,244.0,0.0],[0.0,213.0,0.0,38.0,0.0,215000.0,1.2,133.0,0.0,0.0,245.0,0.0],[0.0,64.0,0.0,40.0,0.0,189000.0,0.7,140.0,1.0,0.0,245.0,0.0],[1.0,257.0,1.0,30.0,0.0,150000.0,1.0,137.0,1.0,1.0,245.0,0.0],[0.0,582.0,0.0,38.0,1.0,422000.0,0.8,137.0,0.0,0.0,245.0,0.0],[0.0,618.0,0.0,35.0,0.0,327000.0,1.1,142.0,0.0,0.0,245.0,0.0],[0.0,582.0,1.0,38.0,0.0,25100.0,1.1,140.0,1.0,0.0,246.0,0.0],[1.0,1051.0,1.0,30.0,0.0,232000.0,0.7,136.0,0.0,0.0,246.0,0.0],[0.0,84.0,1.0,38.0,0.0,451000.0,1.3,136.0,0.0,0.0,246.0,0.0],[0.0,2695.0,1.0,40.0,0.0,241000.0,1.0,137.0,1.0,0.0,247.0,0.0],[0.0,582.0,0.0,40.0,0.0,51000.0,2.7,136.0,1.0,1.0,250.0,0.0],[0.0,64.0,0.0,30.0,0.0,215000.0,3.8,128.0,1.0,1.0,250.0,0.0],[0.0,1688.0,0.0,38.0,0.0,263358.03,1.1,138.0,1.0,1.0,250.0,0.0],[1.0,54.0,0.0,40.0,0.0,279000.0,0.8,141.0,1.0,0.0,250.0,0.0],[1.0,170.0,1.0,40.0,0.0,336000.0,1.2,135.0,1.0,0.0,250.0,0.0],[0.0,253.0,0.0,35.0,0.0,279000.0,1.7,140.0,1.0,0.0,250.0,0.0],[0.0,582.0,1.0,55.0,0.0,543000.0,1.0,132.0,0.0,0.0,250.0,0.0],[0.0,892.0,1.0,35.0,0.0,263358.03,1.1,142.0,0.0,0.0,256.0,0.0],[1.0,337.0,0.0,38.0,0.0,390000.0,0.9,144.0,0.0,0.0,256.0,0.0],[0.0,615.0,1.0,55.0,0.0,222000.0,0.8,141.0,0.0,0.0,257.0,0.0],[0.0,320.0,0.0,35.0,0.0,133000.0,1.4,139.0,1.0,0.0,258.0,0.0],[0.0,190.0,1.0,38.0,0.0,382000.0,1.0,140.0,1.0,1.0,258.0,0.0],[1.0,103.0,1.0,35.0,0.0,179000.0,0.9,136.0,1.0,1.0,270.0,0.0],[0.0,61.0,1.0,38.0,1.0,155000.0,1.1,143.0,1.0,1.0,270.0,0.0],[0.0,1820.0,0.0,38.0,0.0,270000.0,1.2,139.0,0.0,0.0,271.0,0.0],[0.0,2060.0,1.0,60.0,0.0,742000.0,0.8,138.0,0.0,0.0,278.0,0.0],[0.0,2413.0,0.0,38.0,0.0,140000.0,1.4,140.0,1.0,1.0,280.0,0.0],[0.0,196.0,0.0,45.0,0.0,395000.0,1.6,136.0,1.0,1.0,285.0,0.0]],\"hovertemplate\":\"DEATH_EVENT=%{customdata[11]}\\u003cbr\\u003eAGE=%{x}\\u003cbr\\u003eanaemia=%{customdata[0]}\\u003cbr\\u003ecreatinine_phosphokinase=%{customdata[1]}\\u003cbr\\u003ediabetes=%{customdata[2]}\\u003cbr\\u003eejection_fraction=%{customdata[3]}\\u003cbr\\u003ehigh_blood_pressure=%{customdata[4]}\\u003cbr\\u003eplatelets=%{customdata[5]}\\u003cbr\\u003eserum_creatinine=%{customdata[6]}\\u003cbr\\u003eserum_sodium=%{customdata[7]}\\u003cbr\\u003esex=%{customdata[8]}\\u003cbr\\u003esmoking=%{customdata[9]}\\u003cbr\\u003etime=%{customdata[10]}\\u003cextra\\u003e\\u003c\\u002fextra\\u003e\",\"legendgroup\":\"0\",\"marker\":{\"color\":\"#EF553B\"},\"name\":\"0\",\"offsetgroup\":\"0\",\"scalegroup\":\"x\",\"showlegend\":false,\"x\":[49.0,65.0,53.0,50.0,60.0,72.0,70.0,60.0,55.0,45.0,41.0,58.0,65.0,70.0,42.0,75.0,55.0,70.0,67.0,79.0,51.0,55.0,65.0,44.0,57.0,70.0,60.0,42.0,58.0,58.0,63.0,70.0,60.0,63.0,65.0,75.0,80.0,42.0,60.0,55.0,45.0,63.0,45.0,55.0,50.0,60.0,58.0,60.0,85.0,65.0,60.0,66.0,60.0,60.0,43.0,58.0,61.0,53.0,53.0,60.0,46.0,63.0,81.0,75.0,65.0,68.0,62.0,50.0,46.0,50.0,61.0,50.0,52.0,64.0,60.0,62.0,50.0,50.0,65.0,60.0,52.0,50.0,85.0,59.0,66.0,45.0,63.0,53.0,65.0,70.0,51.0,52.0,70.0,50.0,65.0,60.0,69.0,49.0,63.0,55.0,40.0,60.667,40.0,80.0,64.0,50.0,73.0,45.0,65.0,50.0,60.0,63.0,45.0,70.0,60.0,78.0,50.0,40.0,85.0,60.0,49.0,70.0,50.0,78.0,65.0,73.0,70.0,68.0,55.0,65.0,42.0,47.0,58.0,75.0,58.0,55.0,65.0,72.0,70.0,40.0,53.0,53.0,77.0,75.0,70.0,65.0,55.0,70.0,65.0,40.0,73.0,54.0,61.0,64.0,40.0,53.0,50.0,55.0,50.0,70.0,53.0,52.0,65.0,58.0,45.0,53.0,55.0,62.0,68.0,61.0,50.0,56.0,45.0,40.0,44.0,51.0,67.0,42.0,60.0,45.0,70.0,70.0,50.0,55.0,70.0,70.0,42.0,65.0,50.0,55.0,60.0,45.0,65.0,90.0,45.0,60.0,52.0,63.0,62.0,55.0,45.0,45.0,50.0],\"xaxis\":\"x2\",\"yaxis\":\"y2\",\"type\":\"violin\"}],                        {\"template\":{\"data\":{\"histogram2dcontour\":[{\"type\":\"histogram2dcontour\",\"colorbar\":{\"outlinewidth\":0,\"ticks\":\"\"},\"colorscale\":[[0.0,\"#0d0887\"],[0.1111111111111111,\"#46039f\"],[0.2222222222222222,\"#7201a8\"],[0.3333333333333333,\"#9c179e\"],[0.4444444444444444,\"#bd3786\"],[0.5555555555555556,\"#d8576b\"],[0.6666666666666666,\"#ed7953\"],[0.7777777777777778,\"#fb9f3a\"],[0.8888888888888888,\"#fdca26\"],[1.0,\"#f0f921\"]]}],\"choropleth\":[{\"type\":\"choropleth\",\"colorbar\":{\"outlinewidth\":0,\"ticks\":\"\"}}],\"histogram2d\":[{\"type\":\"histogram2d\",\"colorbar\":{\"outlinewidth\":0,\"ticks\":\"\"},\"colorscale\":[[0.0,\"#0d0887\"],[0.1111111111111111,\"#46039f\"],[0.2222222222222222,\"#7201a8\"],[0.3333333333333333,\"#9c179e\"],[0.4444444444444444,\"#bd3786\"],[0.5555555555555556,\"#d8576b\"],[0.6666666666666666,\"#ed7953\"],[0.7777777777777778,\"#fb9f3a\"],[0.8888888888888888,\"#fdca26\"],[1.0,\"#f0f921\"]]}],\"heatmap\":[{\"type\":\"heatmap\",\"colorbar\":{\"outlinewidth\":0,\"ticks\":\"\"},\"colorscale\":[[0.0,\"#0d0887\"],[0.1111111111111111,\"#46039f\"],[0.2222222222222222,\"#7201a8\"],[0.3333333333333333,\"#9c179e\"],[0.4444444444444444,\"#bd3786\"],[0.5555555555555556,\"#d8576b\"],[0.6666666666666666,\"#ed7953\"],[0.7777777777777778,\"#fb9f3a\"],[0.8888888888888888,\"#fdca26\"],[1.0,\"#f0f921\"]]}],\"heatmapgl\":[{\"type\":\"heatmapgl\",\"colorbar\":{\"outlinewidth\":0,\"ticks\":\"\"},\"colorscale\":[[0.0,\"#0d0887\"],[0.1111111111111111,\"#46039f\"],[0.2222222222222222,\"#7201a8\"],[0.3333333333333333,\"#9c179e\"],[0.4444444444444444,\"#bd3786\"],[0.5555555555555556,\"#d8576b\"],[0.6666666666666666,\"#ed7953\"],[0.7777777777777778,\"#fb9f3a\"],[0.8888888888888888,\"#fdca26\"],[1.0,\"#f0f921\"]]}],\"contourcarpet\":[{\"type\":\"contourcarpet\",\"colorbar\":{\"outlinewidth\":0,\"ticks\":\"\"}}],\"contour\":[{\"type\":\"contour\",\"colorbar\":{\"outlinewidth\":0,\"ticks\":\"\"},\"colorscale\":[[0.0,\"#0d0887\"],[0.1111111111111111,\"#46039f\"],[0.2222222222222222,\"#7201a8\"],[0.3333333333333333,\"#9c179e\"],[0.4444444444444444,\"#bd3786\"],[0.5555555555555556,\"#d8576b\"],[0.6666666666666666,\"#ed7953\"],[0.7777777777777778,\"#fb9f3a\"],[0.8888888888888888,\"#fdca26\"],[1.0,\"#f0f921\"]]}],\"surface\":[{\"type\":\"surface\",\"colorbar\":{\"outlinewidth\":0,\"ticks\":\"\"},\"colorscale\":[[0.0,\"#0d0887\"],[0.1111111111111111,\"#46039f\"],[0.2222222222222222,\"#7201a8\"],[0.3333333333333333,\"#9c179e\"],[0.4444444444444444,\"#bd3786\"],[0.5555555555555556,\"#d8576b\"],[0.6666666666666666,\"#ed7953\"],[0.7777777777777778,\"#fb9f3a\"],[0.8888888888888888,\"#fdca26\"],[1.0,\"#f0f921\"]]}],\"mesh3d\":[{\"type\":\"mesh3d\",\"colorbar\":{\"outlinewidth\":0,\"ticks\":\"\"}}],\"scatter\":[{\"fillpattern\":{\"fillmode\":\"overlay\",\"size\":10,\"solidity\":0.2},\"type\":\"scatter\"}],\"parcoords\":[{\"type\":\"parcoords\",\"line\":{\"colorbar\":{\"outlinewidth\":0,\"ticks\":\"\"}}}],\"scatterpolargl\":[{\"type\":\"scatterpolargl\",\"marker\":{\"colorbar\":{\"outlinewidth\":0,\"ticks\":\"\"}}}],\"bar\":[{\"error_x\":{\"color\":\"#2a3f5f\"},\"error_y\":{\"color\":\"#2a3f5f\"},\"marker\":{\"line\":{\"color\":\"#E5ECF6\",\"width\":0.5},\"pattern\":{\"fillmode\":\"overlay\",\"size\":10,\"solidity\":0.2}},\"type\":\"bar\"}],\"scattergeo\":[{\"type\":\"scattergeo\",\"marker\":{\"colorbar\":{\"outlinewidth\":0,\"ticks\":\"\"}}}],\"scatterpolar\":[{\"type\":\"scatterpolar\",\"marker\":{\"colorbar\":{\"outlinewidth\":0,\"ticks\":\"\"}}}],\"histogram\":[{\"marker\":{\"pattern\":{\"fillmode\":\"overlay\",\"size\":10,\"solidity\":0.2}},\"type\":\"histogram\"}],\"scattergl\":[{\"type\":\"scattergl\",\"marker\":{\"colorbar\":{\"outlinewidth\":0,\"ticks\":\"\"}}}],\"scatter3d\":[{\"type\":\"scatter3d\",\"line\":{\"colorbar\":{\"outlinewidth\":0,\"ticks\":\"\"}},\"marker\":{\"colorbar\":{\"outlinewidth\":0,\"ticks\":\"\"}}}],\"scattermapbox\":[{\"type\":\"scattermapbox\",\"marker\":{\"colorbar\":{\"outlinewidth\":0,\"ticks\":\"\"}}}],\"scatterternary\":[{\"type\":\"scatterternary\",\"marker\":{\"colorbar\":{\"outlinewidth\":0,\"ticks\":\"\"}}}],\"scattercarpet\":[{\"type\":\"scattercarpet\",\"marker\":{\"colorbar\":{\"outlinewidth\":0,\"ticks\":\"\"}}}],\"carpet\":[{\"aaxis\":{\"endlinecolor\":\"#2a3f5f\",\"gridcolor\":\"white\",\"linecolor\":\"white\",\"minorgridcolor\":\"white\",\"startlinecolor\":\"#2a3f5f\"},\"baxis\":{\"endlinecolor\":\"#2a3f5f\",\"gridcolor\":\"white\",\"linecolor\":\"white\",\"minorgridcolor\":\"white\",\"startlinecolor\":\"#2a3f5f\"},\"type\":\"carpet\"}],\"table\":[{\"cells\":{\"fill\":{\"color\":\"#EBF0F8\"},\"line\":{\"color\":\"white\"}},\"header\":{\"fill\":{\"color\":\"#C8D4E3\"},\"line\":{\"color\":\"white\"}},\"type\":\"table\"}],\"barpolar\":[{\"marker\":{\"line\":{\"color\":\"#E5ECF6\",\"width\":0.5},\"pattern\":{\"fillmode\":\"overlay\",\"size\":10,\"solidity\":0.2}},\"type\":\"barpolar\"}],\"pie\":[{\"automargin\":true,\"type\":\"pie\"}]},\"layout\":{\"autotypenumbers\":\"strict\",\"colorway\":[\"#636efa\",\"#EF553B\",\"#00cc96\",\"#ab63fa\",\"#FFA15A\",\"#19d3f3\",\"#FF6692\",\"#B6E880\",\"#FF97FF\",\"#FECB52\"],\"font\":{\"color\":\"#2a3f5f\"},\"hovermode\":\"closest\",\"hoverlabel\":{\"align\":\"left\"},\"paper_bgcolor\":\"white\",\"plot_bgcolor\":\"#E5ECF6\",\"polar\":{\"bgcolor\":\"#E5ECF6\",\"angularaxis\":{\"gridcolor\":\"white\",\"linecolor\":\"white\",\"ticks\":\"\"},\"radialaxis\":{\"gridcolor\":\"white\",\"linecolor\":\"white\",\"ticks\":\"\"}},\"ternary\":{\"bgcolor\":\"#E5ECF6\",\"aaxis\":{\"gridcolor\":\"white\",\"linecolor\":\"white\",\"ticks\":\"\"},\"baxis\":{\"gridcolor\":\"white\",\"linecolor\":\"white\",\"ticks\":\"\"},\"caxis\":{\"gridcolor\":\"white\",\"linecolor\":\"white\",\"ticks\":\"\"}},\"coloraxis\":{\"colorbar\":{\"outlinewidth\":0,\"ticks\":\"\"}},\"colorscale\":{\"sequential\":[[0.0,\"#0d0887\"],[0.1111111111111111,\"#46039f\"],[0.2222222222222222,\"#7201a8\"],[0.3333333333333333,\"#9c179e\"],[0.4444444444444444,\"#bd3786\"],[0.5555555555555556,\"#d8576b\"],[0.6666666666666666,\"#ed7953\"],[0.7777777777777778,\"#fb9f3a\"],[0.8888888888888888,\"#fdca26\"],[1.0,\"#f0f921\"]],\"sequentialminus\":[[0.0,\"#0d0887\"],[0.1111111111111111,\"#46039f\"],[0.2222222222222222,\"#7201a8\"],[0.3333333333333333,\"#9c179e\"],[0.4444444444444444,\"#bd3786\"],[0.5555555555555556,\"#d8576b\"],[0.6666666666666666,\"#ed7953\"],[0.7777777777777778,\"#fb9f3a\"],[0.8888888888888888,\"#fdca26\"],[1.0,\"#f0f921\"]],\"diverging\":[[0,\"#8e0152\"],[0.1,\"#c51b7d\"],[0.2,\"#de77ae\"],[0.3,\"#f1b6da\"],[0.4,\"#fde0ef\"],[0.5,\"#f7f7f7\"],[0.6,\"#e6f5d0\"],[0.7,\"#b8e186\"],[0.8,\"#7fbc41\"],[0.9,\"#4d9221\"],[1,\"#276419\"]]},\"xaxis\":{\"gridcolor\":\"white\",\"linecolor\":\"white\",\"ticks\":\"\",\"title\":{\"standoff\":15},\"zerolinecolor\":\"white\",\"automargin\":true,\"zerolinewidth\":2},\"yaxis\":{\"gridcolor\":\"white\",\"linecolor\":\"white\",\"ticks\":\"\",\"title\":{\"standoff\":15},\"zerolinecolor\":\"white\",\"automargin\":true,\"zerolinewidth\":2},\"scene\":{\"xaxis\":{\"backgroundcolor\":\"#E5ECF6\",\"gridcolor\":\"white\",\"linecolor\":\"white\",\"showbackground\":true,\"ticks\":\"\",\"zerolinecolor\":\"white\",\"gridwidth\":2},\"yaxis\":{\"backgroundcolor\":\"#E5ECF6\",\"gridcolor\":\"white\",\"linecolor\":\"white\",\"showbackground\":true,\"ticks\":\"\",\"zerolinecolor\":\"white\",\"gridwidth\":2},\"zaxis\":{\"backgroundcolor\":\"#E5ECF6\",\"gridcolor\":\"white\",\"linecolor\":\"white\",\"showbackground\":true,\"ticks\":\"\",\"zerolinecolor\":\"white\",\"gridwidth\":2}},\"shapedefaults\":{\"line\":{\"color\":\"#2a3f5f\"}},\"annotationdefaults\":{\"arrowcolor\":\"#2a3f5f\",\"arrowhead\":0,\"arrowwidth\":1},\"geo\":{\"bgcolor\":\"white\",\"landcolor\":\"#E5ECF6\",\"subunitcolor\":\"white\",\"showland\":true,\"showlakes\":true,\"lakecolor\":\"white\"},\"title\":{\"x\":0.05},\"mapbox\":{\"style\":\"light\"}}},\"xaxis\":{\"anchor\":\"y\",\"domain\":[0.0,1.0],\"title\":{\"text\":\"AGE\"}},\"yaxis\":{\"anchor\":\"x\",\"domain\":[0.0,0.7326],\"title\":{\"text\":\"count\"}},\"xaxis2\":{\"anchor\":\"y2\",\"domain\":[0.0,1.0],\"matches\":\"x\",\"showticklabels\":false,\"showgrid\":true},\"yaxis2\":{\"anchor\":\"x2\",\"domain\":[0.7426,1.0],\"matches\":\"y2\",\"showticklabels\":false,\"showline\":false,\"ticks\":\"\",\"showgrid\":false},\"legend\":{\"title\":{\"text\":\"DEATH_EVENT\"},\"tracegroupgap\":0},\"title\":{\"text\":\"Distribution of AGE Vs DEATH_EVENT\"},\"barmode\":\"relative\"},                        {\"responsive\": true}                    ).then(function(){\n",
       "                            \n",
       "var gd = document.getElementById('16c0f340-7542-4600-a008-2c61ef263e54');\n",
       "var x = new MutationObserver(function (mutations, observer) {{\n",
       "        var display = window.getComputedStyle(gd).display;\n",
       "        if (!display || display === 'none') {{\n",
       "            console.log([gd, 'removed!']);\n",
       "            Plotly.purge(gd);\n",
       "            observer.disconnect();\n",
       "        }}\n",
       "}});\n",
       "\n",
       "// Listen for the removal of the full notebook cells\n",
       "var notebookContainer = gd.closest('#notebook-container');\n",
       "if (notebookContainer) {{\n",
       "    x.observe(notebookContainer, {childList: true});\n",
       "}}\n",
       "\n",
       "// Listen for the clearing of the current output cell\n",
       "var outputEl = gd.closest('.output');\n",
       "if (outputEl) {{\n",
       "    x.observe(outputEl, {childList: true});\n",
       "}}\n",
       "\n",
       "                        })                };                });            </script>        </div>"
      ]
     },
     "metadata": {},
     "output_type": "display_data"
    }
   ],
   "source": [
    "# Distribution of AGE Vs DEATH_EVENT\n",
    "\n",
    "fig = px.histogram(train, x=\"age\", color=\"DEATH_EVENT\", marginal=\"violin\", hover_data=train.columns, \n",
    "                   title =\"Distribution of AGE Vs DEATH_EVENT\", \n",
    "                   labels={\"age\": \"AGE\"},\n",
    "                   template=\"plotly\",\n",
    "                   \n",
    "                   \n",
    "                  )\n",
    "fig.show()"
   ]
  },
  {
   "cell_type": "code",
   "execution_count": 34,
   "id": "6f927e9d",
   "metadata": {},
   "outputs": [
    {
     "data": {
      "text/plain": [
       "<AxesSubplot:ylabel='count'>"
      ]
     },
     "execution_count": 34,
     "metadata": {},
     "output_type": "execute_result"
    },
    {
     "data": {
      "image/png": "[encoded data removed]",
      "text/plain": [
       "<Figure size 576x576 with 1 Axes>"
      ]
     },
     "metadata": {},
     "output_type": "display_data"
    }
   ],
   "source": [
    "train.sex.value_counts().plot.pie(explode=[0.1,0.1],autopct='%1.1f%%',shadow=True)"
   ]
  },
  {
   "cell_type": "code",
   "execution_count": 35,
   "id": "452bae41",
   "metadata": {},
   "outputs": [
    {
     "data": {
      "image/png": "[encoded data removed]",
      "text/plain": [
       "<Figure size 576x576 with 1 Axes>"
      ]
     },
     "metadata": {},
     "output_type": "display_data"
    }
   ],
   "source": [
    "sns.countplot(x='sex',hue='DEATH_EVENT',data=train)\n",
    "plt.legend(['yes','no'])\n",
    "plt.show()"
   ]
  },
  {
   "cell_type": "code",
   "execution_count": 36,
   "id": "26bdfd09",
   "metadata": {},
   "outputs": [
    {
     "data": {
      "application/vnd.plotly.v1+json": {
       "config": {
        "plotlyServerURL": "https://plot.ly"
       },
       "data": [
        {
         "domain": {
          "x": [
           0,
           0.45
          ],
          "y": [
           0,
           1
          ]
         },
         "hole": 0.4,
         "hoverinfo": "label+percent",
         "labels": [
          "Male",
          "Female"
         ],
         "name": "GENDER",
         "type": "pie",
         "values": [
          194,
          105
         ]
        },
        {
         "domain": {
          "x": [
           0.55,
           1
          ],
          "y": [
           0,
           1
          ]
         },
         "hole": 0.4,
         "hoverinfo": "label+percent",
         "labels": [
          "Male - Survived",
          "Male - Died",
          "Female -  Survived",
          "Female - Died"
         ],
         "name": "GENDER VS DEATH_EVENT",
         "type": "pie",
         "values": [
          132,
          62,
          71,
          34
         ]
        }
       ],
       "layout": {
        "annotations": [
         {
          "font": {
           "size": 10
          },
          "showarrow": false,
          "text": "GENDER",
          "x": 0.19,
          "y": 0.5
         },
         {
          "font": {
           "size": 9
          },
          "showarrow": false,
          "text": "GENDER VS DEATH_EVENT",
          "x": 0.84,
          "y": 0.5
         }
        ],
        "autosize": false,
        "height": 500,
        "paper_bgcolor": "white",
        "template": {
         "data": {
          "bar": [
           {
            "error_x": {
             "color": "#2a3f5f"
            },
            "error_y": {
             "color": "#2a3f5f"
            },
            "marker": {
             "line": {
              "color": "#E5ECF6",
              "width": 0.5
             },
             "pattern": {
              "fillmode": "overlay",
              "size": 10,
              "solidity": 0.2
             }
            },
            "type": "bar"
           }
          ],
          "barpolar": [
           {
            "marker": {
             "line": {
              "color": "#E5ECF6",
              "width": 0.5
             },
             "pattern": {
              "fillmode": "overlay",
              "size": 10,
              "solidity": 0.2
             }
            },
            "type": "barpolar"
           }
          ],
          "carpet": [
           {
            "aaxis": {
             "endlinecolor": "#2a3f5f",
             "gridcolor": "white",
             "linecolor": "white",
             "minorgridcolor": "white",
             "startlinecolor": "#2a3f5f"
            },
            "baxis": {
             "endlinecolor": "#2a3f5f",
             "gridcolor": "white",
             "linecolor": "white",
             "minorgridcolor": "white",
             "startlinecolor": "#2a3f5f"
            },
            "type": "carpet"
           }
          ],
          "choropleth": [
           {
            "colorbar": {
             "outlinewidth": 0,
             "ticks": ""
            },
            "type": "choropleth"
           }
          ],
          "contour": [
           {
            "colorbar": {
             "outlinewidth": 0,
             "ticks": ""
            },
            "colorscale": [
             [
              0,
              "#0d0887"
             ],
             [
              0.1111111111111111,
              "#46039f"
             ],
             [
              0.2222222222222222,
              "#7201a8"
             ],
             [
              0.3333333333333333,
              "#9c179e"
             ],
             [
              0.4444444444444444,
              "#bd3786"
             ],
             [
              0.5555555555555556,
              "#d8576b"
             ],
             [
              0.6666666666666666,
              "#ed7953"
             ],
             [
              0.7777777777777778,
              "#fb9f3a"
             ],
             [
              0.8888888888888888,
              "#fdca26"
             ],
             [
              1,
              "#f0f921"
             ]
            ],
            "type": "contour"
           }
          ],
          "contourcarpet": [
           {
            "colorbar": {
             "outlinewidth": 0,
             "ticks": ""
            },
            "type": "contourcarpet"
           }
          ],
          "heatmap": [
           {
            "colorbar": {
             "outlinewidth": 0,
             "ticks": ""
            },
            "colorscale": [
             [
              0,
              "#0d0887"
             ],
             [
              0.1111111111111111,
              "#46039f"
             ],
             [
              0.2222222222222222,
              "#7201a8"
             ],
             [
              0.3333333333333333,
              "#9c179e"
             ],
             [
              0.4444444444444444,
              "#bd3786"
             ],
             [
              0.5555555555555556,
              "#d8576b"
             ],
             [
              0.6666666666666666,
              "#ed7953"
             ],
             [
              0.7777777777777778,
              "#fb9f3a"
             ],
             [
              0.8888888888888888,
              "#fdca26"
             ],
             [
              1,
              "#f0f921"
             ]
            ],
            "type": "heatmap"
           }
          ],
          "heatmapgl": [
           {
            "colorbar": {
             "outlinewidth": 0,
             "ticks": ""
            },
            "colorscale": [
             [
              0,
              "#0d0887"
             ],
             [
              0.1111111111111111,
              "#46039f"
             ],
             [
              0.2222222222222222,
              "#7201a8"
             ],
             [
              0.3333333333333333,
              "#9c179e"
             ],
             [
              0.4444444444444444,
              "#bd3786"
             ],
             [
              0.5555555555555556,
              "#d8576b"
             ],
             [
              0.6666666666666666,
              "#ed7953"
             ],
             [
              0.7777777777777778,
              "#fb9f3a"
             ],
             [
              0.8888888888888888,
              "#fdca26"
             ],
             [
              1,
              "#f0f921"
             ]
            ],
            "type": "heatmapgl"
           }
          ],
          "histogram": [
           {
            "marker": {
             "pattern": {
              "fillmode": "overlay",
              "size": 10,
              "solidity": 0.2
             }
            },
            "type": "histogram"
           }
          ],
          "histogram2d": [
           {
            "colorbar": {
             "outlinewidth": 0,
             "ticks": ""
            },
            "colorscale": [
             [
              0,
              "#0d0887"
             ],
             [
              0.1111111111111111,
              "#46039f"
             ],
             [
              0.2222222222222222,
              "#7201a8"
             ],
             [
              0.3333333333333333,
              "#9c179e"
             ],
             [
              0.4444444444444444,
              "#bd3786"
             ],
             [
              0.5555555555555556,
              "#d8576b"
             ],
             [
              0.6666666666666666,
              "#ed7953"
             ],
             [
              0.7777777777777778,
              "#fb9f3a"
             ],
             [
              0.8888888888888888,
              "#fdca26"
             ],
             [
              1,
              "#f0f921"
             ]
            ],
            "type": "histogram2d"
           }
          ],
          "histogram2dcontour": [
           {
            "colorbar": {
             "outlinewidth": 0,
             "ticks": ""
            },
            "colorscale": [
             [
              0,
              "#0d0887"
             ],
             [
              0.1111111111111111,
              "#46039f"
             ],
             [
              0.2222222222222222,
              "#7201a8"
             ],
             [
              0.3333333333333333,
              "#9c179e"
             ],
             [
              0.4444444444444444,
              "#bd3786"
             ],
             [
              0.5555555555555556,
              "#d8576b"
             ],
             [
              0.6666666666666666,
              "#ed7953"
             ],
             [
              0.7777777777777778,
              "#fb9f3a"
             ],
             [
              0.8888888888888888,
              "#fdca26"
             ],
             [
              1,
              "#f0f921"
             ]
            ],
            "type": "histogram2dcontour"
           }
          ],
          "mesh3d": [
           {
            "colorbar": {
             "outlinewidth": 0,
             "ticks": ""
            },
            "type": "mesh3d"
           }
          ],
          "parcoords": [
           {
            "line": {
             "colorbar": {
              "outlinewidth": 0,
              "ticks": ""
             }
            },
            "type": "parcoords"
           }
          ],
          "pie": [
           {
            "automargin": true,
            "type": "pie"
           }
          ],
          "scatter": [
           {
            "fillpattern": {
             "fillmode": "overlay",
             "size": 10,
             "solidity": 0.2
            },
            "type": "scatter"
           }
          ],
          "scatter3d": [
           {
            "line": {
             "colorbar": {
              "outlinewidth": 0,
              "ticks": ""
             }
            },
            "marker": {
             "colorbar": {
              "outlinewidth": 0,
              "ticks": ""
             }
            },
            "type": "scatter3d"
           }
          ],
          "scattercarpet": [
           {
            "marker": {
             "colorbar": {
              "outlinewidth": 0,
              "ticks": ""
             }
            },
            "type": "scattercarpet"
           }
          ],
          "scattergeo": [
           {
            "marker": {
             "colorbar": {
              "outlinewidth": 0,
              "ticks": ""
             }
            },
            "type": "scattergeo"
           }
          ],
          "scattergl": [
           {
            "marker": {
             "colorbar": {
              "outlinewidth": 0,
              "ticks": ""
             }
            },
            "type": "scattergl"
           }
          ],
          "scattermapbox": [
           {
            "marker": {
             "colorbar": {
              "outlinewidth": 0,
              "ticks": ""
             }
            },
            "type": "scattermapbox"
           }
          ],
          "scatterpolar": [
           {
            "marker": {
             "colorbar": {
              "outlinewidth": 0,
              "ticks": ""
             }
            },
            "type": "scatterpolar"
           }
          ],
          "scatterpolargl": [
           {
            "marker": {
             "colorbar": {
              "outlinewidth": 0,
              "ticks": ""
             }
            },
            "type": "scatterpolargl"
           }
          ],
          "scatterternary": [
           {
            "marker": {
             "colorbar": {
              "outlinewidth": 0,
              "ticks": ""
             }
            },
            "type": "scatterternary"
           }
          ],
          "surface": [
           {
            "colorbar": {
             "outlinewidth": 0,
             "ticks": ""
            },
            "colorscale": [
             [
              0,
              "#0d0887"
             ],
             [
              0.1111111111111111,
              "#46039f"
             ],
             [
              0.2222222222222222,
              "#7201a8"
             ],
             [
              0.3333333333333333,
              "#9c179e"
             ],
             [
              0.4444444444444444,
              "#bd3786"
             ],
             [
              0.5555555555555556,
              "#d8576b"
             ],
             [
              0.6666666666666666,
              "#ed7953"
             ],
             [
              0.7777777777777778,
              "#fb9f3a"
             ],
             [
              0.8888888888888888,
              "#fdca26"
             ],
             [
              1,
              "#f0f921"
             ]
            ],
            "type": "surface"
           }
          ],
          "table": [
           {
            "cells": {
             "fill": {
              "color": "#EBF0F8"
             },
             "line": {
              "color": "white"
             }
            },
            "header": {
             "fill": {
              "color": "#C8D4E3"
             },
             "line": {
              "color": "white"
             }
            },
            "type": "table"
           }
          ]
         },
         "layout": {
          "annotationdefaults": {
           "arrowcolor": "#2a3f5f",
           "arrowhead": 0,
           "arrowwidth": 1
          },
          "autotypenumbers": "strict",
          "coloraxis": {
           "colorbar": {
            "outlinewidth": 0,
            "ticks": ""
           }
          },
          "colorscale": {
           "diverging": [
            [
             0,
             "#8e0152"
            ],
            [
             0.1,
             "#c51b7d"
            ],
            [
             0.2,
             "#de77ae"
            ],
            [
             0.3,
             "#f1b6da"
            ],
            [
             0.4,
             "#fde0ef"
            ],
            [
             0.5,
             "#f7f7f7"
            ],
            [
             0.6,
             "#e6f5d0"
            ],
            [
             0.7,
             "#b8e186"
            ],
            [
             0.8,
             "#7fbc41"
            ],
            [
             0.9,
             "#4d9221"
            ],
            [
             1,
             "#276419"
            ]
           ],
           "sequential": [
            [
             0,
             "#0d0887"
            ],
            [
             0.1111111111111111,
             "#46039f"
            ],
            [
             0.2222222222222222,
             "#7201a8"
            ],
            [
             0.3333333333333333,
             "#9c179e"
            ],
            [
             0.4444444444444444,
             "#bd3786"
            ],
            [
             0.5555555555555556,
             "#d8576b"
            ],
            [
             0.6666666666666666,
             "#ed7953"
            ],
            [
             0.7777777777777778,
             "#fb9f3a"
            ],
            [
             0.8888888888888888,
             "#fdca26"
            ],
            [
             1,
             "#f0f921"
            ]
           ],
           "sequentialminus": [
            [
             0,
             "#0d0887"
            ],
            [
             0.1111111111111111,
             "#46039f"
            ],
            [
             0.2222222222222222,
             "#7201a8"
            ],
            [
             0.3333333333333333,
             "#9c179e"
            ],
            [
             0.4444444444444444,
             "#bd3786"
            ],
            [
             0.5555555555555556,
             "#d8576b"
            ],
            [
             0.6666666666666666,
             "#ed7953"
            ],
            [
             0.7777777777777778,
             "#fb9f3a"
            ],
            [
             0.8888888888888888,
             "#fdca26"
            ],
            [
             1,
             "#f0f921"
            ]
           ]
          },
          "colorway": [
           "#636efa",
           "#EF553B",
           "#00cc96",
           "#ab63fa",
           "#FFA15A",
           "#19d3f3",
           "#FF6692",
           "#B6E880",
           "#FF97FF",
           "#FECB52"
          ],
          "font": {
           "color": "#2a3f5f"
          },
          "geo": {
           "bgcolor": "white",
           "lakecolor": "white",
           "landcolor": "#E5ECF6",
           "showlakes": true,
           "showland": true,
           "subunitcolor": "white"
          },
          "hoverlabel": {
           "align": "left"
          },
          "hovermode": "closest",
          "mapbox": {
           "style": "light"
          },
          "paper_bgcolor": "white",
          "plot_bgcolor": "#E5ECF6",
          "polar": {
           "angularaxis": {
            "gridcolor": "white",
            "linecolor": "white",
            "ticks": ""
           },
           "bgcolor": "#E5ECF6",
           "radialaxis": {
            "gridcolor": "white",
            "linecolor": "white",
            "ticks": ""
           }
          },
          "scene": {
           "xaxis": {
            "backgroundcolor": "#E5ECF6",
            "gridcolor": "white",
            "gridwidth": 2,
            "linecolor": "white",
            "showbackground": true,
            "ticks": "",
            "zerolinecolor": "white"
           },
           "yaxis": {
            "backgroundcolor": "#E5ECF6",
            "gridcolor": "white",
            "gridwidth": 2,
            "linecolor": "white",
            "showbackground": true,
            "ticks": "",
            "zerolinecolor": "white"
           },
           "zaxis": {
            "backgroundcolor": "#E5ECF6",
            "gridcolor": "white",
            "gridwidth": 2,
            "linecolor": "white",
            "showbackground": true,
            "ticks": "",
            "zerolinecolor": "white"
           }
          },
          "shapedefaults": {
           "line": {
            "color": "#2a3f5f"
           }
          },
          "ternary": {
           "aaxis": {
            "gridcolor": "white",
            "linecolor": "white",
            "ticks": ""
           },
           "baxis": {
            "gridcolor": "white",
            "linecolor": "white",
            "ticks": ""
           },
           "bgcolor": "#E5ECF6",
           "caxis": {
            "gridcolor": "white",
            "linecolor": "white",
            "ticks": ""
           }
          },
          "title": {
           "x": 0.05
          },
          "xaxis": {
           "automargin": true,
           "gridcolor": "white",
           "linecolor": "white",
           "ticks": "",
           "title": {
            "standoff": 15
           },
           "zerolinecolor": "white",
           "zerolinewidth": 2
          },
          "yaxis": {
           "automargin": true,
           "gridcolor": "white",
           "linecolor": "white",
           "ticks": "",
           "title": {
            "standoff": 15
           },
           "zerolinecolor": "white",
           "zerolinewidth": 2
          }
         }
        },
        "title": {
         "text": "GENDER DISTRIBUTION IN THE DATASET                     GENDER VS DEATH_EVENT"
        },
        "width": 1200
       }
      },
      "text/html": [
       "<div>                            <div id=\"c5367aee-795c-488e-992f-0f7e596b0462\" class=\"plotly-graph-div\" style=\"height:500px; width:1200px;\"></div>            <script type=\"text/javascript\">                require([\"plotly\"], function(Plotly) {                    window.PLOTLYENV=window.PLOTLYENV || {};                                    if (document.getElementById(\"c5367aee-795c-488e-992f-0f7e596b0462\")) {                    Plotly.newPlot(                        \"c5367aee-795c-488e-992f-0f7e596b0462\",                        [{\"labels\":[\"Male\",\"Female\"],\"name\":\"GENDER\",\"values\":[194,105],\"type\":\"pie\",\"domain\":{\"x\":[0.0,0.45],\"y\":[0.0,1.0]},\"hole\":0.4,\"hoverinfo\":\"label+percent\"},{\"labels\":[\"Male - Survived\",\"Male - Died\",\"Female -  Survived\",\"Female - Died\"],\"name\":\"GENDER VS DEATH_EVENT\",\"values\":[132,62,71,34],\"type\":\"pie\",\"domain\":{\"x\":[0.55,1.0],\"y\":[0.0,1.0]},\"hole\":0.4,\"hoverinfo\":\"label+percent\"}],                        {\"template\":{\"data\":{\"histogram2dcontour\":[{\"type\":\"histogram2dcontour\",\"colorbar\":{\"outlinewidth\":0,\"ticks\":\"\"},\"colorscale\":[[0.0,\"#0d0887\"],[0.1111111111111111,\"#46039f\"],[0.2222222222222222,\"#7201a8\"],[0.3333333333333333,\"#9c179e\"],[0.4444444444444444,\"#bd3786\"],[0.5555555555555556,\"#d8576b\"],[0.6666666666666666,\"#ed7953\"],[0.7777777777777778,\"#fb9f3a\"],[0.8888888888888888,\"#fdca26\"],[1.0,\"#f0f921\"]]}],\"choropleth\":[{\"type\":\"choropleth\",\"colorbar\":{\"outlinewidth\":0,\"ticks\":\"\"}}],\"histogram2d\":[{\"type\":\"histogram2d\",\"colorbar\":{\"outlinewidth\":0,\"ticks\":\"\"},\"colorscale\":[[0.0,\"#0d0887\"],[0.1111111111111111,\"#46039f\"],[0.2222222222222222,\"#7201a8\"],[0.3333333333333333,\"#9c179e\"],[0.4444444444444444,\"#bd3786\"],[0.5555555555555556,\"#d8576b\"],[0.6666666666666666,\"#ed7953\"],[0.7777777777777778,\"#fb9f3a\"],[0.8888888888888888,\"#fdca26\"],[1.0,\"#f0f921\"]]}],\"heatmap\":[{\"type\":\"heatmap\",\"colorbar\":{\"outlinewidth\":0,\"ticks\":\"\"},\"colorscale\":[[0.0,\"#0d0887\"],[0.1111111111111111,\"#46039f\"],[0.2222222222222222,\"#7201a8\"],[0.3333333333333333,\"#9c179e\"],[0.4444444444444444,\"#bd3786\"],[0.5555555555555556,\"#d8576b\"],[0.6666666666666666,\"#ed7953\"],[0.7777777777777778,\"#fb9f3a\"],[0.8888888888888888,\"#fdca26\"],[1.0,\"#f0f921\"]]}],\"heatmapgl\":[{\"type\":\"heatmapgl\",\"colorbar\":{\"outlinewidth\":0,\"ticks\":\"\"},\"colorscale\":[[0.0,\"#0d0887\"],[0.1111111111111111,\"#46039f\"],[0.2222222222222222,\"#7201a8\"],[0.3333333333333333,\"#9c179e\"],[0.4444444444444444,\"#bd3786\"],[0.5555555555555556,\"#d8576b\"],[0.6666666666666666,\"#ed7953\"],[0.7777777777777778,\"#fb9f3a\"],[0.8888888888888888,\"#fdca26\"],[1.0,\"#f0f921\"]]}],\"contourcarpet\":[{\"type\":\"contourcarpet\",\"colorbar\":{\"outlinewidth\":0,\"ticks\":\"\"}}],\"contour\":[{\"type\":\"contour\",\"colorbar\":{\"outlinewidth\":0,\"ticks\":\"\"},\"colorscale\":[[0.0,\"#0d0887\"],[0.1111111111111111,\"#46039f\"],[0.2222222222222222,\"#7201a8\"],[0.3333333333333333,\"#9c179e\"],[0.4444444444444444,\"#bd3786\"],[0.5555555555555556,\"#d8576b\"],[0.6666666666666666,\"#ed7953\"],[0.7777777777777778,\"#fb9f3a\"],[0.8888888888888888,\"#fdca26\"],[1.0,\"#f0f921\"]]}],\"surface\":[{\"type\":\"surface\",\"colorbar\":{\"outlinewidth\":0,\"ticks\":\"\"},\"colorscale\":[[0.0,\"#0d0887\"],[0.1111111111111111,\"#46039f\"],[0.2222222222222222,\"#7201a8\"],[0.3333333333333333,\"#9c179e\"],[0.4444444444444444,\"#bd3786\"],[0.5555555555555556,\"#d8576b\"],[0.6666666666666666,\"#ed7953\"],[0.7777777777777778,\"#fb9f3a\"],[0.8888888888888888,\"#fdca26\"],[1.0,\"#f0f921\"]]}],\"mesh3d\":[{\"type\":\"mesh3d\",\"colorbar\":{\"outlinewidth\":0,\"ticks\":\"\"}}],\"scatter\":[{\"fillpattern\":{\"fillmode\":\"overlay\",\"size\":10,\"solidity\":0.2},\"type\":\"scatter\"}],\"parcoords\":[{\"type\":\"parcoords\",\"line\":{\"colorbar\":{\"outlinewidth\":0,\"ticks\":\"\"}}}],\"scatterpolargl\":[{\"type\":\"scatterpolargl\",\"marker\":{\"colorbar\":{\"outlinewidth\":0,\"ticks\":\"\"}}}],\"bar\":[{\"error_x\":{\"color\":\"#2a3f5f\"},\"error_y\":{\"color\":\"#2a3f5f\"},\"marker\":{\"line\":{\"color\":\"#E5ECF6\",\"width\":0.5},\"pattern\":{\"fillmode\":\"overlay\",\"size\":10,\"solidity\":0.2}},\"type\":\"bar\"}],\"scattergeo\":[{\"type\":\"scattergeo\",\"marker\":{\"colorbar\":{\"outlinewidth\":0,\"ticks\":\"\"}}}],\"scatterpolar\":[{\"type\":\"scatterpolar\",\"marker\":{\"colorbar\":{\"outlinewidth\":0,\"ticks\":\"\"}}}],\"histogram\":[{\"marker\":{\"pattern\":{\"fillmode\":\"overlay\",\"size\":10,\"solidity\":0.2}},\"type\":\"histogram\"}],\"scattergl\":[{\"type\":\"scattergl\",\"marker\":{\"colorbar\":{\"outlinewidth\":0,\"ticks\":\"\"}}}],\"scatter3d\":[{\"type\":\"scatter3d\",\"line\":{\"colorbar\":{\"outlinewidth\":0,\"ticks\":\"\"}},\"marker\":{\"colorbar\":{\"outlinewidth\":0,\"ticks\":\"\"}}}],\"scattermapbox\":[{\"type\":\"scattermapbox\",\"marker\":{\"colorbar\":{\"outlinewidth\":0,\"ticks\":\"\"}}}],\"scatterternary\":[{\"type\":\"scatterternary\",\"marker\":{\"colorbar\":{\"outlinewidth\":0,\"ticks\":\"\"}}}],\"scattercarpet\":[{\"type\":\"scattercarpet\",\"marker\":{\"colorbar\":{\"outlinewidth\":0,\"ticks\":\"\"}}}],\"carpet\":[{\"aaxis\":{\"endlinecolor\":\"#2a3f5f\",\"gridcolor\":\"white\",\"linecolor\":\"white\",\"minorgridcolor\":\"white\",\"startlinecolor\":\"#2a3f5f\"},\"baxis\":{\"endlinecolor\":\"#2a3f5f\",\"gridcolor\":\"white\",\"linecolor\":\"white\",\"minorgridcolor\":\"white\",\"startlinecolor\":\"#2a3f5f\"},\"type\":\"carpet\"}],\"table\":[{\"cells\":{\"fill\":{\"color\":\"#EBF0F8\"},\"line\":{\"color\":\"white\"}},\"header\":{\"fill\":{\"color\":\"#C8D4E3\"},\"line\":{\"color\":\"white\"}},\"type\":\"table\"}],\"barpolar\":[{\"marker\":{\"line\":{\"color\":\"#E5ECF6\",\"width\":0.5},\"pattern\":{\"fillmode\":\"overlay\",\"size\":10,\"solidity\":0.2}},\"type\":\"barpolar\"}],\"pie\":[{\"automargin\":true,\"type\":\"pie\"}]},\"layout\":{\"autotypenumbers\":\"strict\",\"colorway\":[\"#636efa\",\"#EF553B\",\"#00cc96\",\"#ab63fa\",\"#FFA15A\",\"#19d3f3\",\"#FF6692\",\"#B6E880\",\"#FF97FF\",\"#FECB52\"],\"font\":{\"color\":\"#2a3f5f\"},\"hovermode\":\"closest\",\"hoverlabel\":{\"align\":\"left\"},\"paper_bgcolor\":\"white\",\"plot_bgcolor\":\"#E5ECF6\",\"polar\":{\"bgcolor\":\"#E5ECF6\",\"angularaxis\":{\"gridcolor\":\"white\",\"linecolor\":\"white\",\"ticks\":\"\"},\"radialaxis\":{\"gridcolor\":\"white\",\"linecolor\":\"white\",\"ticks\":\"\"}},\"ternary\":{\"bgcolor\":\"#E5ECF6\",\"aaxis\":{\"gridcolor\":\"white\",\"linecolor\":\"white\",\"ticks\":\"\"},\"baxis\":{\"gridcolor\":\"white\",\"linecolor\":\"white\",\"ticks\":\"\"},\"caxis\":{\"gridcolor\":\"white\",\"linecolor\":\"white\",\"ticks\":\"\"}},\"coloraxis\":{\"colorbar\":{\"outlinewidth\":0,\"ticks\":\"\"}},\"colorscale\":{\"sequential\":[[0.0,\"#0d0887\"],[0.1111111111111111,\"#46039f\"],[0.2222222222222222,\"#7201a8\"],[0.3333333333333333,\"#9c179e\"],[0.4444444444444444,\"#bd3786\"],[0.5555555555555556,\"#d8576b\"],[0.6666666666666666,\"#ed7953\"],[0.7777777777777778,\"#fb9f3a\"],[0.8888888888888888,\"#fdca26\"],[1.0,\"#f0f921\"]],\"sequentialminus\":[[0.0,\"#0d0887\"],[0.1111111111111111,\"#46039f\"],[0.2222222222222222,\"#7201a8\"],[0.3333333333333333,\"#9c179e\"],[0.4444444444444444,\"#bd3786\"],[0.5555555555555556,\"#d8576b\"],[0.6666666666666666,\"#ed7953\"],[0.7777777777777778,\"#fb9f3a\"],[0.8888888888888888,\"#fdca26\"],[1.0,\"#f0f921\"]],\"diverging\":[[0,\"#8e0152\"],[0.1,\"#c51b7d\"],[0.2,\"#de77ae\"],[0.3,\"#f1b6da\"],[0.4,\"#fde0ef\"],[0.5,\"#f7f7f7\"],[0.6,\"#e6f5d0\"],[0.7,\"#b8e186\"],[0.8,\"#7fbc41\"],[0.9,\"#4d9221\"],[1,\"#276419\"]]},\"xaxis\":{\"gridcolor\":\"white\",\"linecolor\":\"white\",\"ticks\":\"\",\"title\":{\"standoff\":15},\"zerolinecolor\":\"white\",\"automargin\":true,\"zerolinewidth\":2},\"yaxis\":{\"gridcolor\":\"white\",\"linecolor\":\"white\",\"ticks\":\"\",\"title\":{\"standoff\":15},\"zerolinecolor\":\"white\",\"automargin\":true,\"zerolinewidth\":2},\"scene\":{\"xaxis\":{\"backgroundcolor\":\"#E5ECF6\",\"gridcolor\":\"white\",\"linecolor\":\"white\",\"showbackground\":true,\"ticks\":\"\",\"zerolinecolor\":\"white\",\"gridwidth\":2},\"yaxis\":{\"backgroundcolor\":\"#E5ECF6\",\"gridcolor\":\"white\",\"linecolor\":\"white\",\"showbackground\":true,\"ticks\":\"\",\"zerolinecolor\":\"white\",\"gridwidth\":2},\"zaxis\":{\"backgroundcolor\":\"#E5ECF6\",\"gridcolor\":\"white\",\"linecolor\":\"white\",\"showbackground\":true,\"ticks\":\"\",\"zerolinecolor\":\"white\",\"gridwidth\":2}},\"shapedefaults\":{\"line\":{\"color\":\"#2a3f5f\"}},\"annotationdefaults\":{\"arrowcolor\":\"#2a3f5f\",\"arrowhead\":0,\"arrowwidth\":1},\"geo\":{\"bgcolor\":\"white\",\"landcolor\":\"#E5ECF6\",\"subunitcolor\":\"white\",\"showland\":true,\"showlakes\":true,\"lakecolor\":\"white\"},\"title\":{\"x\":0.05},\"mapbox\":{\"style\":\"light\"}}},\"title\":{\"text\":\"GENDER DISTRIBUTION IN THE DATASET                     GENDER VS DEATH_EVENT\"},\"annotations\":[{\"showarrow\":false,\"text\":\"GENDER\",\"x\":0.19,\"y\":0.5,\"font\":{\"size\":10}},{\"showarrow\":false,\"text\":\"GENDER VS DEATH_EVENT\",\"x\":0.84,\"y\":0.5,\"font\":{\"size\":9}}],\"autosize\":false,\"width\":1200,\"height\":500,\"paper_bgcolor\":\"white\"},                        {\"responsive\": true}                    ).then(function(){\n",
       "                            \n",
       "var gd = document.getElementById('c5367aee-795c-488e-992f-0f7e596b0462');\n",
       "var x = new MutationObserver(function (mutations, observer) {{\n",
       "        var display = window.getComputedStyle(gd).display;\n",
       "        if (!display || display === 'none') {{\n",
       "            console.log([gd, 'removed!']);\n",
       "            Plotly.purge(gd);\n",
       "            observer.disconnect();\n",
       "        }}\n",
       "}});\n",
       "\n",
       "// Listen for the removal of the full notebook cells\n",
       "var notebookContainer = gd.closest('#notebook-container');\n",
       "if (notebookContainer) {{\n",
       "    x.observe(notebookContainer, {childList: true});\n",
       "}}\n",
       "\n",
       "// Listen for the clearing of the current output cell\n",
       "var outputEl = gd.closest('.output');\n",
       "if (outputEl) {{\n",
       "    x.observe(outputEl, {childList: true});\n",
       "}}\n",
       "\n",
       "                        })                };                });            </script>        </div>"
      ]
     },
     "metadata": {},
     "output_type": "display_data"
    }
   ],
   "source": [
    "import plotly.graph_objects as go\n",
    "from plotly.subplots import make_subplots\n",
    "\n",
    "d1 = train[(train[\"DEATH_EVENT\"]==0) & (train[\"sex\"]==1)]\n",
    "d2 = train[(train[\"DEATH_EVENT\"]==1) & (train[\"sex\"]==1)]\n",
    "d3 = train[(train[\"DEATH_EVENT\"]==0) & (train[\"sex\"]==0)]\n",
    "d4 = train[(train[\"DEATH_EVENT\"]==1) & (train[\"sex\"]==0)]\n",
    "\n",
    "label1 = [\"Male\",\"Female\"]\n",
    "label2 = ['Male - Survived','Male - Died', \"Female -  Survived\", \"Female - Died\"]\n",
    "\n",
    "values1 = [(len(d1)+len(d2)), (len(d3)+len(d4))]\n",
    "values2 = [len(d1),len(d2),len(d3),len(d4)]\n",
    "\n",
    "# Create subplots: use 'domain' type for Pie subplot\n",
    "fig = make_subplots(rows=1, cols=2, specs=[[{'type':'domain'}, {'type':'domain'}]])\n",
    "fig.add_trace(go.Pie(labels=label1, values=values1, name=\"GENDER\"),\n",
    "              1, 1)\n",
    "fig.add_trace(go.Pie(labels=label2, values=values2, name=\"GENDER VS DEATH_EVENT\"),\n",
    "              1, 2)\n",
    "\n",
    "# Use `hole` to create a donut-like pie chart\n",
    "fig.update_traces(hole=.4, hoverinfo=\"label+percent\")\n",
    "\n",
    "fig.update_layout(\n",
    "    title_text=\"GENDER DISTRIBUTION IN THE DATASET  \\\n",
    "                   GENDER VS DEATH_EVENT\",\n",
    "    # Add annotations in the center of the donut pies.\n",
    "    annotations=[dict(text='GENDER', x=0.19, y=0.5, font_size=10, showarrow=False),\n",
    "                 dict(text='GENDER VS DEATH_EVENT', x=0.84, y=0.5, font_size=9, showarrow=False)],\n",
    "    autosize=False,width=1200, height=500, paper_bgcolor=\"white\")\n",
    "\n",
    "fig.show()\n"
   ]
  },
  {
   "cell_type": "code",
   "execution_count": 38,
   "id": "0ea52cfa",
   "metadata": {},
   "outputs": [
    {
     "data": {
      "image/png": "[encoded data removed]",
      "text/plain": [
       "<Figure size 576x576 with 1 Axes>"
      ]
     },
     "metadata": {},
     "output_type": "display_data"
    }
   ],
   "source": [
    "sns.barplot(x='sex',y='smoking',hue='DEATH_EVENT',data=train);"
   ]
  },
  {
   "cell_type": "code",
   "execution_count": 41,
   "id": "b3fe34bd",
   "metadata": {},
   "outputs": [
    {
     "data": {
      "image/png": "[encoded data removed]",
      "text/plain": [
       "<Figure size 576x576 with 1 Axes>"
      ]
     },
     "metadata": {},
     "output_type": "display_data"
    }
   ],
   "source": [
    "sns.countplot(x='sex',hue='smoking',data=train)\n",
    "plt.legend(['yes','no']);"
   ]
  },
  {
   "cell_type": "code",
   "execution_count": 42,
   "id": "0b32b507",
   "metadata": {},
   "outputs": [
    {
     "data": {
      "image/png": "[encoded data removed]",
      "text/plain": [
       "<Figure size 576x576 with 1 Axes>"
      ]
     },
     "metadata": {},
     "output_type": "display_data"
    }
   ],
   "source": [
    "sns.countplot(x='sex',hue='diabetes',data=train)\n",
    "plt.legend(['yes','no']);"
   ]
  },
  {
   "cell_type": "code",
   "execution_count": 43,
   "id": "55374239",
   "metadata": {},
   "outputs": [
    {
     "data": {
      "text/plain": [
       "<AxesSubplot:ylabel='count'>"
      ]
     },
     "execution_count": 43,
     "metadata": {},
     "output_type": "execute_result"
    },
    {
     "data": {
      "image/png": "[encoded data removed]",
      "text/plain": [
       "<Figure size 576x576 with 1 Axes>"
      ]
     },
     "metadata": {},
     "output_type": "display_data"
    }
   ],
   "source": [
    "train.diabetes.value_counts().plot.pie(explode=[0.1,0.1],autopct='%2.2f%%',shadow=True)"
   ]
  },
  {
   "cell_type": "code",
   "execution_count": 44,
   "id": "9cc5a08f",
   "metadata": {
    "scrolled": true
   },
   "outputs": [
    {
     "data": {
      "image/png": "[encoded data removed]",
      "text/plain": [
       "<Figure size 576x576 with 1 Axes>"
      ]
     },
     "metadata": {},
     "output_type": "display_data"
    }
   ],
   "source": [
    "sns.countplot(x='diabetes',hue='DEATH_EVENT',data=train)\n",
    "plt.legend(['yes','no']);"
   ]
  },
  {
   "cell_type": "code",
   "execution_count": 45,
   "id": "57ec6444",
   "metadata": {},
   "outputs": [
    {
     "data": {
      "image/png": "[encoded data removed]",
      "text/plain": [
       "<Figure size 576x576 with 1 Axes>"
      ]
     },
     "metadata": {},
     "output_type": "display_data"
    }
   ],
   "source": [
    "sns.boxplot(x = train.ejection_fraction, color = 'green')\n",
    "plt.show()"
   ]
  },
  {
   "cell_type": "code",
   "execution_count": 46,
   "id": "983d2791",
   "metadata": {},
   "outputs": [
    {
     "data": {
      "text/html": [
       "<div>\n",
       "<style scoped>\n",
       "    .dataframe tbody tr th:only-of-type {\n",
       "        vertical-align: middle;\n",
       "    }\n",
       "\n",
       "    .dataframe tbody tr th {\n",
       "        vertical-align: top;\n",
       "    }\n",
       "\n",
       "    .dataframe thead th {\n",
       "        text-align: right;\n",
       "    }\n",
       "</style>\n",
       "<table border=\"1\" class=\"dataframe\">\n",
       "  <thead>\n",
       "    <tr style=\"text-align: right;\">\n",
       "      <th></th>\n",
       "      <th>age</th>\n",
       "      <th>anaemia</th>\n",
       "      <th>creatinine_phosphokinase</th>\n",
       "      <th>diabetes</th>\n",
       "      <th>ejection_fraction</th>\n",
       "      <th>high_blood_pressure</th>\n",
       "      <th>platelets</th>\n",
       "      <th>serum_creatinine</th>\n",
       "      <th>serum_sodium</th>\n",
       "      <th>sex</th>\n",
       "      <th>smoking</th>\n",
       "      <th>time</th>\n",
       "      <th>DEATH_EVENT</th>\n",
       "    </tr>\n",
       "  </thead>\n",
       "  <tbody>\n",
       "    <tr>\n",
       "      <th>64</th>\n",
       "      <td>45.0</td>\n",
       "      <td>0</td>\n",
       "      <td>582</td>\n",
       "      <td>0</td>\n",
       "      <td>80</td>\n",
       "      <td>0</td>\n",
       "      <td>263358.03</td>\n",
       "      <td>1.18</td>\n",
       "      <td>137</td>\n",
       "      <td>0</td>\n",
       "      <td>0</td>\n",
       "      <td>63</td>\n",
       "      <td>0</td>\n",
       "    </tr>\n",
       "    <tr>\n",
       "      <th>217</th>\n",
       "      <td>54.0</td>\n",
       "      <td>1</td>\n",
       "      <td>427</td>\n",
       "      <td>0</td>\n",
       "      <td>70</td>\n",
       "      <td>1</td>\n",
       "      <td>151000.00</td>\n",
       "      <td>9.00</td>\n",
       "      <td>137</td>\n",
       "      <td>0</td>\n",
       "      <td>0</td>\n",
       "      <td>196</td>\n",
       "      <td>1</td>\n",
       "    </tr>\n",
       "  </tbody>\n",
       "</table>\n",
       "</div>"
      ],
      "text/plain": [
       "      age  anaemia  creatinine_phosphokinase  diabetes  ejection_fraction  \\\n",
       "64   45.0        0                       582         0                 80   \n",
       "217  54.0        1                       427         0                 70   \n",
       "\n",
       "     high_blood_pressure  platelets  serum_creatinine  serum_sodium  sex  \\\n",
       "64                     0  263358.03              1.18           137    0   \n",
       "217                    1  151000.00              9.00           137    0   \n",
       "\n",
       "     smoking  time  DEATH_EVENT  \n",
       "64         0    63            0  \n",
       "217        0   196            1  "
      ]
     },
     "execution_count": 46,
     "metadata": {},
     "output_type": "execute_result"
    }
   ],
   "source": [
    "train[train['ejection_fraction']>=70]"
   ]
  },
  {
   "cell_type": "code",
   "execution_count": 47,
   "id": "70009672",
   "metadata": {},
   "outputs": [],
   "source": [
    "train = train[train['ejection_fraction']<70]"
   ]
  },
  {
   "cell_type": "code",
   "execution_count": 48,
   "id": "59b0554e",
   "metadata": {},
   "outputs": [
    {
     "data": {
      "application/vnd.plotly.v1+json": {
       "config": {
        "plotlyServerURL": "https://plot.ly"
       },
       "data": [
        {
         "marker": {
          "color": "#A7F432"
         },
         "opacity": 1,
         "type": "histogram",
         "x": [
          20,
          38,
          20,
          20,
          20,
          40,
          15,
          60,
          65,
          35,
          38,
          25,
          30,
          38,
          30,
          50,
          38,
          14,
          25,
          55,
          25,
          30,
          35,
          60,
          30,
          38,
          40,
          45,
          38,
          30,
          38,
          45,
          35,
          30,
          50,
          35,
          50,
          50,
          30,
          38,
          20,
          30,
          45,
          50,
          60,
          38,
          25,
          38,
          20,
          30,
          25,
          20,
          62,
          50,
          38,
          30,
          35,
          40,
          20,
          20,
          25,
          40,
          35,
          35,
          20,
          15,
          25,
          25,
          25,
          40,
          35,
          35,
          50,
          20,
          20,
          60,
          40,
          38,
          45,
          40,
          50,
          25,
          50,
          25,
          50,
          35,
          60,
          40,
          25,
          45,
          45,
          60,
          25,
          38,
          60,
          25,
          60,
          25,
          40,
          25,
          45,
          25,
          30,
          50,
          30,
          45,
          35,
          38,
          35,
          60,
          35,
          25,
          60,
          40,
          40,
          60,
          60,
          60,
          38,
          60,
          38,
          38,
          30,
          40,
          50,
          17,
          60,
          30,
          35,
          60,
          45,
          40,
          60,
          35,
          40,
          60,
          25,
          35,
          30,
          38,
          35,
          30,
          40,
          25,
          30,
          30,
          60,
          30,
          35,
          45,
          60,
          45,
          35,
          35,
          25,
          35,
          25,
          50,
          45,
          40,
          35,
          40,
          35,
          30,
          38,
          60,
          20,
          40,
          35,
          35,
          40,
          60,
          20,
          35,
          60,
          40,
          50,
          60,
          40,
          30,
          25,
          25,
          38,
          25,
          30,
          50,
          25,
          40,
          45,
          35,
          60,
          40,
          30,
          20,
          45,
          38,
          30,
          20,
          35,
          45,
          60,
          60,
          25,
          40,
          45,
          40,
          38,
          40,
          35,
          17,
          62,
          50,
          30,
          35,
          35,
          50,
          35,
          35,
          20,
          50,
          35,
          25,
          25,
          60,
          25,
          35,
          25,
          25,
          30,
          35,
          35,
          38,
          45,
          50,
          50,
          30,
          40,
          45,
          35,
          30,
          35,
          40,
          38,
          38,
          25,
          25,
          35,
          40,
          30,
          35,
          45,
          35,
          60,
          30,
          38,
          38,
          25,
          50,
          40,
          40,
          25,
          60,
          38,
          35,
          20,
          38,
          38,
          35,
          30,
          40,
          38,
          40,
          30,
          38,
          35,
          38,
          30,
          38,
          40,
          40,
          30,
          38,
          40,
          40,
          35,
          55,
          35,
          38,
          55,
          35,
          38,
          35,
          38,
          38,
          60,
          38,
          45
         ],
         "xbins": {
          "end": 80,
          "size": 2,
          "start": 14
         }
        }
       ],
       "layout": {
        "bargap": 0.05,
        "template": {
         "data": {
          "bar": [
           {
            "error_x": {
             "color": "#f2f5fa"
            },
            "error_y": {
             "color": "#f2f5fa"
            },
            "marker": {
             "line": {
              "color": "rgb(17,17,17)",
              "width": 0.5
             },
             "pattern": {
              "fillmode": "overlay",
              "size": 10,
              "solidity": 0.2
             }
            },
            "type": "bar"
           }
          ],
          "barpolar": [
           {
            "marker": {
             "line": {
              "color": "rgb(17,17,17)",
              "width": 0.5
             },
             "pattern": {
              "fillmode": "overlay",
              "size": 10,
              "solidity": 0.2
             }
            },
            "type": "barpolar"
           }
          ],
          "carpet": [
           {
            "aaxis": {
             "endlinecolor": "#A2B1C6",
             "gridcolor": "#506784",
             "linecolor": "#506784",
             "minorgridcolor": "#506784",
             "startlinecolor": "#A2B1C6"
            },
            "baxis": {
             "endlinecolor": "#A2B1C6",
             "gridcolor": "#506784",
             "linecolor": "#506784",
             "minorgridcolor": "#506784",
             "startlinecolor": "#A2B1C6"
            },
            "type": "carpet"
           }
          ],
          "choropleth": [
           {
            "colorbar": {
             "outlinewidth": 0,
             "ticks": ""
            },
            "type": "choropleth"
           }
          ],
          "contour": [
           {
            "colorbar": {
             "outlinewidth": 0,
             "ticks": ""
            },
            "colorscale": [
             [
              0,
              "#0d0887"
             ],
             [
              0.1111111111111111,
              "#46039f"
             ],
             [
              0.2222222222222222,
              "#7201a8"
             ],
             [
              0.3333333333333333,
              "#9c179e"
             ],
             [
              0.4444444444444444,
              "#bd3786"
             ],
             [
              0.5555555555555556,
              "#d8576b"
             ],
             [
              0.6666666666666666,
              "#ed7953"
             ],
             [
              0.7777777777777778,
              "#fb9f3a"
             ],
             [
              0.8888888888888888,
              "#fdca26"
             ],
             [
              1,
              "#f0f921"
             ]
            ],
            "type": "contour"
           }
          ],
          "contourcarpet": [
           {
            "colorbar": {
             "outlinewidth": 0,
             "ticks": ""
            },
            "type": "contourcarpet"
           }
          ],
          "heatmap": [
           {
            "colorbar": {
             "outlinewidth": 0,
             "ticks": ""
            },
            "colorscale": [
             [
              0,
              "#0d0887"
             ],
             [
              0.1111111111111111,
              "#46039f"
             ],
             [
              0.2222222222222222,
              "#7201a8"
             ],
             [
              0.3333333333333333,
              "#9c179e"
             ],
             [
              0.4444444444444444,
              "#bd3786"
             ],
             [
              0.5555555555555556,
              "#d8576b"
             ],
             [
              0.6666666666666666,
              "#ed7953"
             ],
             [
              0.7777777777777778,
              "#fb9f3a"
             ],
             [
              0.8888888888888888,
              "#fdca26"
             ],
             [
              1,
              "#f0f921"
             ]
            ],
            "type": "heatmap"
           }
          ],
          "heatmapgl": [
           {
            "colorbar": {
             "outlinewidth": 0,
             "ticks": ""
            },
            "colorscale": [
             [
              0,
              "#0d0887"
             ],
             [
              0.1111111111111111,
              "#46039f"
             ],
             [
              0.2222222222222222,
              "#7201a8"
             ],
             [
              0.3333333333333333,
              "#9c179e"
             ],
             [
              0.4444444444444444,
              "#bd3786"
             ],
             [
              0.5555555555555556,
              "#d8576b"
             ],
             [
              0.6666666666666666,
              "#ed7953"
             ],
             [
              0.7777777777777778,
              "#fb9f3a"
             ],
             [
              0.8888888888888888,
              "#fdca26"
             ],
             [
              1,
              "#f0f921"
             ]
            ],
            "type": "heatmapgl"
           }
          ],
          "histogram": [
           {
            "marker": {
             "pattern": {
              "fillmode": "overlay",
              "size": 10,
              "solidity": 0.2
             }
            },
            "type": "histogram"
           }
          ],
          "histogram2d": [
           {
            "colorbar": {
             "outlinewidth": 0,
             "ticks": ""
            },
            "colorscale": [
             [
              0,
              "#0d0887"
             ],
             [
              0.1111111111111111,
              "#46039f"
             ],
             [
              0.2222222222222222,
              "#7201a8"
             ],
             [
              0.3333333333333333,
              "#9c179e"
             ],
             [
              0.4444444444444444,
              "#bd3786"
             ],
             [
              0.5555555555555556,
              "#d8576b"
             ],
             [
              0.6666666666666666,
              "#ed7953"
             ],
             [
              0.7777777777777778,
              "#fb9f3a"
             ],
             [
              0.8888888888888888,
              "#fdca26"
             ],
             [
              1,
              "#f0f921"
             ]
            ],
            "type": "histogram2d"
           }
          ],
          "histogram2dcontour": [
           {
            "colorbar": {
             "outlinewidth": 0,
             "ticks": ""
            },
            "colorscale": [
             [
              0,
              "#0d0887"
             ],
             [
              0.1111111111111111,
              "#46039f"
             ],
             [
              0.2222222222222222,
              "#7201a8"
             ],
             [
              0.3333333333333333,
              "#9c179e"
             ],
             [
              0.4444444444444444,
              "#bd3786"
             ],
             [
              0.5555555555555556,
              "#d8576b"
             ],
             [
              0.6666666666666666,
              "#ed7953"
             ],
             [
              0.7777777777777778,
              "#fb9f3a"
             ],
             [
              0.8888888888888888,
              "#fdca26"
             ],
             [
              1,
              "#f0f921"
             ]
            ],
            "type": "histogram2dcontour"
           }
          ],
          "mesh3d": [
           {
            "colorbar": {
             "outlinewidth": 0,
             "ticks": ""
            },
            "type": "mesh3d"
           }
          ],
          "parcoords": [
           {
            "line": {
             "colorbar": {
              "outlinewidth": 0,
              "ticks": ""
             }
            },
            "type": "parcoords"
           }
          ],
          "pie": [
           {
            "automargin": true,
            "type": "pie"
           }
          ],
          "scatter": [
           {
            "marker": {
             "line": {
              "color": "#283442"
             }
            },
            "type": "scatter"
           }
          ],
          "scatter3d": [
           {
            "line": {
             "colorbar": {
              "outlinewidth": 0,
              "ticks": ""
             }
            },
            "marker": {
             "colorbar": {
              "outlinewidth": 0,
              "ticks": ""
             }
            },
            "type": "scatter3d"
           }
          ],
          "scattercarpet": [
           {
            "marker": {
             "colorbar": {
              "outlinewidth": 0,
              "ticks": ""
             }
            },
            "type": "scattercarpet"
           }
          ],
          "scattergeo": [
           {
            "marker": {
             "colorbar": {
              "outlinewidth": 0,
              "ticks": ""
             }
            },
            "type": "scattergeo"
           }
          ],
          "scattergl": [
           {
            "marker": {
             "line": {
              "color": "#283442"
             }
            },
            "type": "scattergl"
           }
          ],
          "scattermapbox": [
           {
            "marker": {
             "colorbar": {
              "outlinewidth": 0,
              "ticks": ""
             }
            },
            "type": "scattermapbox"
           }
          ],
          "scatterpolar": [
           {
            "marker": {
             "colorbar": {
              "outlinewidth": 0,
              "ticks": ""
             }
            },
            "type": "scatterpolar"
           }
          ],
          "scatterpolargl": [
           {
            "marker": {
             "colorbar": {
              "outlinewidth": 0,
              "ticks": ""
             }
            },
            "type": "scatterpolargl"
           }
          ],
          "scatterternary": [
           {
            "marker": {
             "colorbar": {
              "outlinewidth": 0,
              "ticks": ""
             }
            },
            "type": "scatterternary"
           }
          ],
          "surface": [
           {
            "colorbar": {
             "outlinewidth": 0,
             "ticks": ""
            },
            "colorscale": [
             [
              0,
              "#0d0887"
             ],
             [
              0.1111111111111111,
              "#46039f"
             ],
             [
              0.2222222222222222,
              "#7201a8"
             ],
             [
              0.3333333333333333,
              "#9c179e"
             ],
             [
              0.4444444444444444,
              "#bd3786"
             ],
             [
              0.5555555555555556,
              "#d8576b"
             ],
             [
              0.6666666666666666,
              "#ed7953"
             ],
             [
              0.7777777777777778,
              "#fb9f3a"
             ],
             [
              0.8888888888888888,
              "#fdca26"
             ],
             [
              1,
              "#f0f921"
             ]
            ],
            "type": "surface"
           }
          ],
          "table": [
           {
            "cells": {
             "fill": {
              "color": "#506784"
             },
             "line": {
              "color": "rgb(17,17,17)"
             }
            },
            "header": {
             "fill": {
              "color": "#2a3f5f"
             },
             "line": {
              "color": "rgb(17,17,17)"
             }
            },
            "type": "table"
           }
          ]
         },
         "layout": {
          "annotationdefaults": {
           "arrowcolor": "#f2f5fa",
           "arrowhead": 0,
           "arrowwidth": 1
          },
          "autotypenumbers": "strict",
          "coloraxis": {
           "colorbar": {
            "outlinewidth": 0,
            "ticks": ""
           }
          },
          "colorscale": {
           "diverging": [
            [
             0,
             "#8e0152"
            ],
            [
             0.1,
             "#c51b7d"
            ],
            [
             0.2,
             "#de77ae"
            ],
            [
             0.3,
             "#f1b6da"
            ],
            [
             0.4,
             "#fde0ef"
            ],
            [
             0.5,
             "#f7f7f7"
            ],
            [
             0.6,
             "#e6f5d0"
            ],
            [
             0.7,
             "#b8e186"
            ],
            [
             0.8,
             "#7fbc41"
            ],
            [
             0.9,
             "#4d9221"
            ],
            [
             1,
             "#276419"
            ]
           ],
           "sequential": [
            [
             0,
             "#0d0887"
            ],
            [
             0.1111111111111111,
             "#46039f"
            ],
            [
             0.2222222222222222,
             "#7201a8"
            ],
            [
             0.3333333333333333,
             "#9c179e"
            ],
            [
             0.4444444444444444,
             "#bd3786"
            ],
            [
             0.5555555555555556,
             "#d8576b"
            ],
            [
             0.6666666666666666,
             "#ed7953"
            ],
            [
             0.7777777777777778,
             "#fb9f3a"
            ],
            [
             0.8888888888888888,
             "#fdca26"
            ],
            [
             1,
             "#f0f921"
            ]
           ],
           "sequentialminus": [
            [
             0,
             "#0d0887"
            ],
            [
             0.1111111111111111,
             "#46039f"
            ],
            [
             0.2222222222222222,
             "#7201a8"
            ],
            [
             0.3333333333333333,
             "#9c179e"
            ],
            [
             0.4444444444444444,
             "#bd3786"
            ],
            [
             0.5555555555555556,
             "#d8576b"
            ],
            [
             0.6666666666666666,
             "#ed7953"
            ],
            [
             0.7777777777777778,
             "#fb9f3a"
            ],
            [
             0.8888888888888888,
             "#fdca26"
            ],
            [
             1,
             "#f0f921"
            ]
           ]
          },
          "colorway": [
           "#636efa",
           "#EF553B",
           "#00cc96",
           "#ab63fa",
           "#FFA15A",
           "#19d3f3",
           "#FF6692",
           "#B6E880",
           "#FF97FF",
           "#FECB52"
          ],
          "font": {
           "color": "#f2f5fa"
          },
          "geo": {
           "bgcolor": "rgb(17,17,17)",
           "lakecolor": "rgb(17,17,17)",
           "landcolor": "rgb(17,17,17)",
           "showlakes": true,
           "showland": true,
           "subunitcolor": "#506784"
          },
          "hoverlabel": {
           "align": "left"
          },
          "hovermode": "closest",
          "mapbox": {
           "style": "dark"
          },
          "paper_bgcolor": "rgb(17,17,17)",
          "plot_bgcolor": "rgb(17,17,17)",
          "polar": {
           "angularaxis": {
            "gridcolor": "#506784",
            "linecolor": "#506784",
            "ticks": ""
           },
           "bgcolor": "rgb(17,17,17)",
           "radialaxis": {
            "gridcolor": "#506784",
            "linecolor": "#506784",
            "ticks": ""
           }
          },
          "scene": {
           "xaxis": {
            "backgroundcolor": "rgb(17,17,17)",
            "gridcolor": "#506784",
            "gridwidth": 2,
            "linecolor": "#506784",
            "showbackground": true,
            "ticks": "",
            "zerolinecolor": "#C8D4E3"
           },
           "yaxis": {
            "backgroundcolor": "rgb(17,17,17)",
            "gridcolor": "#506784",
            "gridwidth": 2,
            "linecolor": "#506784",
            "showbackground": true,
            "ticks": "",
            "zerolinecolor": "#C8D4E3"
           },
           "zaxis": {
            "backgroundcolor": "rgb(17,17,17)",
            "gridcolor": "#506784",
            "gridwidth": 2,
            "linecolor": "#506784",
            "showbackground": true,
            "ticks": "",
            "zerolinecolor": "#C8D4E3"
           }
          },
          "shapedefaults": {
           "line": {
            "color": "#f2f5fa"
           }
          },
          "sliderdefaults": {
           "bgcolor": "#C8D4E3",
           "bordercolor": "rgb(17,17,17)",
           "borderwidth": 1,
           "tickwidth": 0
          },
          "ternary": {
           "aaxis": {
            "gridcolor": "#506784",
            "linecolor": "#506784",
            "ticks": ""
           },
           "baxis": {
            "gridcolor": "#506784",
            "linecolor": "#506784",
            "ticks": ""
           },
           "bgcolor": "rgb(17,17,17)",
           "caxis": {
            "gridcolor": "#506784",
            "linecolor": "#506784",
            "ticks": ""
           }
          },
          "title": {
           "x": 0.05
          },
          "updatemenudefaults": {
           "bgcolor": "#506784",
           "borderwidth": 0
          },
          "xaxis": {
           "automargin": true,
           "gridcolor": "#283442",
           "linecolor": "#506784",
           "ticks": "",
           "title": {
            "standoff": 15
           },
           "zerolinecolor": "#283442",
           "zerolinewidth": 2
          },
          "yaxis": {
           "automargin": true,
           "gridcolor": "#283442",
           "linecolor": "#506784",
           "ticks": "",
           "title": {
            "standoff": 15
           },
           "zerolinecolor": "#283442",
           "zerolinewidth": 2
          }
         }
        },
        "title": {
         "text": "EJECTION FRACTION DISTRIBUTION"
        },
        "xaxis": {
         "title": {
          "text": "EJECTION FRACTION"
         }
        },
        "yaxis": {
         "title": {
          "text": "COUNT"
         }
        }
       }
      },
      "text/html": [
       "<div>                            <div id=\"b8e8bc82-fbd4-4f6a-9a43-5192cdb0d418\" class=\"plotly-graph-div\" style=\"height:525px; width:100%;\"></div>            <script type=\"text/javascript\">                require([\"plotly\"], function(Plotly) {                    window.PLOTLYENV=window.PLOTLYENV || {};                                    if (document.getElementById(\"b8e8bc82-fbd4-4f6a-9a43-5192cdb0d418\")) {                    Plotly.newPlot(                        \"b8e8bc82-fbd4-4f6a-9a43-5192cdb0d418\",                        [{\"marker\":{\"color\":\"#A7F432\"},\"opacity\":1,\"x\":[20,38,20,20,20,40,15,60,65,35,38,25,30,38,30,50,38,14,25,55,25,30,35,60,30,38,40,45,38,30,38,45,35,30,50,35,50,50,30,38,20,30,45,50,60,38,25,38,20,30,25,20,62,50,38,30,35,40,20,20,25,40,35,35,20,15,25,25,25,40,35,35,50,20,20,60,40,38,45,40,50,25,50,25,50,35,60,40,25,45,45,60,25,38,60,25,60,25,40,25,45,25,30,50,30,45,35,38,35,60,35,25,60,40,40,60,60,60,38,60,38,38,30,40,50,17,60,30,35,60,45,40,60,35,40,60,25,35,30,38,35,30,40,25,30,30,60,30,35,45,60,45,35,35,25,35,25,50,45,40,35,40,35,30,38,60,20,40,35,35,40,60,20,35,60,40,50,60,40,30,25,25,38,25,30,50,25,40,45,35,60,40,30,20,45,38,30,20,35,45,60,60,25,40,45,40,38,40,35,17,62,50,30,35,35,50,35,35,20,50,35,25,25,60,25,35,25,25,30,35,35,38,45,50,50,30,40,45,35,30,35,40,38,38,25,25,35,40,30,35,45,35,60,30,38,38,25,50,40,40,25,60,38,35,20,38,38,35,30,40,38,40,30,38,35,38,30,38,40,40,30,38,40,40,35,55,35,38,55,35,38,35,38,38,60,38,45],\"xbins\":{\"end\":80,\"size\":2,\"start\":14},\"type\":\"histogram\"}],                        {\"template\":{\"data\":{\"barpolar\":[{\"marker\":{\"line\":{\"color\":\"rgb(17,17,17)\",\"width\":0.5},\"pattern\":{\"fillmode\":\"overlay\",\"size\":10,\"solidity\":0.2}},\"type\":\"barpolar\"}],\"bar\":[{\"error_x\":{\"color\":\"#f2f5fa\"},\"error_y\":{\"color\":\"#f2f5fa\"},\"marker\":{\"line\":{\"color\":\"rgb(17,17,17)\",\"width\":0.5},\"pattern\":{\"fillmode\":\"overlay\",\"size\":10,\"solidity\":0.2}},\"type\":\"bar\"}],\"carpet\":[{\"aaxis\":{\"endlinecolor\":\"#A2B1C6\",\"gridcolor\":\"#506784\",\"linecolor\":\"#506784\",\"minorgridcolor\":\"#506784\",\"startlinecolor\":\"#A2B1C6\"},\"baxis\":{\"endlinecolor\":\"#A2B1C6\",\"gridcolor\":\"#506784\",\"linecolor\":\"#506784\",\"minorgridcolor\":\"#506784\",\"startlinecolor\":\"#A2B1C6\"},\"type\":\"carpet\"}],\"choropleth\":[{\"colorbar\":{\"outlinewidth\":0,\"ticks\":\"\"},\"type\":\"choropleth\"}],\"contourcarpet\":[{\"colorbar\":{\"outlinewidth\":0,\"ticks\":\"\"},\"type\":\"contourcarpet\"}],\"contour\":[{\"colorbar\":{\"outlinewidth\":0,\"ticks\":\"\"},\"colorscale\":[[0.0,\"#0d0887\"],[0.1111111111111111,\"#46039f\"],[0.2222222222222222,\"#7201a8\"],[0.3333333333333333,\"#9c179e\"],[0.4444444444444444,\"#bd3786\"],[0.5555555555555556,\"#d8576b\"],[0.6666666666666666,\"#ed7953\"],[0.7777777777777778,\"#fb9f3a\"],[0.8888888888888888,\"#fdca26\"],[1.0,\"#f0f921\"]],\"type\":\"contour\"}],\"heatmapgl\":[{\"colorbar\":{\"outlinewidth\":0,\"ticks\":\"\"},\"colorscale\":[[0.0,\"#0d0887\"],[0.1111111111111111,\"#46039f\"],[0.2222222222222222,\"#7201a8\"],[0.3333333333333333,\"#9c179e\"],[0.4444444444444444,\"#bd3786\"],[0.5555555555555556,\"#d8576b\"],[0.6666666666666666,\"#ed7953\"],[0.7777777777777778,\"#fb9f3a\"],[0.8888888888888888,\"#fdca26\"],[1.0,\"#f0f921\"]],\"type\":\"heatmapgl\"}],\"heatmap\":[{\"colorbar\":{\"outlinewidth\":0,\"ticks\":\"\"},\"colorscale\":[[0.0,\"#0d0887\"],[0.1111111111111111,\"#46039f\"],[0.2222222222222222,\"#7201a8\"],[0.3333333333333333,\"#9c179e\"],[0.4444444444444444,\"#bd3786\"],[0.5555555555555556,\"#d8576b\"],[0.6666666666666666,\"#ed7953\"],[0.7777777777777778,\"#fb9f3a\"],[0.8888888888888888,\"#fdca26\"],[1.0,\"#f0f921\"]],\"type\":\"heatmap\"}],\"histogram2dcontour\":[{\"colorbar\":{\"outlinewidth\":0,\"ticks\":\"\"},\"colorscale\":[[0.0,\"#0d0887\"],[0.1111111111111111,\"#46039f\"],[0.2222222222222222,\"#7201a8\"],[0.3333333333333333,\"#9c179e\"],[0.4444444444444444,\"#bd3786\"],[0.5555555555555556,\"#d8576b\"],[0.6666666666666666,\"#ed7953\"],[0.7777777777777778,\"#fb9f3a\"],[0.8888888888888888,\"#fdca26\"],[1.0,\"#f0f921\"]],\"type\":\"histogram2dcontour\"}],\"histogram2d\":[{\"colorbar\":{\"outlinewidth\":0,\"ticks\":\"\"},\"colorscale\":[[0.0,\"#0d0887\"],[0.1111111111111111,\"#46039f\"],[0.2222222222222222,\"#7201a8\"],[0.3333333333333333,\"#9c179e\"],[0.4444444444444444,\"#bd3786\"],[0.5555555555555556,\"#d8576b\"],[0.6666666666666666,\"#ed7953\"],[0.7777777777777778,\"#fb9f3a\"],[0.8888888888888888,\"#fdca26\"],[1.0,\"#f0f921\"]],\"type\":\"histogram2d\"}],\"histogram\":[{\"marker\":{\"pattern\":{\"fillmode\":\"overlay\",\"size\":10,\"solidity\":0.2}},\"type\":\"histogram\"}],\"mesh3d\":[{\"colorbar\":{\"outlinewidth\":0,\"ticks\":\"\"},\"type\":\"mesh3d\"}],\"parcoords\":[{\"line\":{\"colorbar\":{\"outlinewidth\":0,\"ticks\":\"\"}},\"type\":\"parcoords\"}],\"pie\":[{\"automargin\":true,\"type\":\"pie\"}],\"scatter3d\":[{\"line\":{\"colorbar\":{\"outlinewidth\":0,\"ticks\":\"\"}},\"marker\":{\"colorbar\":{\"outlinewidth\":0,\"ticks\":\"\"}},\"type\":\"scatter3d\"}],\"scattercarpet\":[{\"marker\":{\"colorbar\":{\"outlinewidth\":0,\"ticks\":\"\"}},\"type\":\"scattercarpet\"}],\"scattergeo\":[{\"marker\":{\"colorbar\":{\"outlinewidth\":0,\"ticks\":\"\"}},\"type\":\"scattergeo\"}],\"scattergl\":[{\"marker\":{\"line\":{\"color\":\"#283442\"}},\"type\":\"scattergl\"}],\"scattermapbox\":[{\"marker\":{\"colorbar\":{\"outlinewidth\":0,\"ticks\":\"\"}},\"type\":\"scattermapbox\"}],\"scatterpolargl\":[{\"marker\":{\"colorbar\":{\"outlinewidth\":0,\"ticks\":\"\"}},\"type\":\"scatterpolargl\"}],\"scatterpolar\":[{\"marker\":{\"colorbar\":{\"outlinewidth\":0,\"ticks\":\"\"}},\"type\":\"scatterpolar\"}],\"scatter\":[{\"marker\":{\"line\":{\"color\":\"#283442\"}},\"type\":\"scatter\"}],\"scatterternary\":[{\"marker\":{\"colorbar\":{\"outlinewidth\":0,\"ticks\":\"\"}},\"type\":\"scatterternary\"}],\"surface\":[{\"colorbar\":{\"outlinewidth\":0,\"ticks\":\"\"},\"colorscale\":[[0.0,\"#0d0887\"],[0.1111111111111111,\"#46039f\"],[0.2222222222222222,\"#7201a8\"],[0.3333333333333333,\"#9c179e\"],[0.4444444444444444,\"#bd3786\"],[0.5555555555555556,\"#d8576b\"],[0.6666666666666666,\"#ed7953\"],[0.7777777777777778,\"#fb9f3a\"],[0.8888888888888888,\"#fdca26\"],[1.0,\"#f0f921\"]],\"type\":\"surface\"}],\"table\":[{\"cells\":{\"fill\":{\"color\":\"#506784\"},\"line\":{\"color\":\"rgb(17,17,17)\"}},\"header\":{\"fill\":{\"color\":\"#2a3f5f\"},\"line\":{\"color\":\"rgb(17,17,17)\"}},\"type\":\"table\"}]},\"layout\":{\"annotationdefaults\":{\"arrowcolor\":\"#f2f5fa\",\"arrowhead\":0,\"arrowwidth\":1},\"autotypenumbers\":\"strict\",\"coloraxis\":{\"colorbar\":{\"outlinewidth\":0,\"ticks\":\"\"}},\"colorscale\":{\"diverging\":[[0,\"#8e0152\"],[0.1,\"#c51b7d\"],[0.2,\"#de77ae\"],[0.3,\"#f1b6da\"],[0.4,\"#fde0ef\"],[0.5,\"#f7f7f7\"],[0.6,\"#e6f5d0\"],[0.7,\"#b8e186\"],[0.8,\"#7fbc41\"],[0.9,\"#4d9221\"],[1,\"#276419\"]],\"sequential\":[[0.0,\"#0d0887\"],[0.1111111111111111,\"#46039f\"],[0.2222222222222222,\"#7201a8\"],[0.3333333333333333,\"#9c179e\"],[0.4444444444444444,\"#bd3786\"],[0.5555555555555556,\"#d8576b\"],[0.6666666666666666,\"#ed7953\"],[0.7777777777777778,\"#fb9f3a\"],[0.8888888888888888,\"#fdca26\"],[1.0,\"#f0f921\"]],\"sequentialminus\":[[0.0,\"#0d0887\"],[0.1111111111111111,\"#46039f\"],[0.2222222222222222,\"#7201a8\"],[0.3333333333333333,\"#9c179e\"],[0.4444444444444444,\"#bd3786\"],[0.5555555555555556,\"#d8576b\"],[0.6666666666666666,\"#ed7953\"],[0.7777777777777778,\"#fb9f3a\"],[0.8888888888888888,\"#fdca26\"],[1.0,\"#f0f921\"]]},\"colorway\":[\"#636efa\",\"#EF553B\",\"#00cc96\",\"#ab63fa\",\"#FFA15A\",\"#19d3f3\",\"#FF6692\",\"#B6E880\",\"#FF97FF\",\"#FECB52\"],\"font\":{\"color\":\"#f2f5fa\"},\"geo\":{\"bgcolor\":\"rgb(17,17,17)\",\"lakecolor\":\"rgb(17,17,17)\",\"landcolor\":\"rgb(17,17,17)\",\"showlakes\":true,\"showland\":true,\"subunitcolor\":\"#506784\"},\"hoverlabel\":{\"align\":\"left\"},\"hovermode\":\"closest\",\"mapbox\":{\"style\":\"dark\"},\"paper_bgcolor\":\"rgb(17,17,17)\",\"plot_bgcolor\":\"rgb(17,17,17)\",\"polar\":{\"angularaxis\":{\"gridcolor\":\"#506784\",\"linecolor\":\"#506784\",\"ticks\":\"\"},\"bgcolor\":\"rgb(17,17,17)\",\"radialaxis\":{\"gridcolor\":\"#506784\",\"linecolor\":\"#506784\",\"ticks\":\"\"}},\"scene\":{\"xaxis\":{\"backgroundcolor\":\"rgb(17,17,17)\",\"gridcolor\":\"#506784\",\"gridwidth\":2,\"linecolor\":\"#506784\",\"showbackground\":true,\"ticks\":\"\",\"zerolinecolor\":\"#C8D4E3\"},\"yaxis\":{\"backgroundcolor\":\"rgb(17,17,17)\",\"gridcolor\":\"#506784\",\"gridwidth\":2,\"linecolor\":\"#506784\",\"showbackground\":true,\"ticks\":\"\",\"zerolinecolor\":\"#C8D4E3\"},\"zaxis\":{\"backgroundcolor\":\"rgb(17,17,17)\",\"gridcolor\":\"#506784\",\"gridwidth\":2,\"linecolor\":\"#506784\",\"showbackground\":true,\"ticks\":\"\",\"zerolinecolor\":\"#C8D4E3\"}},\"shapedefaults\":{\"line\":{\"color\":\"#f2f5fa\"}},\"sliderdefaults\":{\"bgcolor\":\"#C8D4E3\",\"bordercolor\":\"rgb(17,17,17)\",\"borderwidth\":1,\"tickwidth\":0},\"ternary\":{\"aaxis\":{\"gridcolor\":\"#506784\",\"linecolor\":\"#506784\",\"ticks\":\"\"},\"baxis\":{\"gridcolor\":\"#506784\",\"linecolor\":\"#506784\",\"ticks\":\"\"},\"bgcolor\":\"rgb(17,17,17)\",\"caxis\":{\"gridcolor\":\"#506784\",\"linecolor\":\"#506784\",\"ticks\":\"\"}},\"title\":{\"x\":0.05},\"updatemenudefaults\":{\"bgcolor\":\"#506784\",\"borderwidth\":0},\"xaxis\":{\"automargin\":true,\"gridcolor\":\"#283442\",\"linecolor\":\"#506784\",\"ticks\":\"\",\"title\":{\"standoff\":15},\"zerolinecolor\":\"#283442\",\"zerolinewidth\":2},\"yaxis\":{\"automargin\":true,\"gridcolor\":\"#283442\",\"linecolor\":\"#506784\",\"ticks\":\"\",\"title\":{\"standoff\":15},\"zerolinecolor\":\"#283442\",\"zerolinewidth\":2}}},\"title\":{\"text\":\"EJECTION FRACTION DISTRIBUTION\"},\"xaxis\":{\"title\":{\"text\":\"EJECTION FRACTION\"}},\"yaxis\":{\"title\":{\"text\":\"COUNT\"}},\"bargap\":0.05},                        {\"responsive\": true}                    ).then(function(){\n",
       "                            \n",
       "var gd = document.getElementById('b8e8bc82-fbd4-4f6a-9a43-5192cdb0d418');\n",
       "var x = new MutationObserver(function (mutations, observer) {{\n",
       "        var display = window.getComputedStyle(gd).display;\n",
       "        if (!display || display === 'none') {{\n",
       "            console.log([gd, 'removed!']);\n",
       "            Plotly.purge(gd);\n",
       "            observer.disconnect();\n",
       "        }}\n",
       "}});\n",
       "\n",
       "// Listen for the removal of the full notebook cells\n",
       "var notebookContainer = gd.closest('#notebook-container');\n",
       "if (notebookContainer) {{\n",
       "    x.observe(notebookContainer, {childList: true});\n",
       "}}\n",
       "\n",
       "// Listen for the clearing of the current output cell\n",
       "var outputEl = gd.closest('.output');\n",
       "if (outputEl) {{\n",
       "    x.observe(outputEl, {childList: true});\n",
       "}}\n",
       "\n",
       "                        })                };                });            </script>        </div>"
      ]
     },
     "metadata": {},
     "output_type": "display_data"
    }
   ],
   "source": [
    "import plotly.graph_objects as go\n",
    "\n",
    "fig = go.Figure()\n",
    "fig.add_trace(go.Histogram(\n",
    "    x = train['ejection_fraction'],\n",
    "    xbins=dict( # bins used for histogram\n",
    "        start=14,\n",
    "        end=80,\n",
    "        size=2\n",
    "    ),\n",
    "    marker_color='#A7F432',\n",
    "    opacity=1\n",
    "))\n",
    "\n",
    "fig.update_layout(\n",
    "    title_text='EJECTION FRACTION DISTRIBUTION',\n",
    "    xaxis_title_text='EJECTION FRACTION',\n",
    "    yaxis_title_text='COUNT', \n",
    "    bargap=0.05, # gap between bars of adjacent location coordinates\n",
    "\n",
    "    template = 'plotly_dark'\n",
    ")\n",
    "\n",
    "fig.show()"
   ]
  },
  {
   "cell_type": "code",
   "execution_count": 49,
   "id": "2e3f3272",
   "metadata": {},
   "outputs": [
    {
     "data": {
      "image/png": "[encoded data removed]",
      "text/plain": [
       "<Figure size 576x576 with 1 Axes>"
      ]
     },
     "metadata": {},
     "output_type": "display_data"
    }
   ],
   "source": [
    "sns.boxplot(x=train.time, color = 'yellow')\n",
    "plt.show()"
   ]
  },
  {
   "cell_type": "code",
   "execution_count": 50,
   "id": "87facfd4",
   "metadata": {},
   "outputs": [
    {
     "data": {
      "text/html": [
       "<div>\n",
       "<style scoped>\n",
       "    .dataframe tbody tr th:only-of-type {\n",
       "        vertical-align: middle;\n",
       "    }\n",
       "\n",
       "    .dataframe tbody tr th {\n",
       "        vertical-align: top;\n",
       "    }\n",
       "\n",
       "    .dataframe thead th {\n",
       "        text-align: right;\n",
       "    }\n",
       "</style>\n",
       "<table border=\"1\" class=\"dataframe\">\n",
       "  <thead>\n",
       "    <tr style=\"text-align: right;\">\n",
       "      <th></th>\n",
       "      <th>age</th>\n",
       "      <th>anaemia</th>\n",
       "      <th>creatinine_phosphokinase</th>\n",
       "      <th>diabetes</th>\n",
       "      <th>ejection_fraction</th>\n",
       "      <th>high_blood_pressure</th>\n",
       "      <th>platelets</th>\n",
       "      <th>serum_creatinine</th>\n",
       "      <th>serum_sodium</th>\n",
       "      <th>sex</th>\n",
       "      <th>smoking</th>\n",
       "      <th>time</th>\n",
       "      <th>DEATH_EVENT</th>\n",
       "    </tr>\n",
       "  </thead>\n",
       "  <tbody>\n",
       "    <tr>\n",
       "      <th>age</th>\n",
       "      <td>1.000000</td>\n",
       "      <td>0.086948</td>\n",
       "      <td>-0.082190</td>\n",
       "      <td>-0.107099</td>\n",
       "      <td>0.084417</td>\n",
       "      <td>0.093342</td>\n",
       "      <td>-0.054911</td>\n",
       "      <td>0.191524</td>\n",
       "      <td>-0.045582</td>\n",
       "      <td>0.057253</td>\n",
       "      <td>0.014322</td>\n",
       "      <td>-0.227676</td>\n",
       "      <td>0.255490</td>\n",
       "    </tr>\n",
       "    <tr>\n",
       "      <th>anaemia</th>\n",
       "      <td>0.086948</td>\n",
       "      <td>1.000000</td>\n",
       "      <td>-0.190798</td>\n",
       "      <td>-0.012010</td>\n",
       "      <td>0.032726</td>\n",
       "      <td>0.031050</td>\n",
       "      <td>-0.039589</td>\n",
       "      <td>0.025823</td>\n",
       "      <td>0.041949</td>\n",
       "      <td>-0.094417</td>\n",
       "      <td>-0.107192</td>\n",
       "      <td>-0.148080</td>\n",
       "      <td>0.059143</td>\n",
       "    </tr>\n",
       "    <tr>\n",
       "      <th>creatinine_phosphokinase</th>\n",
       "      <td>-0.082190</td>\n",
       "      <td>-0.190798</td>\n",
       "      <td>1.000000</td>\n",
       "      <td>-0.010119</td>\n",
       "      <td>-0.044131</td>\n",
       "      <td>-0.070146</td>\n",
       "      <td>0.023900</td>\n",
       "      <td>-0.013776</td>\n",
       "      <td>0.059600</td>\n",
       "      <td>0.079560</td>\n",
       "      <td>0.002055</td>\n",
       "      <td>-0.008914</td>\n",
       "      <td>0.063787</td>\n",
       "    </tr>\n",
       "    <tr>\n",
       "      <th>diabetes</th>\n",
       "      <td>-0.107099</td>\n",
       "      <td>-0.012010</td>\n",
       "      <td>-0.010119</td>\n",
       "      <td>1.000000</td>\n",
       "      <td>0.013474</td>\n",
       "      <td>-0.011024</td>\n",
       "      <td>0.089323</td>\n",
       "      <td>-0.029428</td>\n",
       "      <td>-0.089284</td>\n",
       "      <td>-0.166931</td>\n",
       "      <td>-0.151707</td>\n",
       "      <td>0.033835</td>\n",
       "      <td>0.000246</td>\n",
       "    </tr>\n",
       "    <tr>\n",
       "      <th>ejection_fraction</th>\n",
       "      <td>0.084417</td>\n",
       "      <td>0.032726</td>\n",
       "      <td>-0.044131</td>\n",
       "      <td>0.013474</td>\n",
       "      <td>1.000000</td>\n",
       "      <td>0.021671</td>\n",
       "      <td>0.085759</td>\n",
       "      <td>-0.086869</td>\n",
       "      <td>0.180255</td>\n",
       "      <td>-0.124787</td>\n",
       "      <td>-0.054795</td>\n",
       "      <td>0.046043</td>\n",
       "      <td>-0.284516</td>\n",
       "    </tr>\n",
       "    <tr>\n",
       "      <th>high_blood_pressure</th>\n",
       "      <td>0.093342</td>\n",
       "      <td>0.031050</td>\n",
       "      <td>-0.070146</td>\n",
       "      <td>-0.011024</td>\n",
       "      <td>0.021671</td>\n",
       "      <td>1.000000</td>\n",
       "      <td>0.055548</td>\n",
       "      <td>-0.043270</td>\n",
       "      <td>0.037080</td>\n",
       "      <td>-0.102811</td>\n",
       "      <td>-0.054573</td>\n",
       "      <td>-0.203749</td>\n",
       "      <td>0.071639</td>\n",
       "    </tr>\n",
       "    <tr>\n",
       "      <th>platelets</th>\n",
       "      <td>-0.054911</td>\n",
       "      <td>-0.039589</td>\n",
       "      <td>0.023900</td>\n",
       "      <td>0.089323</td>\n",
       "      <td>0.085759</td>\n",
       "      <td>0.055548</td>\n",
       "      <td>1.000000</td>\n",
       "      <td>-0.014142</td>\n",
       "      <td>0.062595</td>\n",
       "      <td>-0.131498</td>\n",
       "      <td>0.025668</td>\n",
       "      <td>0.013844</td>\n",
       "      <td>-0.043820</td>\n",
       "    </tr>\n",
       "    <tr>\n",
       "      <th>serum_creatinine</th>\n",
       "      <td>0.191524</td>\n",
       "      <td>0.025823</td>\n",
       "      <td>-0.013776</td>\n",
       "      <td>-0.029428</td>\n",
       "      <td>-0.086869</td>\n",
       "      <td>-0.043270</td>\n",
       "      <td>-0.014142</td>\n",
       "      <td>1.000000</td>\n",
       "      <td>-0.211363</td>\n",
       "      <td>0.044205</td>\n",
       "      <td>-0.012007</td>\n",
       "      <td>-0.189343</td>\n",
       "      <td>0.286439</td>\n",
       "    </tr>\n",
       "    <tr>\n",
       "      <th>serum_sodium</th>\n",
       "      <td>-0.045582</td>\n",
       "      <td>0.041949</td>\n",
       "      <td>0.059600</td>\n",
       "      <td>-0.089284</td>\n",
       "      <td>0.180255</td>\n",
       "      <td>0.037080</td>\n",
       "      <td>0.062595</td>\n",
       "      <td>-0.211363</td>\n",
       "      <td>1.000000</td>\n",
       "      <td>-0.026957</td>\n",
       "      <td>0.005215</td>\n",
       "      <td>0.087865</td>\n",
       "      <td>-0.196280</td>\n",
       "    </tr>\n",
       "    <tr>\n",
       "      <th>sex</th>\n",
       "      <td>0.057253</td>\n",
       "      <td>-0.094417</td>\n",
       "      <td>0.079560</td>\n",
       "      <td>-0.166931</td>\n",
       "      <td>-0.124787</td>\n",
       "      <td>-0.102811</td>\n",
       "      <td>-0.131498</td>\n",
       "      <td>0.044205</td>\n",
       "      <td>-0.026957</td>\n",
       "      <td>1.000000</td>\n",
       "      <td>0.443064</td>\n",
       "      <td>-0.015836</td>\n",
       "      <td>-0.000817</td>\n",
       "    </tr>\n",
       "    <tr>\n",
       "      <th>smoking</th>\n",
       "      <td>0.014322</td>\n",
       "      <td>-0.107192</td>\n",
       "      <td>0.002055</td>\n",
       "      <td>-0.151707</td>\n",
       "      <td>-0.054795</td>\n",
       "      <td>-0.054573</td>\n",
       "      <td>0.025668</td>\n",
       "      <td>-0.012007</td>\n",
       "      <td>0.005215</td>\n",
       "      <td>0.443064</td>\n",
       "      <td>1.000000</td>\n",
       "      <td>-0.022978</td>\n",
       "      <td>-0.010913</td>\n",
       "    </tr>\n",
       "    <tr>\n",
       "      <th>time</th>\n",
       "      <td>-0.227676</td>\n",
       "      <td>-0.148080</td>\n",
       "      <td>-0.008914</td>\n",
       "      <td>0.033835</td>\n",
       "      <td>0.046043</td>\n",
       "      <td>-0.203749</td>\n",
       "      <td>0.013844</td>\n",
       "      <td>-0.189343</td>\n",
       "      <td>0.087865</td>\n",
       "      <td>-0.015836</td>\n",
       "      <td>-0.022978</td>\n",
       "      <td>1.000000</td>\n",
       "      <td>-0.536734</td>\n",
       "    </tr>\n",
       "    <tr>\n",
       "      <th>DEATH_EVENT</th>\n",
       "      <td>0.255490</td>\n",
       "      <td>0.059143</td>\n",
       "      <td>0.063787</td>\n",
       "      <td>0.000246</td>\n",
       "      <td>-0.284516</td>\n",
       "      <td>0.071639</td>\n",
       "      <td>-0.043820</td>\n",
       "      <td>0.286439</td>\n",
       "      <td>-0.196280</td>\n",
       "      <td>-0.000817</td>\n",
       "      <td>-0.010913</td>\n",
       "      <td>-0.536734</td>\n",
       "      <td>1.000000</td>\n",
       "    </tr>\n",
       "  </tbody>\n",
       "</table>\n",
       "</div>"
      ],
      "text/plain": [
       "                               age   anaemia  creatinine_phosphokinase  \\\n",
       "age                       1.000000  0.086948                 -0.082190   \n",
       "anaemia                   0.086948  1.000000                 -0.190798   \n",
       "creatinine_phosphokinase -0.082190 -0.190798                  1.000000   \n",
       "diabetes                 -0.107099 -0.012010                 -0.010119   \n",
       "ejection_fraction         0.084417  0.032726                 -0.044131   \n",
       "high_blood_pressure       0.093342  0.031050                 -0.070146   \n",
       "platelets                -0.054911 -0.039589                  0.023900   \n",
       "serum_creatinine          0.191524  0.025823                 -0.013776   \n",
       "serum_sodium             -0.045582  0.041949                  0.059600   \n",
       "sex                       0.057253 -0.094417                  0.079560   \n",
       "smoking                   0.014322 -0.107192                  0.002055   \n",
       "time                     -0.227676 -0.148080                 -0.008914   \n",
       "DEATH_EVENT               0.255490  0.059143                  0.063787   \n",
       "\n",
       "                          diabetes  ejection_fraction  high_blood_pressure  \\\n",
       "age                      -0.107099           0.084417             0.093342   \n",
       "anaemia                  -0.012010           0.032726             0.031050   \n",
       "creatinine_phosphokinase -0.010119          -0.044131            -0.070146   \n",
       "diabetes                  1.000000           0.013474            -0.011024   \n",
       "ejection_fraction         0.013474           1.000000             0.021671   \n",
       "high_blood_pressure      -0.011024           0.021671             1.000000   \n",
       "platelets                 0.089323           0.085759             0.055548   \n",
       "serum_creatinine         -0.029428          -0.086869            -0.043270   \n",
       "serum_sodium             -0.089284           0.180255             0.037080   \n",
       "sex                      -0.166931          -0.124787            -0.102811   \n",
       "smoking                  -0.151707          -0.054795            -0.054573   \n",
       "time                      0.033835           0.046043            -0.203749   \n",
       "DEATH_EVENT               0.000246          -0.284516             0.071639   \n",
       "\n",
       "                          platelets  serum_creatinine  serum_sodium       sex  \\\n",
       "age                       -0.054911          0.191524     -0.045582  0.057253   \n",
       "anaemia                   -0.039589          0.025823      0.041949 -0.094417   \n",
       "creatinine_phosphokinase   0.023900         -0.013776      0.059600  0.079560   \n",
       "diabetes                   0.089323         -0.029428     -0.089284 -0.166931   \n",
       "ejection_fraction          0.085759         -0.086869      0.180255 -0.124787   \n",
       "high_blood_pressure        0.055548         -0.043270      0.037080 -0.102811   \n",
       "platelets                  1.000000         -0.014142      0.062595 -0.131498   \n",
       "serum_creatinine          -0.014142          1.000000     -0.211363  0.044205   \n",
       "serum_sodium               0.062595         -0.211363      1.000000 -0.026957   \n",
       "sex                       -0.131498          0.044205     -0.026957  1.000000   \n",
       "smoking                    0.025668         -0.012007      0.005215  0.443064   \n",
       "time                       0.013844         -0.189343      0.087865 -0.015836   \n",
       "DEATH_EVENT               -0.043820          0.286439     -0.196280 -0.000817   \n",
       "\n",
       "                           smoking      time  DEATH_EVENT  \n",
       "age                       0.014322 -0.227676     0.255490  \n",
       "anaemia                  -0.107192 -0.148080     0.059143  \n",
       "creatinine_phosphokinase  0.002055 -0.008914     0.063787  \n",
       "diabetes                 -0.151707  0.033835     0.000246  \n",
       "ejection_fraction        -0.054795  0.046043    -0.284516  \n",
       "high_blood_pressure      -0.054573 -0.203749     0.071639  \n",
       "platelets                 0.025668  0.013844    -0.043820  \n",
       "serum_creatinine         -0.012007 -0.189343     0.286439  \n",
       "serum_sodium              0.005215  0.087865    -0.196280  \n",
       "sex                       0.443064 -0.015836    -0.000817  \n",
       "smoking                   1.000000 -0.022978    -0.010913  \n",
       "time                     -0.022978  1.000000    -0.536734  \n",
       "DEATH_EVENT              -0.010913 -0.536734     1.000000  "
      ]
     },
     "execution_count": 50,
     "metadata": {},
     "output_type": "execute_result"
    }
   ],
   "source": [
    "train.corr()"
   ]
  },
  {
   "cell_type": "markdown",
   "id": "252a1a41",
   "metadata": {},
   "source": [
    "# SPLIT THE DATA"
   ]
  },
  {
   "cell_type": "code",
   "execution_count": 51,
   "id": "a295179a",
   "metadata": {},
   "outputs": [],
   "source": [
    "# Feature Selection\n",
    "\n",
    "plt.rcParams['figure.figsize']=15,6 \n",
    "sns.set_style(\"darkgrid\")\n",
    "\n",
    "x = train.iloc[:, :-1]\n",
    "y = train.iloc[:,-1]"
   ]
  },
  {
   "cell_type": "code",
   "execution_count": 52,
   "id": "031fa578",
   "metadata": {},
   "outputs": [
    {
     "name": "stderr",
     "output_type": "stream",
     "text": [
      "C:\\Users\\91825\\anaconda3\\lib\\site-packages\\sklearn\\utils\\validation.py:571: FutureWarning:\n",
      "\n",
      "is_sparse is deprecated and will be removed in a future version. Check `isinstance(dtype, pd.SparseDtype)` instead.\n",
      "\n"
     ]
    },
    {
     "name": "stdout",
     "output_type": "stream",
     "text": [
      "[0.09373484 0.02373029 0.07543491 0.02919557 0.12873983 0.02359706\n",
      " 0.07269782 0.11917547 0.0850989  0.02715379 0.02524241 0.29619911]\n"
     ]
    },
    {
     "data": {
      "image/png": "[encoded data removed]",
      "text/plain": [
       "<Figure size 1080x432 with 1 Axes>"
      ]
     },
     "metadata": {},
     "output_type": "display_data"
    }
   ],
   "source": [
    "from sklearn.ensemble import ExtraTreesClassifier\n",
    "\n",
    "model = ExtraTreesClassifier()\n",
    "model.fit(x,y)\n",
    "print(model.feature_importances_) \n",
    "feat_importances = pd.Series(model.feature_importances_, index=x.columns)\n",
    "feat_importances.nlargest(12).plot(kind='barh')\n",
    "plt.show()"
   ]
  },
  {
   "cell_type": "markdown",
   "id": "f247d4fb",
   "metadata": {},
   "source": [
    "# Drope Some Feature from Dataset"
   ]
  },
  {
   "cell_type": "code",
   "execution_count": 53,
   "id": "f37b5b4d",
   "metadata": {},
   "outputs": [],
   "source": [
    "train=train.drop(['anaemia','creatinine_phosphokinase','diabetes','high_blood_pressure','platelets','sex','smoking','age'],axis=1)"
   ]
  },
  {
   "cell_type": "code",
   "execution_count": 54,
   "id": "fba5a4d0",
   "metadata": {},
   "outputs": [
    {
     "data": {
      "text/html": [
       "<div>\n",
       "<style scoped>\n",
       "    .dataframe tbody tr th:only-of-type {\n",
       "        vertical-align: middle;\n",
       "    }\n",
       "\n",
       "    .dataframe tbody tr th {\n",
       "        vertical-align: top;\n",
       "    }\n",
       "\n",
       "    .dataframe thead th {\n",
       "        text-align: right;\n",
       "    }\n",
       "</style>\n",
       "<table border=\"1\" class=\"dataframe\">\n",
       "  <thead>\n",
       "    <tr style=\"text-align: right;\">\n",
       "      <th></th>\n",
       "      <th>ejection_fraction</th>\n",
       "      <th>serum_creatinine</th>\n",
       "      <th>serum_sodium</th>\n",
       "      <th>time</th>\n",
       "      <th>DEATH_EVENT</th>\n",
       "    </tr>\n",
       "  </thead>\n",
       "  <tbody>\n",
       "    <tr>\n",
       "      <th>ejection_fraction</th>\n",
       "      <td>1.000000</td>\n",
       "      <td>-0.086869</td>\n",
       "      <td>0.180255</td>\n",
       "      <td>0.046043</td>\n",
       "      <td>-0.284516</td>\n",
       "    </tr>\n",
       "    <tr>\n",
       "      <th>serum_creatinine</th>\n",
       "      <td>-0.086869</td>\n",
       "      <td>1.000000</td>\n",
       "      <td>-0.211363</td>\n",
       "      <td>-0.189343</td>\n",
       "      <td>0.286439</td>\n",
       "    </tr>\n",
       "    <tr>\n",
       "      <th>serum_sodium</th>\n",
       "      <td>0.180255</td>\n",
       "      <td>-0.211363</td>\n",
       "      <td>1.000000</td>\n",
       "      <td>0.087865</td>\n",
       "      <td>-0.196280</td>\n",
       "    </tr>\n",
       "    <tr>\n",
       "      <th>time</th>\n",
       "      <td>0.046043</td>\n",
       "      <td>-0.189343</td>\n",
       "      <td>0.087865</td>\n",
       "      <td>1.000000</td>\n",
       "      <td>-0.536734</td>\n",
       "    </tr>\n",
       "    <tr>\n",
       "      <th>DEATH_EVENT</th>\n",
       "      <td>-0.284516</td>\n",
       "      <td>0.286439</td>\n",
       "      <td>-0.196280</td>\n",
       "      <td>-0.536734</td>\n",
       "      <td>1.000000</td>\n",
       "    </tr>\n",
       "  </tbody>\n",
       "</table>\n",
       "</div>"
      ],
      "text/plain": [
       "                   ejection_fraction  serum_creatinine  serum_sodium  \\\n",
       "ejection_fraction           1.000000         -0.086869      0.180255   \n",
       "serum_creatinine           -0.086869          1.000000     -0.211363   \n",
       "serum_sodium                0.180255         -0.211363      1.000000   \n",
       "time                        0.046043         -0.189343      0.087865   \n",
       "DEATH_EVENT                -0.284516          0.286439     -0.196280   \n",
       "\n",
       "                       time  DEATH_EVENT  \n",
       "ejection_fraction  0.046043    -0.284516  \n",
       "serum_creatinine  -0.189343     0.286439  \n",
       "serum_sodium       0.087865    -0.196280  \n",
       "time               1.000000    -0.536734  \n",
       "DEATH_EVENT       -0.536734     1.000000  "
      ]
     },
     "execution_count": 54,
     "metadata": {},
     "output_type": "execute_result"
    }
   ],
   "source": [
    "train.corr()"
   ]
  },
  {
   "cell_type": "code",
   "execution_count": 55,
   "id": "79330c93",
   "metadata": {},
   "outputs": [],
   "source": [
    "from sklearn.model_selection import train_test_split\n",
    "from sklearn import metrics\n",
    "from sklearn.metrics import accuracy_score"
   ]
  },
  {
   "cell_type": "code",
   "execution_count": 56,
   "id": "e19fd5ba",
   "metadata": {},
   "outputs": [],
   "source": [
    "x=train.drop('DEATH_EVENT',axis=1)\n",
    "y=train.DEATH_EVENT"
   ]
  },
  {
   "cell_type": "code",
   "execution_count": 57,
   "id": "159a3e11",
   "metadata": {},
   "outputs": [
    {
     "name": "stdout",
     "output_type": "stream",
     "text": [
      "(297, 4)\n",
      "(297,)\n"
     ]
    }
   ],
   "source": [
    "print(x.shape)\n",
    "print(y.shape)"
   ]
  },
  {
   "cell_type": "code",
   "execution_count": 58,
   "id": "20f21e79",
   "metadata": {},
   "outputs": [],
   "source": [
    "x_train,x_test,y_train,y_test = train_test_split(x,y,test_size=0.3)"
   ]
  },
  {
   "cell_type": "code",
   "execution_count": 59,
   "id": "8a4be95f",
   "metadata": {},
   "outputs": [
    {
     "name": "stdout",
     "output_type": "stream",
     "text": [
      "     ejection_fraction  serum_creatinine  serum_sodium  time\n",
      "156                 35               1.4           136   120\n",
      "124                 40               3.7           134    96\n",
      "187                 25               2.1           144   172\n",
      "208                 40               1.0           141   187\n",
      "253                 35               1.2           132   215\n",
      "..                 ...               ...           ...   ...\n",
      "0                   20               1.9           130     4\n",
      "174                 35               0.9           137   146\n",
      "171                 40               0.9           140   146\n",
      "273                 40               0.7           140   245\n",
      "29                  30               1.2           132    26\n",
      "\n",
      "[207 rows x 4 columns]\n",
      "13     1\n",
      "66     1\n",
      "74     1\n",
      "147    0\n",
      "94     0\n",
      "      ..\n",
      "285    0\n",
      "218    0\n",
      "267    0\n",
      "70     0\n",
      "260    0\n",
      "Name: DEATH_EVENT, Length: 90, dtype: int64\n"
     ]
    }
   ],
   "source": [
    "print(x_train)\n",
    "print(y_test)"
   ]
  },
  {
   "cell_type": "markdown",
   "id": "344797f5",
   "metadata": {},
   "source": [
    "# Standarization"
   ]
  },
  {
   "cell_type": "code",
   "execution_count": 60,
   "id": "35280390",
   "metadata": {},
   "outputs": [
    {
     "name": "stderr",
     "output_type": "stream",
     "text": [
      "C:\\Users\\91825\\anaconda3\\lib\\site-packages\\sklearn\\utils\\validation.py:571: FutureWarning:\n",
      "\n",
      "is_sparse is deprecated and will be removed in a future version. Check `isinstance(dtype, pd.SparseDtype)` instead.\n",
      "\n",
      "C:\\Users\\91825\\anaconda3\\lib\\site-packages\\sklearn\\utils\\validation.py:571: FutureWarning:\n",
      "\n",
      "is_sparse is deprecated and will be removed in a future version. Check `isinstance(dtype, pd.SparseDtype)` instead.\n",
      "\n",
      "C:\\Users\\91825\\anaconda3\\lib\\site-packages\\sklearn\\utils\\validation.py:571: FutureWarning:\n",
      "\n",
      "is_sparse is deprecated and will be removed in a future version. Check `isinstance(dtype, pd.SparseDtype)` instead.\n",
      "\n"
     ]
    }
   ],
   "source": [
    "from sklearn.preprocessing import StandardScaler\n",
    "sc = StandardScaler()\n",
    "x_train = sc.fit_transform(x_train)\n",
    "x_test = sc.transform(x_test)"
   ]
  },
  {
   "cell_type": "markdown",
   "id": "9930ae7d",
   "metadata": {},
   "source": [
    "# LogisticRegression"
   ]
  },
  {
   "cell_type": "code",
   "execution_count": 61,
   "id": "5382b71b",
   "metadata": {},
   "outputs": [
    {
     "name": "stdout",
     "output_type": "stream",
     "text": [
      "[[53  9]\n",
      " [12 16]]\n",
      "0.7666666666666667\n"
     ]
    }
   ],
   "source": [
    "# Making Confusion Matrix and calculating accuracy score\n",
    "from sklearn.linear_model import LogisticRegression\n",
    "from sklearn.metrics import confusion_matrix, accuracy_score\n",
    "\n",
    "model = LogisticRegression()\n",
    "\n",
    "#Fit the model\n",
    "model.fit(x_train, y_train)\n",
    "y_pred = model.predict(x_test)\n",
    "\n",
    "mylist = []\n",
    "# Confusion Matrix\n",
    "cm = confusion_matrix(y_test, y_pred)\n",
    "# accuracy score\n",
    "acc_logreg = accuracy_score(y_test, y_pred)\n",
    "\n",
    "mylist.append(acc_logreg)\n",
    "print(cm)\n",
    "print(acc_logreg)"
   ]
  },
  {
   "cell_type": "markdown",
   "id": "254683fa",
   "metadata": {},
   "source": [
    "# KNN Classifier"
   ]
  },
  {
   "cell_type": "code",
   "execution_count": 62,
   "id": "2f8906a6",
   "metadata": {},
   "outputs": [
    {
     "data": {
      "image/png": "[encoded data removed]",
      "text/plain": [
       "<Figure size 1080x432 with 1 Axes>"
      ]
     },
     "metadata": {},
     "output_type": "display_data"
    }
   ],
   "source": [
    "# Finding the optimum number of neighbors \n",
    "\n",
    "from sklearn.neighbors import KNeighborsClassifier\n",
    "from sklearn.metrics import confusion_matrix, accuracy_score\n",
    "\n",
    "list1 = []\n",
    "for neighbors in range(3,10):\n",
    "    classifier = KNeighborsClassifier(n_neighbors=neighbors, metric='minkowski')\n",
    "    classifier.fit(x_train, y_train)\n",
    "    y_pred = classifier.predict(x_test)\n",
    "    list1.append(accuracy_score(y_test,y_pred))\n",
    "plt.plot(list(range(3,10)), list1)\n",
    "plt.show()"
   ]
  },
  {
   "cell_type": "code",
   "execution_count": 63,
   "id": "b1c0403f",
   "metadata": {},
   "outputs": [
    {
     "data": {
      "text/plain": [
       "KNeighborsClassifier()"
      ]
     },
     "execution_count": 63,
     "metadata": {},
     "output_type": "execute_result"
    }
   ],
   "source": [
    "# Training the K Nearest Neighbor Classifier on the Training set\n",
    "\n",
    "classifier = KNeighborsClassifier(n_neighbors=5)\n",
    "classifier.fit(x_train, y_train)"
   ]
  },
  {
   "cell_type": "code",
   "execution_count": 64,
   "id": "a1868f9d",
   "metadata": {},
   "outputs": [
    {
     "name": "stdout",
     "output_type": "stream",
     "text": [
      "[1 1 1 0 0 0 0 0 0 0 0 0 0 0 1 0 1 0 0 0 0 0 0 0 1 0 1 0 0 1 0 0 0 0 0 0 0\n",
      " 0 0 0 0 0 0 1 0 0 0 0 0 1 0 0 0 1 0 1 0 0 0 0 1 0 0 0 0 1 0 0 1 1 0 1 1 0\n",
      " 0 0 0 1 0 0 0 1 0 0 1 0 0 0 0 0]\n"
     ]
    }
   ],
   "source": [
    "# Predicting the Test set results\n",
    "\n",
    "y_pred = classifier.predict(x_test)\n",
    "print(y_pred)"
   ]
  },
  {
   "cell_type": "code",
   "execution_count": 65,
   "id": "df63e00f",
   "metadata": {},
   "outputs": [
    {
     "name": "stdout",
     "output_type": "stream",
     "text": [
      "[[56  6]\n",
      " [13 15]]\n",
      "0.7888888888888889\n"
     ]
    }
   ],
   "source": [
    "# Making the confusion matrix and calculating accuracy score\n",
    "\n",
    "from sklearn.metrics import confusion_matrix, accuracy_score\n",
    "cm = confusion_matrix(y_test, y_pred)\n",
    "acc_knn = accuracy_score(y_test, y_pred)\n",
    "mylist.append(acc_knn)\n",
    "print(cm)\n",
    "print(acc_knn)"
   ]
  },
  {
   "cell_type": "markdown",
   "id": "25d0607a",
   "metadata": {},
   "source": [
    "# Support Vector Machine"
   ]
  },
  {
   "cell_type": "code",
   "execution_count": 66,
   "id": "bf1cb0db",
   "metadata": {},
   "outputs": [
    {
     "data": {
      "image/png": "[encoded data removed]",
      "text/plain": [
       "<Figure size 1080x432 with 1 Axes>"
      ]
     },
     "metadata": {},
     "output_type": "display_data"
    }
   ],
   "source": [
    "from sklearn.svm import SVC\n",
    "from sklearn.metrics import confusion_matrix, accuracy_score\n",
    "list1 = []\n",
    "for c in [0.5,0.6,0.7,0.8,0.9,1.0]:\n",
    "    classifier = SVC(C = c, random_state=0, kernel = 'rbf')\n",
    "    classifier.fit(x_train, y_train)\n",
    "    y_pred = classifier.predict(x_test)\n",
    "    list1.append(accuracy_score(y_test,y_pred))\n",
    "plt.plot([0.5,0.6,0.7,0.8,0.9,1.0], list1)\n",
    "plt.show()"
   ]
  },
  {
   "cell_type": "code",
   "execution_count": 67,
   "id": "99a45aba",
   "metadata": {},
   "outputs": [
    {
     "data": {
      "text/plain": [
       "SVC(C=0.7, random_state=0)"
      ]
     },
     "execution_count": 67,
     "metadata": {},
     "output_type": "execute_result"
    }
   ],
   "source": [
    "# Training the Support Vector Classifier on the Training set\n",
    "\n",
    "from sklearn.svm import SVC\n",
    "classifier = SVC(C = 0.7, random_state=0, kernel = 'rbf')\n",
    "classifier.fit(x_train, y_train)"
   ]
  },
  {
   "cell_type": "code",
   "execution_count": 68,
   "id": "b43197d5",
   "metadata": {},
   "outputs": [
    {
     "name": "stdout",
     "output_type": "stream",
     "text": [
      "[1 1 1 0 0 0 0 0 0 0 0 0 0 0 1 0 0 0 0 0 0 0 0 0 1 0 1 0 0 1 0 0 0 0 0 0 0\n",
      " 0 0 0 0 0 0 0 0 0 0 0 0 1 0 0 0 1 0 1 0 0 0 0 0 0 0 1 0 1 0 0 1 1 0 1 1 0\n",
      " 0 0 0 1 0 0 0 1 0 0 1 0 0 0 0 0]\n"
     ]
    }
   ],
   "source": [
    "# Predicting the test set results\n",
    "\n",
    "y_pred = classifier.predict(x_test)\n",
    "print(y_pred)"
   ]
  },
  {
   "cell_type": "code",
   "execution_count": 69,
   "id": "f7eb8fe3",
   "metadata": {},
   "outputs": [
    {
     "name": "stdout",
     "output_type": "stream",
     "text": [
      "[[56  6]\n",
      " [15 13]]\n",
      "0.7666666666666667\n"
     ]
    }
   ],
   "source": [
    "# Making the confusion matrix and calculating accuracy score\n",
    "\n",
    "from sklearn.metrics import confusion_matrix, accuracy_score\n",
    "cm = confusion_matrix(y_test, y_pred)\n",
    "acc_svc = accuracy_score(y_test, y_pred)\n",
    "print(cm)\n",
    "print(acc_svc)\n",
    "mylist.append(acc_svc)"
   ]
  },
  {
   "cell_type": "markdown",
   "id": "5315afe4",
   "metadata": {},
   "source": [
    "# DecisionTree"
   ]
  },
  {
   "cell_type": "code",
   "execution_count": 70,
   "id": "131eab44",
   "metadata": {},
   "outputs": [
    {
     "data": {
      "image/png": "[encoded data removed]",
      "text/plain": [
       "<Figure size 1080x432 with 1 Axes>"
      ]
     },
     "metadata": {},
     "output_type": "display_data"
    }
   ],
   "source": [
    "# Finding the optimum number of max_leaf_nodes\n",
    "\n",
    "from sklearn.tree import DecisionTreeClassifier\n",
    "from sklearn.metrics import confusion_matrix, accuracy_score\n",
    "list1 = []\n",
    "for leaves in range(2,15):\n",
    "    classifier = DecisionTreeClassifier(max_leaf_nodes = leaves, random_state=0, criterion='entropy')\n",
    "    classifier.fit(x_train, y_train)\n",
    "    y_pred = classifier.predict(x_test)\n",
    "    list1.append(accuracy_score(y_test,y_pred))\n",
    "#print(mylist)\n",
    "plt.plot(list(range(2,15)), list1)\n",
    "plt.show()"
   ]
  },
  {
   "cell_type": "code",
   "execution_count": 73,
   "id": "c69563f1",
   "metadata": {},
   "outputs": [
    {
     "data": {
      "text/plain": [
       "DecisionTreeClassifier(criterion='entropy', max_leaf_nodes=10, random_state=0)"
      ]
     },
     "execution_count": 73,
     "metadata": {},
     "output_type": "execute_result"
    }
   ],
   "source": [
    "# Training the Decision Tree Classifier on the Training set\n",
    "\n",
    "classifier = DecisionTreeClassifier(max_leaf_nodes = 10, random_state=0, criterion='entropy')\n",
    "classifier.fit(x_train, y_train)"
   ]
  },
  {
   "cell_type": "code",
   "execution_count": 74,
   "id": "65d59e76",
   "metadata": {},
   "outputs": [
    {
     "name": "stdout",
     "output_type": "stream",
     "text": [
      "[1 1 1 0 0 0 0 1 0 0 0 1 0 0 0 1 1 1 0 0 0 0 1 1 1 0 1 1 0 1 0 0 0 0 0 0 1\n",
      " 1 0 0 0 0 0 1 0 0 0 0 0 1 1 0 1 1 0 1 0 0 0 1 1 0 0 1 0 1 0 0 1 1 0 1 1 0\n",
      " 0 0 0 1 0 0 0 0 0 0 1 0 0 0 1 0]\n"
     ]
    }
   ],
   "source": [
    "# Predicting the test set results\n",
    "\n",
    "y_pred = classifier.predict(x_test)\n",
    "print(y_pred)"
   ]
  },
  {
   "cell_type": "code",
   "execution_count": 75,
   "id": "0d626742",
   "metadata": {},
   "outputs": [
    {
     "name": "stdout",
     "output_type": "stream",
     "text": [
      "[[51 11]\n",
      " [ 6 22]]\n",
      "0.8111111111111111\n"
     ]
    }
   ],
   "source": [
    "# Making the confusion matrix and calculating accuracy score\n",
    "\n",
    "from sklearn.metrics import confusion_matrix, accuracy_score\n",
    "cm = confusion_matrix(y_test, y_pred)\n",
    "acc_decisiontree = accuracy_score(y_test, y_pred)\n",
    "print(cm)\n",
    "print(acc_decisiontree)\n",
    "mylist.append(acc_decisiontree)"
   ]
  },
  {
   "cell_type": "markdown",
   "id": "e811fd59",
   "metadata": {},
   "source": [
    "# RandomForest"
   ]
  },
  {
   "cell_type": "code",
   "execution_count": 76,
   "id": "bf90a7e4",
   "metadata": {},
   "outputs": [
    {
     "data": {
      "image/png": "[encoded data removed]",
      "text/plain": [
       "<Figure size 1080x432 with 1 Axes>"
      ]
     },
     "metadata": {},
     "output_type": "display_data"
    }
   ],
   "source": [
    "#Finding the optimum number of n_estimators\n",
    "\n",
    "from sklearn.ensemble import RandomForestClassifier\n",
    "from sklearn.metrics import confusion_matrix, accuracy_score\n",
    "list1 = []\n",
    "for estimators in range(10,30):\n",
    "    classifier = RandomForestClassifier(n_estimators = estimators, random_state=0, criterion='entropy')\n",
    "    classifier.fit(x_train, y_train)\n",
    "    y_pred = classifier.predict(x_test)\n",
    "    list1.append(accuracy_score(y_test,y_pred))\n",
    "#print(mylist)\n",
    "plt.plot(list(range(10,30)), list1)\n",
    "plt.show()"
   ]
  },
  {
   "cell_type": "code",
   "execution_count": 78,
   "id": "21b22d7c",
   "metadata": {},
   "outputs": [
    {
     "data": {
      "text/plain": [
       "RandomForestClassifier(criterion='entropy', n_estimators=15, random_state=0)"
      ]
     },
     "execution_count": 78,
     "metadata": {},
     "output_type": "execute_result"
    }
   ],
   "source": [
    "# Training the RandomForest Classifier on the Training set\n",
    "\n",
    "from sklearn.ensemble import RandomForestClassifier\n",
    "classifier = RandomForestClassifier(n_estimators = 15, criterion='entropy', random_state=0)\n",
    "classifier.fit(x_train,y_train)"
   ]
  },
  {
   "cell_type": "code",
   "execution_count": 79,
   "id": "83809b70",
   "metadata": {},
   "outputs": [
    {
     "name": "stdout",
     "output_type": "stream",
     "text": [
      "[1 1 1 0 0 0 0 0 0 0 0 1 0 0 0 0 1 0 0 0 0 0 1 1 1 0 1 0 0 1 0 0 0 0 0 0 0\n",
      " 1 0 0 0 0 0 1 0 0 0 0 0 1 0 0 1 1 0 1 0 0 0 0 1 0 0 1 0 1 0 0 1 1 0 1 1 0\n",
      " 0 0 0 1 0 0 0 1 0 0 1 0 0 0 1 0]\n"
     ]
    }
   ],
   "source": [
    "# Predicting the test set results\n",
    "\n",
    "y_pred = classifier.predict(x_test)\n",
    "print(y_pred)"
   ]
  },
  {
   "cell_type": "code",
   "execution_count": 80,
   "id": "13923afb",
   "metadata": {},
   "outputs": [
    {
     "name": "stdout",
     "output_type": "stream",
     "text": [
      "[[53  9]\n",
      " [10 18]]\n",
      "0.7888888888888889\n"
     ]
    }
   ],
   "source": [
    "# Making the confusion matrix and calculating the accuracy score\n",
    "\n",
    "from sklearn.metrics import confusion_matrix, accuracy_score\n",
    "cm = confusion_matrix(y_test, y_pred)\n",
    "acc_randomforest = accuracy_score(y_test, y_pred)\n",
    "mylist.append(acc_randomforest)\n",
    "print(cm)\n",
    "print(acc_randomforest)"
   ]
  },
  {
   "cell_type": "markdown",
   "id": "85b19ba7",
   "metadata": {},
   "source": [
    "# Artificial Neural Network"
   ]
  },
  {
   "cell_type": "code",
   "execution_count": 81,
   "id": "52152a39",
   "metadata": {},
   "outputs": [],
   "source": [
    "np.random.seed(0)\n",
    "import tensorflow as tf\n",
    "\n",
    "# Initialising the ANN\n",
    "\n",
    "ann = tf.keras.models.Sequential()"
   ]
  },
  {
   "cell_type": "code",
   "execution_count": 63,
   "id": "6986d56e",
   "metadata": {},
   "outputs": [],
   "source": [
    "# Adding the input layer and the first hidden layer\n",
    "\n",
    "ann.add(tf.keras.layers.Dense(units = 7, activation = 'relu'))"
   ]
  },
  {
   "cell_type": "code",
   "execution_count": 82,
   "id": "af0c57ab",
   "metadata": {},
   "outputs": [],
   "source": [
    "# Adding the second hidden layer\n",
    "\n",
    "ann.add(tf.keras.layers.Dense(units = 7, activation = 'relu'))"
   ]
  },
  {
   "cell_type": "code",
   "execution_count": 83,
   "id": "b00a0a67",
   "metadata": {},
   "outputs": [],
   "source": [
    "# Adding the third hidden layer\n",
    "\n",
    "ann.add(tf.keras.layers.Dense(units = 7, activation = 'relu'))"
   ]
  },
  {
   "cell_type": "code",
   "execution_count": 84,
   "id": "2802d88e",
   "metadata": {},
   "outputs": [],
   "source": [
    "# Adding the fourth hidden layer\n",
    "\n",
    "ann.add(tf.keras.layers.Dense(units = 7, activation = 'relu'))"
   ]
  },
  {
   "cell_type": "code",
   "execution_count": 85,
   "id": "925a3b05",
   "metadata": {},
   "outputs": [],
   "source": [
    "# Adding the output layer\n",
    "\n",
    "ann.add(tf.keras.layers.Dense(units = 1, activation = 'sigmoid'))"
   ]
  },
  {
   "cell_type": "code",
   "execution_count": 86,
   "id": "751f7800",
   "metadata": {},
   "outputs": [],
   "source": [
    "# Compiling the ANN\n",
    "\n",
    "ann.compile(optimizer = 'adam', loss = 'binary_crossentropy' , metrics = ['accuracy'] )"
   ]
  },
  {
   "cell_type": "code",
   "execution_count": 87,
   "id": "10bc009a",
   "metadata": {},
   "outputs": [
    {
     "name": "stdout",
     "output_type": "stream",
     "text": [
      "Epoch 1/100\n",
      "13/13 [==============================] - 1s 2ms/step - loss: 0.7140 - accuracy: 0.4010\n",
      "Epoch 2/100\n",
      "13/13 [==============================] - 0s 2ms/step - loss: 0.6795 - accuracy: 0.6232\n",
      "Epoch 3/100\n",
      "13/13 [==============================] - 0s 2ms/step - loss: 0.6557 - accuracy: 0.8019\n",
      "Epoch 4/100\n",
      "13/13 [==============================] - 0s 2ms/step - loss: 0.6377 - accuracy: 0.8406\n",
      "Epoch 5/100\n",
      "13/13 [==============================] - 0s 2ms/step - loss: 0.6238 - accuracy: 0.8454\n",
      "Epoch 6/100\n",
      "13/13 [==============================] - 0s 2ms/step - loss: 0.6114 - accuracy: 0.8454\n",
      "Epoch 7/100\n",
      "13/13 [==============================] - 0s 2ms/step - loss: 0.6003 - accuracy: 0.8502\n",
      "Epoch 8/100\n",
      "13/13 [==============================] - 0s 2ms/step - loss: 0.5885 - accuracy: 0.8357\n",
      "Epoch 9/100\n",
      "13/13 [==============================] - 0s 2ms/step - loss: 0.5770 - accuracy: 0.8454\n",
      "Epoch 10/100\n",
      "13/13 [==============================] - 0s 2ms/step - loss: 0.5657 - accuracy: 0.8454\n",
      "Epoch 11/100\n",
      "13/13 [==============================] - 0s 2ms/step - loss: 0.5540 - accuracy: 0.8454\n",
      "Epoch 12/100\n",
      "13/13 [==============================] - 0s 2ms/step - loss: 0.5419 - accuracy: 0.8454\n",
      "Epoch 13/100\n",
      "13/13 [==============================] - 0s 2ms/step - loss: 0.5294 - accuracy: 0.8454\n",
      "Epoch 14/100\n",
      "13/13 [==============================] - 0s 2ms/step - loss: 0.5168 - accuracy: 0.8502\n",
      "Epoch 15/100\n",
      "13/13 [==============================] - 0s 2ms/step - loss: 0.5034 - accuracy: 0.8502\n",
      "Epoch 16/100\n",
      "13/13 [==============================] - 0s 2ms/step - loss: 0.4916 - accuracy: 0.8502\n",
      "Epoch 17/100\n",
      "13/13 [==============================] - 0s 2ms/step - loss: 0.4778 - accuracy: 0.8551\n",
      "Epoch 18/100\n",
      "13/13 [==============================] - 0s 2ms/step - loss: 0.4643 - accuracy: 0.8551\n",
      "Epoch 19/100\n",
      "13/13 [==============================] - 0s 2ms/step - loss: 0.4504 - accuracy: 0.8551\n",
      "Epoch 20/100\n",
      "13/13 [==============================] - 0s 2ms/step - loss: 0.4376 - accuracy: 0.8599\n",
      "Epoch 21/100\n",
      "13/13 [==============================] - 0s 2ms/step - loss: 0.4242 - accuracy: 0.8696\n",
      "Epoch 22/100\n",
      "13/13 [==============================] - 0s 2ms/step - loss: 0.4122 - accuracy: 0.8696\n",
      "Epoch 23/100\n",
      "13/13 [==============================] - 0s 2ms/step - loss: 0.4012 - accuracy: 0.8696\n",
      "Epoch 24/100\n",
      "13/13 [==============================] - 0s 2ms/step - loss: 0.3909 - accuracy: 0.8696\n",
      "Epoch 25/100\n",
      "13/13 [==============================] - 0s 2ms/step - loss: 0.3811 - accuracy: 0.8696\n",
      "Epoch 26/100\n",
      "13/13 [==============================] - 0s 2ms/step - loss: 0.3730 - accuracy: 0.8792\n",
      "Epoch 27/100\n",
      "13/13 [==============================] - 0s 2ms/step - loss: 0.3662 - accuracy: 0.8744\n",
      "Epoch 28/100\n",
      "13/13 [==============================] - 0s 2ms/step - loss: 0.3581 - accuracy: 0.8744\n",
      "Epoch 29/100\n",
      "13/13 [==============================] - 0s 2ms/step - loss: 0.3529 - accuracy: 0.8744\n",
      "Epoch 30/100\n",
      "13/13 [==============================] - 0s 4ms/step - loss: 0.3465 - accuracy: 0.8744\n",
      "Epoch 31/100\n",
      "13/13 [==============================] - 0s 2ms/step - loss: 0.3423 - accuracy: 0.8744\n",
      "Epoch 32/100\n",
      "13/13 [==============================] - 0s 2ms/step - loss: 0.3382 - accuracy: 0.8744\n",
      "Epoch 33/100\n",
      "13/13 [==============================] - 0s 2ms/step - loss: 0.3345 - accuracy: 0.8744\n",
      "Epoch 34/100\n",
      "13/13 [==============================] - 0s 2ms/step - loss: 0.3320 - accuracy: 0.8744\n",
      "Epoch 35/100\n",
      "13/13 [==============================] - 0s 2ms/step - loss: 0.3285 - accuracy: 0.8841\n",
      "Epoch 36/100\n",
      "13/13 [==============================] - 0s 2ms/step - loss: 0.3259 - accuracy: 0.8792\n",
      "Epoch 37/100\n",
      "13/13 [==============================] - 0s 2ms/step - loss: 0.3243 - accuracy: 0.8792\n",
      "Epoch 38/100\n",
      "13/13 [==============================] - 0s 2ms/step - loss: 0.3223 - accuracy: 0.8792\n",
      "Epoch 39/100\n",
      "13/13 [==============================] - 0s 2ms/step - loss: 0.3203 - accuracy: 0.8792\n",
      "Epoch 40/100\n",
      "13/13 [==============================] - 0s 2ms/step - loss: 0.3179 - accuracy: 0.8792\n",
      "Epoch 41/100\n",
      "13/13 [==============================] - 0s 2ms/step - loss: 0.3165 - accuracy: 0.8841\n",
      "Epoch 42/100\n",
      "13/13 [==============================] - 0s 2ms/step - loss: 0.3151 - accuracy: 0.8889\n",
      "Epoch 43/100\n",
      "13/13 [==============================] - 0s 2ms/step - loss: 0.3138 - accuracy: 0.8841\n",
      "Epoch 44/100\n",
      "13/13 [==============================] - 0s 2ms/step - loss: 0.3124 - accuracy: 0.8841\n",
      "Epoch 45/100\n",
      "13/13 [==============================] - 0s 2ms/step - loss: 0.3123 - accuracy: 0.8889\n",
      "Epoch 46/100\n",
      "13/13 [==============================] - 0s 2ms/step - loss: 0.3104 - accuracy: 0.8889\n",
      "Epoch 47/100\n",
      "13/13 [==============================] - 0s 2ms/step - loss: 0.3096 - accuracy: 0.8889\n",
      "Epoch 48/100\n",
      "13/13 [==============================] - 0s 2ms/step - loss: 0.3091 - accuracy: 0.8889\n",
      "Epoch 49/100\n",
      "13/13 [==============================] - 0s 2ms/step - loss: 0.3076 - accuracy: 0.8889\n",
      "Epoch 50/100\n",
      "13/13 [==============================] - 0s 2ms/step - loss: 0.3071 - accuracy: 0.8889\n",
      "Epoch 51/100\n",
      "13/13 [==============================] - 0s 2ms/step - loss: 0.3067 - accuracy: 0.8889\n",
      "Epoch 52/100\n",
      "13/13 [==============================] - 0s 2ms/step - loss: 0.3057 - accuracy: 0.8889\n",
      "Epoch 53/100\n",
      "13/13 [==============================] - 0s 2ms/step - loss: 0.3046 - accuracy: 0.8889\n",
      "Epoch 54/100\n",
      "13/13 [==============================] - 0s 2ms/step - loss: 0.3048 - accuracy: 0.8889\n",
      "Epoch 55/100\n",
      "13/13 [==============================] - 0s 2ms/step - loss: 0.3034 - accuracy: 0.8889\n",
      "Epoch 56/100\n",
      "13/13 [==============================] - 0s 2ms/step - loss: 0.3032 - accuracy: 0.8889\n",
      "Epoch 57/100\n",
      "13/13 [==============================] - 0s 2ms/step - loss: 0.3020 - accuracy: 0.8889\n",
      "Epoch 58/100\n",
      "13/13 [==============================] - 0s 2ms/step - loss: 0.3014 - accuracy: 0.8889\n",
      "Epoch 59/100\n",
      "13/13 [==============================] - 0s 2ms/step - loss: 0.3006 - accuracy: 0.8937\n",
      "Epoch 60/100\n",
      "13/13 [==============================] - 0s 2ms/step - loss: 0.3000 - accuracy: 0.8986\n",
      "Epoch 61/100\n",
      "13/13 [==============================] - 0s 2ms/step - loss: 0.2993 - accuracy: 0.8937\n",
      "Epoch 62/100\n",
      "13/13 [==============================] - 0s 2ms/step - loss: 0.2985 - accuracy: 0.8986\n",
      "Epoch 63/100\n",
      "13/13 [==============================] - 0s 2ms/step - loss: 0.2980 - accuracy: 0.8986\n",
      "Epoch 64/100\n",
      "13/13 [==============================] - 0s 2ms/step - loss: 0.2968 - accuracy: 0.8986\n",
      "Epoch 65/100\n",
      "13/13 [==============================] - 0s 2ms/step - loss: 0.2959 - accuracy: 0.8986\n",
      "Epoch 66/100\n",
      "13/13 [==============================] - 0s 2ms/step - loss: 0.2956 - accuracy: 0.8986\n",
      "Epoch 67/100\n",
      "13/13 [==============================] - 0s 2ms/step - loss: 0.2953 - accuracy: 0.8937\n",
      "Epoch 68/100\n",
      "13/13 [==============================] - 0s 2ms/step - loss: 0.2942 - accuracy: 0.8937\n",
      "Epoch 69/100\n",
      "13/13 [==============================] - 0s 2ms/step - loss: 0.2939 - accuracy: 0.8986\n",
      "Epoch 70/100\n",
      "13/13 [==============================] - 0s 2ms/step - loss: 0.2941 - accuracy: 0.8937\n",
      "Epoch 71/100\n",
      "13/13 [==============================] - 0s 2ms/step - loss: 0.2937 - accuracy: 0.8937\n",
      "Epoch 72/100\n",
      "13/13 [==============================] - 0s 2ms/step - loss: 0.2927 - accuracy: 0.8937\n",
      "Epoch 73/100\n",
      "13/13 [==============================] - 0s 2ms/step - loss: 0.2926 - accuracy: 0.8986\n",
      "Epoch 74/100\n",
      "13/13 [==============================] - 0s 2ms/step - loss: 0.2915 - accuracy: 0.8937\n",
      "Epoch 75/100\n",
      "13/13 [==============================] - 0s 2ms/step - loss: 0.2924 - accuracy: 0.8937\n",
      "Epoch 76/100\n",
      "13/13 [==============================] - 0s 2ms/step - loss: 0.2911 - accuracy: 0.8937\n",
      "Epoch 77/100\n",
      "13/13 [==============================] - 0s 2ms/step - loss: 0.2911 - accuracy: 0.8937\n",
      "Epoch 78/100\n",
      "13/13 [==============================] - 0s 2ms/step - loss: 0.2905 - accuracy: 0.8937\n",
      "Epoch 79/100\n",
      "13/13 [==============================] - 0s 2ms/step - loss: 0.2901 - accuracy: 0.8986\n",
      "Epoch 80/100\n",
      "13/13 [==============================] - 0s 2ms/step - loss: 0.2900 - accuracy: 0.8986\n",
      "Epoch 81/100\n",
      "13/13 [==============================] - 0s 2ms/step - loss: 0.2896 - accuracy: 0.8937\n",
      "Epoch 82/100\n",
      "13/13 [==============================] - 0s 2ms/step - loss: 0.2894 - accuracy: 0.8937\n",
      "Epoch 83/100\n"
     ]
    },
    {
     "name": "stdout",
     "output_type": "stream",
     "text": [
      "13/13 [==============================] - 0s 2ms/step - loss: 0.2892 - accuracy: 0.8937\n",
      "Epoch 84/100\n",
      "13/13 [==============================] - 0s 2ms/step - loss: 0.2884 - accuracy: 0.8986\n",
      "Epoch 85/100\n",
      "13/13 [==============================] - 0s 2ms/step - loss: 0.2883 - accuracy: 0.8986\n",
      "Epoch 86/100\n",
      "13/13 [==============================] - 0s 2ms/step - loss: 0.2888 - accuracy: 0.8986\n",
      "Epoch 87/100\n",
      "13/13 [==============================] - 0s 2ms/step - loss: 0.2879 - accuracy: 0.9034\n",
      "Epoch 88/100\n",
      "13/13 [==============================] - 0s 2ms/step - loss: 0.2881 - accuracy: 0.8986\n",
      "Epoch 89/100\n",
      "13/13 [==============================] - 0s 2ms/step - loss: 0.2877 - accuracy: 0.8986\n",
      "Epoch 90/100\n",
      "13/13 [==============================] - 0s 2ms/step - loss: 0.2873 - accuracy: 0.8986\n",
      "Epoch 91/100\n",
      "13/13 [==============================] - 0s 2ms/step - loss: 0.2868 - accuracy: 0.9034\n",
      "Epoch 92/100\n",
      "13/13 [==============================] - 0s 2ms/step - loss: 0.2868 - accuracy: 0.9034\n",
      "Epoch 93/100\n",
      "13/13 [==============================] - 0s 2ms/step - loss: 0.2860 - accuracy: 0.8986\n",
      "Epoch 94/100\n",
      "13/13 [==============================] - 0s 2ms/step - loss: 0.2866 - accuracy: 0.9034\n",
      "Epoch 95/100\n",
      "13/13 [==============================] - 0s 2ms/step - loss: 0.2862 - accuracy: 0.8986\n",
      "Epoch 96/100\n",
      "13/13 [==============================] - 0s 2ms/step - loss: 0.2865 - accuracy: 0.8986\n",
      "Epoch 97/100\n",
      "13/13 [==============================] - 0s 2ms/step - loss: 0.2862 - accuracy: 0.8986\n",
      "Epoch 98/100\n",
      "13/13 [==============================] - 0s 2ms/step - loss: 0.2855 - accuracy: 0.8986\n",
      "Epoch 99/100\n",
      "13/13 [==============================] - 0s 2ms/step - loss: 0.2847 - accuracy: 0.8986\n",
      "Epoch 100/100\n",
      "13/13 [==============================] - 0s 2ms/step - loss: 0.2844 - accuracy: 0.8986\n"
     ]
    },
    {
     "data": {
      "text/plain": [
       "<keras.callbacks.History at 0x28ac44b7e20>"
      ]
     },
     "execution_count": 87,
     "metadata": {},
     "output_type": "execute_result"
    }
   ],
   "source": [
    "# Training the ANN on the training set\n",
    "\n",
    "ann.fit(x_train, y_train, batch_size = 16, epochs = 100)"
   ]
  },
  {
   "cell_type": "code",
   "execution_count": 88,
   "id": "77c0a70a",
   "metadata": {},
   "outputs": [
    {
     "name": "stdout",
     "output_type": "stream",
     "text": [
      "3/3 [==============================] - 0s 2ms/step\n"
     ]
    }
   ],
   "source": [
    "# Predicting the test set results\n",
    "\n",
    "y_pred = ann.predict(x_test)\n",
    "y_pred = (y_pred > 0.5)\n",
    "np.set_printoptions()"
   ]
  },
  {
   "cell_type": "code",
   "execution_count": 89,
   "id": "eaaee060",
   "metadata": {},
   "outputs": [
    {
     "name": "stdout",
     "output_type": "stream",
     "text": [
      "Confusion Matrix\n",
      "[[55  7]\n",
      " [12 16]]\n",
      "\n",
      "Accuracy\n",
      "0.7888888888888889\n"
     ]
    }
   ],
   "source": [
    "# Making the confusion matrix, calculating accuracy_score \n",
    "\n",
    "from sklearn.metrics import confusion_matrix, accuracy_score\n",
    "\n",
    "# confusion matrix\n",
    "cm = confusion_matrix(y_test,y_pred)\n",
    "print(\"Confusion Matrix\")\n",
    "print(cm)\n",
    "print()\n",
    "\n",
    "# accuracy\n",
    "ac_ann = accuracy_score(y_test,y_pred)\n",
    "print(\"Accuracy\")\n",
    "print(ac_ann)\n",
    "mylist.append(ac_ann)"
   ]
  },
  {
   "cell_type": "markdown",
   "id": "4cda2edc",
   "metadata": {},
   "source": [
    "# Accuracy Compare "
   ]
  },
  {
   "cell_type": "code",
   "execution_count": 90,
   "id": "2b6f3102",
   "metadata": {},
   "outputs": [
    {
     "data": {
      "text/html": [
       "<div>\n",
       "<style scoped>\n",
       "    .dataframe tbody tr th:only-of-type {\n",
       "        vertical-align: middle;\n",
       "    }\n",
       "\n",
       "    .dataframe tbody tr th {\n",
       "        vertical-align: top;\n",
       "    }\n",
       "\n",
       "    .dataframe thead th {\n",
       "        text-align: right;\n",
       "    }\n",
       "</style>\n",
       "<table border=\"1\" class=\"dataframe\">\n",
       "  <thead>\n",
       "    <tr style=\"text-align: right;\">\n",
       "      <th></th>\n",
       "      <th>Model</th>\n",
       "      <th>Score</th>\n",
       "    </tr>\n",
       "  </thead>\n",
       "  <tbody>\n",
       "    <tr>\n",
       "      <th>5</th>\n",
       "      <td>Decision Tree</td>\n",
       "      <td>0.811111</td>\n",
       "    </tr>\n",
       "    <tr>\n",
       "      <th>1</th>\n",
       "      <td>KNN</td>\n",
       "      <td>0.788889</td>\n",
       "    </tr>\n",
       "    <tr>\n",
       "      <th>3</th>\n",
       "      <td>Random Forest</td>\n",
       "      <td>0.788889</td>\n",
       "    </tr>\n",
       "    <tr>\n",
       "      <th>4</th>\n",
       "      <td>ANN</td>\n",
       "      <td>0.788889</td>\n",
       "    </tr>\n",
       "    <tr>\n",
       "      <th>0</th>\n",
       "      <td>Support Vector Machines</td>\n",
       "      <td>0.766667</td>\n",
       "    </tr>\n",
       "    <tr>\n",
       "      <th>2</th>\n",
       "      <td>Logistic Regression</td>\n",
       "      <td>0.766667</td>\n",
       "    </tr>\n",
       "  </tbody>\n",
       "</table>\n",
       "</div>"
      ],
      "text/plain": [
       "                     Model     Score\n",
       "5            Decision Tree  0.811111\n",
       "1                      KNN  0.788889\n",
       "3            Random Forest  0.788889\n",
       "4                      ANN  0.788889\n",
       "0  Support Vector Machines  0.766667\n",
       "2      Logistic Regression  0.766667"
      ]
     },
     "execution_count": 90,
     "metadata": {},
     "output_type": "execute_result"
    }
   ],
   "source": [
    "models = pd.DataFrame({\n",
    "    'Model': ['Support Vector Machines', 'KNN', 'Logistic Regression', \n",
    "              'Random Forest', 'ANN',   \n",
    "              'Decision Tree'],\n",
    "    'Score': [acc_svc, acc_knn, acc_logreg, \n",
    "              acc_randomforest, ac_ann, acc_decisiontree\n",
    "              ]})\n",
    "models.sort_values(by='Score', ascending=False)"
   ]
  },
  {
   "cell_type": "code",
   "execution_count": 91,
   "id": "27765507",
   "metadata": {},
   "outputs": [
    {
     "name": "stderr",
     "output_type": "stream",
     "text": [
      "C:\\Users\\91825\\AppData\\Local\\Temp/ipykernel_17552/807876981.py:3: FutureWarning:\n",
      "\n",
      "\n",
      "\n",
      "Passing `palette` without assigning `hue` is deprecated and will be removed in v0.14.0. Assign the `x` variable to `hue` and set `legend=False` for the same effect.\n",
      "\n",
      "\n"
     ]
    },
    {
     "data": {
      "image/png": "[encoded data removed]",
      "text/plain": [
       "<Figure size 1080x432 with 1 Axes>"
      ]
     },
     "metadata": {},
     "output_type": "display_data"
    }
   ],
   "source": [
    "plt.rcParams['figure.figsize']=15,6 \n",
    "sns.set_style(\"darkgrid\")\n",
    "ax = sns.barplot(x=models.Model, y=models.Score, palette = \"rocket\", saturation =1.5)\n",
    "plt.xlabel(\"Classifier Models\", fontsize = 20 )\n",
    "plt.ylabel(\"% of Accuracy\", fontsize = 20)\n",
    "plt.title(\"Accuracy of different Classifier Models\", fontsize = 20)\n",
    "plt.xticks(fontsize = 12, horizontalalignment = 'center', rotation = 8)\n",
    "plt.yticks(fontsize = 13)\n",
    "for p in ax.patches:\n",
    "    width, height = p.get_width(), p.get_height()\n",
    "    x, y = p.get_xy() \n",
    "    ax.annotate(f'{height:.2%}', (x + width/2, y + height*1.02), ha='center', fontsize = 'x-large')\n",
    "plt.show()"
   ]
  },
  {
   "cell_type": "code",
   "execution_count": null,
   "id": "51bd5e93",
   "metadata": {},
   "outputs": [],
   "source": []
  }
 ],
 "metadata": {
  "kernelspec": {
   "display_name": "Python 3 (ipykernel)",
   "language": "python",
   "name": "python3"
  },
  "language_info": {
   "codemirror_mode": {
    "name": "ipython",
    "version": 3
   },
   "file_extension": ".py",
   "mimetype": "text/x-python",
   "name": "python",
   "nbconvert_exporter": "python",
   "pygments_lexer": "ipython3",
   "version": "3.9.7"
  }
 },
 "nbformat": 4,
 "nbformat_minor": 5
}
